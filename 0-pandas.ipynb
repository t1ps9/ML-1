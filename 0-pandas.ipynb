{
 "cells": [
  {
   "cell_type": "markdown",
   "metadata": {
    "id": "ARoAqlMbArNx"
   },
   "source": [
    "# Домашнее задание 1\n",
    "\n",
    "**Выполнил:** Нигматзянов Тимур Азатович\n",
    "\n",
    "**На сколько выполнил:** <Укажите, на сколько баллов по вашему мнению вы сделали>"
   ]
  },
  {
   "cell_type": "markdown",
   "metadata": {
    "id": "V9LS6Z01Dcsq"
   },
   "source": [
    "**Правила игры:**\n",
    "\n",
    "* возле каждой задачи указано число баллов (в сококупности можно получить 10 баллов)\n",
    "\n",
    "* дополнительные задачи выделены звездочкой (также указано число баллов). Данные баллы можно будет использовать для улучшения результата за любое домашнее задание\n",
    "\n",
    "* все подсчеты необходимо делать с помощью pandas-numpy (использовать как можно меньше циклов, за использование циклов, где это не требуются, будем штрафовать)\n",
    "\n",
    "* для визуализации можно использовать matplotlib-seaborn-plotly (учтите, что все графики должны выглядеть опрятно, иметь название-подписи, за нечитабельные графики будем штрафовать)\n",
    "\n",
    "* возможно, что в данных есть пустоты и невалидные значения. Перед началом любой работы необходимо исследовать, и если такие есть, убрать их\n",
    "\n",
    "* соблюдайте чистоту кода: переменные должны быть осмысленными, не повторяйтесь, если в этом нет необходимости (иначе используйте функции). Чем чище код - тем проще нам поставить вам хорошую оценку :)\n",
    "\n",
    "* общая рекомендация: на вопросы со звездочкой отвечать в самом конце, возможно, будет проще)"
   ]
  },
  {
   "cell_type": "markdown",
   "metadata": {
    "id": "7IJVSWwiA3j5"
   },
   "source": [
    "## Данные "
   ]
  },
  {
   "cell_type": "markdown",
   "metadata": {
    "id": "TBeriAVkA5uJ"
   },
   "source": [
    "В этом домашнем задании вам придется оказаться на месте аналитика в бразильском маркетплейсе [Olist](https://olist.com/pt-br/). Вам необходимо исследовать данные и на их основании сделать выводы, которые помогут бизнесу расцветать!\n",
    "\n",
    "Данные находятся тут: (будет ссылка)"
   ]
  },
  {
   "cell_type": "markdown",
   "metadata": {
    "id": "KKjQDN3VDDGa"
   },
   "source": [
    "Ван дано 9 датасетов, которые содержат в себе все данные по 100 000 заказам со всей Бразилии. Чтобы облегчить вам жизнь, вот связи по этим датасетам (файл product_category_name_translation является переводом названий категорий с португальского на английский)"
   ]
  },
  {
   "cell_type": "markdown",
   "metadata": {
    "id": "cKOQJO1_C9MA"
   },
   "source": [
    "![](https://i.imgur.com/HRhd2Y0.png)"
   ]
  },
  {
   "cell_type": "markdown",
   "metadata": {
    "id": "Hsz3LJm5Dzv3"
   },
   "source": [
    "Ну что же, начнем, пожалуй!"
   ]
  },
  {
   "cell_type": "markdown",
   "metadata": {
    "id": "b2mqJGRpYVx6"
   },
   "source": [
    "## Задание 1 (0.4 балла)\n",
    "\n",
    "Определите:\n",
    "\n",
    "* Число товаров\n",
    "* Среднюю стоимость товара\n",
    "\n",
    "в разрезе категорий (все категории должны быть на английском языке)"
   ]
  },
  {
   "cell_type": "code",
   "execution_count": null,
   "metadata": {},
   "outputs": [],
   "source": [
    "import pandas as pd\n",
    "import numpy as np\n",
    "\n",
    "import matplotlib.pyplot as plt\n",
    "import seaborn as sns\n",
    "from dateutil.parser import parse"
   ]
  },
  {
   "cell_type": "code",
   "execution_count": null,
   "metadata": {},
   "outputs": [],
   "source": [
    "customer = pd.read_csv('/Users/timurkin/Downloads/archive/olist_customers_dataset.csv')\n",
    "pay =  pd.read_csv('/Users/timurkin/Downloads/archive/olist_order_payments_dataset.csv')\n",
    "products =  pd.read_csv('/Users/timurkin/Downloads/archive/olist_products_dataset.csv')\n",
    "items = pd.read_csv('/Users/timurkin/Downloads/archive/olist_order_items_dataset.csv')\n",
    "orders =  pd.read_csv('/Users/timurkin/Downloads/archive/olist_orders_dataset.csv')\n",
    "reviews =  pd.read_csv('/Users/timurkin/Downloads/archive/olist_order_reviews_dataset.csv')\n",
    "sellers =  pd.read_csv('/Users/timurkin/Downloads/archive/olist_sellers_dataset.csv')\n",
    "geolocation = pd.read_csv('/Users/timurkin/Downloads/archive/olist_geolocation_dataset.csv')\n",
    "trans = pd.read_csv('/Users/timurkin/Downloads/archive/product_category_name_translation.csv')"
   ]
  },
  {
   "cell_type": "code",
   "execution_count": null,
   "metadata": {},
   "outputs": [],
   "source": [
    "#customer.sample(5)\n",
    "#pay.sample(5)\n",
    "#products.sample(25)\n",
    "#items.sample(5)\n",
    "# orders.sample(5)\n",
    "#reviews.sample(5)\n",
    "# sellers.sample(5)\n",
    "# geolocation.sample(5)\n",
    "# name.sample(20)"
   ]
  },
  {
   "cell_type": "code",
   "execution_count": null,
   "metadata": {},
   "outputs": [],
   "source": [
    "answer = pd.merge(pd.merge(items, products, on = ['product_id']), trans, on = ['product_category_name'])\n",
    "answer.sample(10)"
   ]
  },
  {
   "cell_type": "code",
   "execution_count": null,
   "metadata": {},
   "outputs": [],
   "source": [
    "print('Получили среднюю цену и количество каждого товара:')\n",
    "answer = answer.groupby('product_category_name_english').agg({'price':'mean','product_id':'count'})\\\n",
    ".reset_index().sort_values('price', ascending = True)\\\n",
    ".rename(columns = {'product_category_name_english':'english_name', 'price':'mean_price','product_id':'count'})\n",
    "answer.head(len(answer))\n"
   ]
  },
  {
   "cell_type": "code",
   "execution_count": null,
   "metadata": {},
   "outputs": [],
   "source": [
    "fig, ax = plt.subplots(figsize=(12, 20))\n",
    "\n",
    "sns.barplot(data = answer, x = 'count', y  = 'english_name')\n",
    "plt.title('Число товаров', fontsize = 18)\n",
    "plt.xlabel('количество', fontsize = 15)\n",
    "plt.ylabel('название', fontsize = 15)\n",
    "ax.bar_label(ax.containers[0], label_type = 'edge')\n",
    "ax.margins(y = 0.01)"
   ]
  },
  {
   "cell_type": "code",
   "execution_count": null,
   "metadata": {},
   "outputs": [],
   "source": [
    "fig, ax = plt.subplots(figsize=(14, 20))\n",
    "\n",
    "sns.barplot(data = answer, x = 'mean_price', y  = 'english_name')\n",
    "plt.title('Средняя цена', fontsize = 18)\n",
    "plt.xlabel('средняя цена', fontsize = 15)\n",
    "plt.ylabel('название', fontsize = 15)\n",
    "ax.bar_label(ax.containers[0], label_type = 'edge')\n",
    "ax.margins(y = 0.01)"
   ]
  },
  {
   "cell_type": "markdown",
   "metadata": {
    "id": "Qwla1I91drgU"
   },
   "source": [
    "## Задание 2 (1,5 балла)\n",
    "\n",
    "Определите для каждого продавца основную категорию их продаж.\n",
    "\n",
    "Отобразите категории по числу продавцов, для которых данная категория основная, а также создайте график, по которому можно выбрать отдельно штат и посмотреть такое же распределение\n",
    "\n"
   ]
  },
  {
   "cell_type": "code",
   "execution_count": null,
   "metadata": {},
   "outputs": [],
   "source": [
    "#2.1 merge по нужным и далее нахожу mode по категории (получаю ответ на первый пункт)\n",
    "main_category = pd.merge(pd.merge(products, items, on = 'product_id'), trans, on = 'product_category_name')\\\n",
    ".rename(columns = {'product_category_name_english':'name'})\n",
    "state = main_category #для графика\n",
    "main_category = main_category.groupby('seller_id')['name'].agg(pd.Series.mode).explode().reset_index()\n",
    "main_category.head(len(main_category))\n",
    "                                                                                                          "
   ]
  },
  {
   "cell_type": "code",
   "execution_count": null,
   "metadata": {},
   "outputs": [],
   "source": [
    "#2.2 категории по числу продавцов - график\n",
    "\n",
    "main_sellers = main_category.groupby('name')['seller_id'].count().reset_index()\\\n",
    ".rename(columns = {'seller_id':'seller_count'})\n",
    "\n",
    "fig, ax = plt.subplots(figsize=(12, 20))\n",
    "\n",
    "sns.barplot(data = main_sellers, x = 'seller_count', y = 'name')\n",
    "ax.bar_label(ax.containers[0], label_type = 'edge')\n",
    "ax.margins(y = 0.01)\n",
    "\n"
   ]
  },
  {
   "cell_type": "code",
   "execution_count": null,
   "metadata": {},
   "outputs": [],
   "source": [
    "#2.2 категории по числу продавцов - таблица\n",
    "main_sellers.head(len(main_sellers))"
   ]
  },
  {
   "cell_type": "code",
   "execution_count": null,
   "metadata": {},
   "outputs": [],
   "source": [
    "# 2.3\n",
    "breakdown_state = pd.merge(pd.merge(products, items, on = 'product_id'), trans, on = 'product_category_name')\\\n",
    ".rename(columns = {'product_category_name_english':'name'})\n",
    "# breakdown_state.head(10)\n",
    "breakdown_state = pd.merge(breakdown_state, sellers, on = 'seller_id')\n",
    "breakdown_state.drop(breakdown_state.columns.difference(['seller_id','name','seller_state']), axis = 1, inplace = True)\n",
    "breakdown_state = breakdown_state.groupby('seller_id')['name'].agg(pd.Series.mode).explode().reset_index()\n",
    "breakdown_state = pd.merge(breakdown_state,sellers, on = 'seller_id')\n",
    "\n",
    "breakdown_state = breakdown_state.groupby(['name', 'seller_state'])['seller_id'].count().reset_index()\\\n",
    ".rename(columns = {'seller_id':'count_seller'}).sort_values('name')\n",
    "\n",
    "breakdown_state.head(len(main_category))\n",
    "# breakdown_state.seller_state.unique()"
   ]
  },
  {
   "cell_type": "code",
   "execution_count": null,
   "metadata": {},
   "outputs": [],
   "source": [
    "import plotly.graph_objects as go\n",
    "from matplotlib.widgets import RadioButtons\n",
    "from IPython.display import display\n",
    "import seaborn as sns\n",
    "import ipywidgets\n",
    "\n",
    "\n",
    "\n",
    "\n",
    "\n",
    "cols = ['AC', 'AM', 'BA', 'CE', 'DF', 'ES', 'GO', 'MA', 'MG', 'MS', 'MT',\n",
    "       'PA', 'PB', 'PE', 'PI', 'PR', 'RJ', 'RN', 'RO', 'RS', 'SC', 'SE',\n",
    "       'SP']\n",
    "\n",
    "\n",
    "h = ipywidgets.Dropdown(options = cols, \n",
    "                                  value = 'GO', \n",
    "                                  description = 'State:')\n",
    "\n",
    "def hist(i):\n",
    "    ax = sns.barplot(x =  breakdown_state[breakdown_state['seller_state'] == str(i)].count_seller,\n",
    "                y = breakdown_state[breakdown_state['seller_state'] == str(i)].name, capsize=15)\n",
    "    ax.bar_label(ax.containers[0])\n",
    "\n",
    "ipywidgets.interact(hist, i = h)\n"
   ]
  },
  {
   "cell_type": "markdown",
   "metadata": {
    "id": "F5Alu7yBboG2"
   },
   "source": [
    "## Задание 3 (1,5 балл)\n",
    "\n",
    "Покажите процент\n",
    "\n",
    "* суммы покупок в деньгах\n",
    "\n",
    "* суммы покупок в штуках\n",
    "\n",
    "по категории для доставленных заказов, а также разбивку по штатам"
   ]
  },
  {
   "cell_type": "code",
   "execution_count": null,
   "metadata": {},
   "outputs": [],
   "source": [
    "#процент суммы покупок в деньгах и в штуках для доставленных заказов по категории заказов (таблица)\n",
    "buy = pd.merge(pd.merge(pd.merge(pd.merge(items, products, on = 'product_id'), trans, on = 'product_category_name'), orders, on = 'order_id'), customer , on = 'customer_id')\n",
    "\n",
    "buy.drop(buy.columns.difference(['order_id','price','order_status', 'customer_state', 'product_category_name_english']), axis = 1, inplace = True)\n",
    "buy = buy[buy.order_status == 'delivered']\n",
    "\n",
    "buy_1 = buy\n",
    "buy_1 = buy_1.groupby(['product_category_name_english','order_status']).agg({'price':'count'}).reset_index()\n",
    "buy_1['procent_things'] = (buy_1['price'] / buy_1['price'].sum()) * 100\n",
    "\n",
    "\n",
    "buy = buy.groupby(['product_category_name_english', 'order_status']).agg({'price':'sum'}).reset_index()\n",
    "buy['procent_cost'] = (buy['price'] / buy['price'].sum()) * 100\n",
    "\n",
    "buy = pd.merge(buy_1, buy, on = 'product_category_name_english')\n",
    "buy.drop(buy.columns.difference(['product_category_name_english','procent_cost','procent_things']), axis = 1, inplace = True)\n",
    "\n",
    "buy.head(len(buy))\n"
   ]
  },
  {
   "cell_type": "code",
   "execution_count": null,
   "metadata": {},
   "outputs": [],
   "source": [
    "#процент суммы покупок в деньгах и в штуках для доставленных заказов по категории заказов (график)\n",
    "\n",
    "buy.plot.bar(x = 'product_category_name_english', rot = -90, color = ['blue', 'red'], figsize = (15,7))\n",
    "plt.title('Процент суммы денег и штук для различных категорий товаров', fontsize = 18)\n",
    "\n",
    "plt.xlabel('название', fontsize = 14)\n",
    "plt.ylabel('процент', fontsize = 14)\n",
    "plt.show()"
   ]
  },
  {
   "cell_type": "code",
   "execution_count": null,
   "metadata": {},
   "outputs": [],
   "source": [
    "#процент суммы покупок в деньгах для доставленных заказов по различным штатов (таблица)\n",
    "buy_2 = pd.merge(pd.merge(pd.merge(pd.merge(items, products, on = 'product_id'), trans, on = 'product_category_name'), orders, on = 'order_id'), customer , on = 'customer_id')\n",
    "buy_2.drop(buy_2.columns.difference(['price','order_status', 'customer_state', 'product_category_name_english']), axis = 1, inplace = True)\n",
    "buy_2 = buy_2[buy_2.order_status == 'delivered']\n",
    "\n",
    "buy_3 = buy_2\n",
    "buy_3 = buy_3.groupby(['customer_state','order_status']).agg({'price':'count'}).reset_index()\n",
    "buy_3['procent_things'] = (buy_3['price'] / buy_3['price'].sum()) * 100\n",
    "\n",
    "buy_2 = buy_2.groupby(['customer_state','order_status']).agg({'price':'sum'}).reset_index()\n",
    "buy_2['procent_cost'] = (buy_2['price'] / buy_2['price'].sum()) * 100\n",
    "\n",
    "buy_2 = pd.merge(buy_2, buy_3, on = 'customer_state')\n",
    "buy_2.drop(buy_2.columns.difference(['customer_state','procent_cost','procent_things']), axis = 1, inplace = True)\n",
    "\n",
    "\n",
    "buy_2.head(len(buy_2))\n"
   ]
  },
  {
   "cell_type": "code",
   "execution_count": null,
   "metadata": {},
   "outputs": [],
   "source": [
    "#процент суммы покупок в деньгах для доставленных заказов по различным штатов (график)\n",
    "ax_3 = buy_2.plot.bar(x = 'customer_state', rot = -90, color = ['blue', 'red'], figsize = (15,10))\n",
    "plt.title('Процент суммы денег и штук для различных штатов', fontsize = 18)\n",
    "\n",
    "plt.xlabel('штат', fontsize = 14)\n",
    "plt.ylabel('процент', fontsize = 14)\n",
    "\n",
    "ax_3.bar_label(ax_3.containers[0], padding = 3, rotation = -90)\n",
    "ax_3.bar_label(ax_3.containers[1], padding = 3, rotation = -90)\n",
    "\n",
    "plt.ylim(0,50)\n",
    "\n",
    "plt.show()\n",
    "\n",
    "\n"
   ]
  },
  {
   "cell_type": "markdown",
   "metadata": {
    "id": "HlePiiebib7W"
   },
   "source": [
    "## Задание 4 (0.6 балла)\n",
    "\n",
    "Визуализируйте зависимость между средним числом покупок и:\n",
    "\n",
    "* числом фотографий товара\n",
    "\n",
    "* кол-во символов в описании товара (аггрегируйте с шагом 20)\n",
    "\n",
    "* кол-во символов в названии (аггрегируйте с шагом 5)"
   ]
  },
  {
   "cell_type": "code",
   "execution_count": null,
   "metadata": {},
   "outputs": [],
   "source": [
    "#4.1 среднее число покупок/число фотографий\n",
    "\n",
    "task_4 = pd.merge(pd.merge(products, items, on = 'product_id'), trans, on = 'product_category_name')\n",
    "task_4.drop(task_4.columns.difference(['product_id', 'product_photos_qty', 'order_item_id']), axis = 1, inplace = True)\n",
    "\n",
    "task_4 = task_4.groupby(['product_id','product_photos_qty']).agg({'order_item_id':'count'}).reset_index()\n",
    "task_4 = task_4.groupby(['product_photos_qty']).agg({'order_item_id':'mean'}).reset_index()\n",
    "# task_4.head(len(task_4))\n",
    "\n",
    "plt.figure(figsize=(15, 5))\n",
    "plt.plot(task_4.product_photos_qty, task_4.order_item_id)\n",
    "plt.title('Зависимость числа покупок от числа фотографий', fontsize = 14)\n",
    "plt.xlabel('число фотографий', fontsize = 12)\n",
    "plt.ylabel('число покупок', fontsize = 12)\n",
    "\n",
    "plt.show()\n",
    "\n"
   ]
  },
  {
   "cell_type": "code",
   "execution_count": null,
   "metadata": {},
   "outputs": [],
   "source": [
    "#4.2 среднее число покупок/кол-во символов в описании товара\n",
    "\n",
    "task_4_2 = pd.merge(pd.merge(products, items, on = 'product_id'), trans, on = 'product_category_name')\n",
    "task_4_2.drop(task_4_2.columns.difference(['product_id', 'product_description_lenght', 'order_item_id']), axis = 1, inplace = True)\n",
    "\n",
    "task_4_2 = task_4_2.groupby(['product_id','product_description_lenght']).agg({'order_item_id':'count'}).reset_index()\n",
    "task_4_2 = task_4_2.groupby(['product_description_lenght']).agg({'order_item_id':'mean'}).reset_index()\n",
    "task_4_2.head(len(task_4_2))\n",
    "\n",
    "end = int(task_4_2.product_description_lenght.max()) + 20\n",
    "#делаю шаг 20\n",
    "task_4_2['bins'] = pd.cut(task_4_2.product_description_lenght, bins = range(0,end,20), labels = list(range(0,end - 20,20)))\n",
    "\n",
    "plt.figure(figsize=(15, 5))\n",
    "plt.plot(task_4_2.bins, task_4_2.order_item_id)\n",
    "plt.title('Зависимость числа покупок от количества символов в описании', fontsize = 14)\n",
    "plt.xlabel('количество символов в описании (с шагом 20)', fontsize = 12)\n",
    "plt.ylabel('число покупок', fontsize = 12)\n",
    "\n",
    "plt.show()\n"
   ]
  },
  {
   "cell_type": "code",
   "execution_count": null,
   "metadata": {},
   "outputs": [],
   "source": [
    "task_4_3 = pd.merge(pd.merge(products, items, on = 'product_id'), trans, on = 'product_category_name')\n",
    "task_4_3.drop(task_4_3.columns.difference(['product_id', 'product_name_lenght', 'order_item_id']), axis = 1, inplace = True)\n",
    "\n",
    "task_4_3 = task_4_3.groupby(['product_id','product_name_lenght']).agg({'order_item_id':'count'}).reset_index()\n",
    "task_4_3 = task_4_3.groupby(['product_name_lenght']).agg({'order_item_id':'mean'}).reset_index()\n",
    "task_4_3.head(len(task_4_3))\n",
    "\n",
    "end = int(task_4_3.product_name_lenght.max()) + 5\n",
    "#делаю шаг 20\n",
    "task_4_3['bins'] = pd.cut(task_4_3.product_name_lenght, bins = range(0,end,5), labels = list(range(0,end - 5,5)))\n",
    "\n",
    "plt.figure(figsize=(15, 5))\n",
    "plt.plot(task_4_3.bins, task_4_3.order_item_id)\n",
    "plt.title('Зависимость числа покупок от количества символов в названии', fontsize = 14)\n",
    "plt.xlabel('количество символов в названии (с шагом 5)', fontsize = 12)\n",
    "plt.ylabel('число покупок', fontsize = 12)\n",
    "\n",
    "plt.show()\n"
   ]
  },
  {
   "cell_type": "markdown",
   "metadata": {
    "id": "G76_5kWld8xD"
   },
   "source": [
    "## Задание 5* (1 балл)\n",
    "\n",
    "Имея полученные данные по товарам, чекам и категориям, а также сделав дополнительные расчеты (если необходимо), предположите:\n",
    "\n",
    "1. Продавцов каких категорий необходимо привлекать в маркетплейс?\n",
    "\n",
    "2. Какие категории в каких штатах необходимо развивать?\n",
    "\n",
    "3. Развитие каких категорий не принесут большого эффекта и почему?\n",
    "\n",
    "4. Какие рекомендации можно дать для продавцов, чтобы их товар лучше продавался?"
   ]
  },
  {
   "cell_type": "markdown",
   "metadata": {},
   "source": [
    "1. Лучше всего привлекать продавцов из категорий: watches_gifts и cool_stuff; так как на эти категории большой \\\n",
    "спрос и мало продавцов, у которых эта категория основная (т.е. можно очень сильно увеличить прибыль, из - за высокого потенциала).\n",
    "2. 'AC', 'AM', 'AP', 'PR' - в этих необходимо развивать it сектор (да и вообще там очень мало категорий), ведь потребность.\n",
    "в этих штатах есть, но очень плохо развиты категории.\n",
    "3. 'flowers' и 'dvd_blu_ray' не очень хорошо себя показывают, об этом говорит вклад их в общий доход по штатам, хотя их количество не маленькое.\n",
    "4. Чем больше символов в названии, тем больше покупок, т е следует писать чуть больше в названии, но не в описании, об этом говорит зависимость числа покупок от количества символов в описании. Следует делат примерно 5 - 7 фотографий товара, это наиболее прибыльный диапазон. Следует больше продовать вещей для дома (уют и уход).\n",
    "       \n",
    "    "
   ]
  },
  {
   "cell_type": "markdown",
   "metadata": {
    "id": "qcw4MaMnYKuu"
   },
   "source": [
    "## Задание 6 (0.5 балла)\n",
    "\n",
    "Определите средний чек покупки (добавьте разбивку на стоимость самого заказ и стоимость доставки) и среднее число товаров в заказе"
   ]
  },
  {
   "cell_type": "code",
   "execution_count": null,
   "metadata": {},
   "outputs": [],
   "source": [
    "bill = pd.merge(pd.merge(pd.merge(pd.merge(items, products, on = 'product_id'), trans, on = 'product_category_name'), orders, on = 'order_id'), customer , on = 'customer_id')\n",
    "\n",
    "bill.drop(bill.columns.difference(['price','order_item_id', 'freight_value', 'product_category_name_english']), axis = 1, inplace = True)\n",
    "bill['total_cost'] = bill.price + bill.freight_value\n",
    "\n",
    "print(f' средний чек без учета доставки = {bill.price.mean()}')\n",
    "print(f' средний чек с учетом доставки = {bill.total_cost.mean()}')\n",
    "print(f' среднее числов товаров = {bill.order_item_id.mean()}')\n",
    "\n"
   ]
  },
  {
   "cell_type": "markdown",
   "metadata": {
    "id": "8xia3fPtY7Nz"
   },
   "source": [
    "## Задание 7 (0.2 балла)\n",
    "\n",
    "Определите среднее число покупок на пользователя (обратите внимание на идентификаторы)"
   ]
  },
  {
   "cell_type": "code",
   "execution_count": null,
   "metadata": {},
   "outputs": [],
   "source": [
    "things = pd.merge(pd.merge(pd.merge(pd.merge(items, products, on = 'product_id'), trans, on = 'product_category_name'), orders, on = 'order_id'), customer , on = 'customer_id')\n",
    "things.drop(things.columns.difference(['customer_unique_id','order_item_id']), axis = 1, inplace = True)\n",
    "\n",
    "\n",
    "things = things.groupby(['customer_unique_id']).agg({'order_item_id':'mean'}).reset_index().rename(columns = {'order_item_id':'mean_value'})\n",
    "\n",
    "print(f'среднее число покупок = {things.mean_value.mean()}')\n",
    "\n",
    "\n"
   ]
  },
  {
   "cell_type": "markdown",
   "metadata": {
    "id": "GoZhcGiKj4gX"
   },
   "source": [
    "## Задание 8 (0.2 балла)\n",
    "\n",
    "Отобразите среднюю сумму оплаты по типу оплаты"
   ]
  },
  {
   "cell_type": "code",
   "execution_count": null,
   "metadata": {},
   "outputs": [],
   "source": [
    "#таблица\n",
    "type_pay = pay.groupby(['payment_type']).agg({'payment_value':'mean'}).reset_index()\n",
    "\n",
    "type_pay.head(len(type_pay))\n"
   ]
  },
  {
   "cell_type": "code",
   "execution_count": null,
   "metadata": {},
   "outputs": [],
   "source": [
    "#круговая диаграма\n",
    "\n",
    "plt.figure(figsize=(8,8))\n",
    "plt.pie(type_pay.payment_value, labels = type_pay.payment_type, shadow = True,\n",
    "         autopct = '%1.1f%%', startangle = 180)\n",
    "\n",
    "plt.title('Распределение среденей стоимости по типу оплаты', fontsize = 14)\n",
    "plt.show()\n",
    "\n",
    "\n"
   ]
  },
  {
   "cell_type": "markdown",
   "metadata": {
    "id": "RMo-voFDakG9"
   },
   "source": [
    "## Задание 9 (0.4 балла)\n",
    "\n",
    "Обратите внимание на число платежей (payment_installments). Выясните, какая сумма оплаты указана: за целую покупку или только за ее часть?\n",
    "\n",
    "Также покажите средний чек в зависимости от числа оплаты. Есть ли какая-то связь между ними?"
   ]
  },
  {
   "cell_type": "code",
   "execution_count": null,
   "metadata": {},
   "outputs": [],
   "source": [
    "import sys\n",
    "task_9 = pd.merge(pd.merge(pay,orders, on = 'order_id'), items, on = 'order_id')\n",
    "task_9.drop(task_9.columns.difference(['order_id','payment_installments','payment_value','payment_installments','price','freight_value']), axis = 1, inplace = True)\n",
    "task_9_2 = task_9\n",
    "\n",
    "eps = 0.1e-5 # введу эпсилон, так как питончик не умеет нормально считать числа \n",
    "              # с плавающей точкой (такая эпсилон точно не может повляить на цену товара)\n",
    "\n",
    "task_9['price_w_delivery'] = task_9.price + task_9.freight_value\n",
    "task_9['check'] = task_9['price_w_delivery'] - task_9['payment_value'] < eps #ввел столбец, в которм сравниваю стоимость \n",
    "                                                                             #товара с доставкой с payment_value\n",
    "task_9 = task_9.drop_duplicates()\n",
    "task_9.sample(len(task_9))\n",
    "\n"
   ]
  },
  {
   "cell_type": "code",
   "execution_count": null,
   "metadata": {},
   "outputs": [],
   "source": [
    "print(task_9['check'].value_counts())\n"
   ]
  },
  {
   "cell_type": "markdown",
   "metadata": {},
   "source": [
    "Как мы видим есть значение 'False', т.е. в каких - то столбцах стоимость товара с доставкой не равна 'payment_value', это значит что не везде указана сумма оплаты за целую покупку (т.е. указана за ее часть)"
   ]
  },
  {
   "cell_type": "code",
   "execution_count": null,
   "metadata": {
    "scrolled": true
   },
   "outputs": [],
   "source": [
    "import matplotlib.pyplot as plt\n",
    "task_9_2 = task_9.groupby(['payment_installments']).agg({'price':'mean'}).reset_index()\n",
    "task_9_2.head(len(task_9_2))\n",
    "\n",
    "plt.figure(figsize=(15, 5))\n",
    "plt.plot(task_9_2.payment_installments, task_9_2.price)\n",
    "plt.title('Зависимость среднего чека от числа оплаты', fontsize = 12)\n",
    "plt.xlabel('числа оплаты', fontsize = 12)\n",
    "plt.ylabel('средний чек', fontsize = 12)\n",
    "\n",
    "plt.show()"
   ]
  },
  {
   "cell_type": "markdown",
   "metadata": {},
   "source": [
    "Видим, что от увелечения чисел оплаты, растет средний чек (есть, конечно, скачки, но мы смотрим в целом)"
   ]
  },
  {
   "cell_type": "markdown",
   "metadata": {
    "id": "0qfmQzlDW1S6"
   },
   "source": [
    "## Задание 10 (0.4 балла)\n",
    "\n",
    "Визуализируйте зависимость между ценой заказа и ценой доставки по штатам покупки. Есть ли какая-нибудь зависимость и как вы можете ее обосновать?"
   ]
  },
  {
   "cell_type": "code",
   "execution_count": null,
   "metadata": {},
   "outputs": [],
   "source": [
    "task_10 = pd.merge(pd.merge(items, orders, on = 'order_id'), customer, on = 'customer_id')\n",
    "# task_10.sample(10)\n",
    "task_10 = task_10.drop(task_10.columns.difference(['price','freight_value', 'customer_state']), axis = 1)\n",
    "task_10 = task_10.sort_values(['customer_state','price'])\n",
    "task_10 = task_10.groupby(['customer_state']).agg({'price':'mean', 'freight_value':'mean'}).reset_index()\n",
    "#переведу цену заказа и цену доставки в инт, а дальше буду агрегироваться с шагом 10 (так как очень много данных)\n",
    "# task_10.price = task_10.price.astype(int)\n",
    "# task_10.freight_value = task_10.freight_value.astype(int)\n",
    "# task_10.head(len(task_10))\n",
    "# end = task_10.price.max() + 5\n",
    "# task_10['price_agr'] = pd.cut(task_10.price, bins = range(0,end,5), labels = list(range(0,end - 5,5)))\n",
    "# task_10['freight_value_agr'] = pd.cut(task_10.freight_value, bins = range(0,end,5), labels = list(range(0,end - 5,5)))\n",
    "\n",
    "# task_10['op'] = task_10.groupby(['price_agr']).agg({'freight_value_agr':'count'}).reset_index()\n",
    "# task_10 = task_10.groupby(['customer_state']).agg({'freight_value':'mean'}).reset_index()\n",
    "task_10.head(len(task_10))"
   ]
  },
  {
   "cell_type": "code",
   "execution_count": null,
   "metadata": {},
   "outputs": [],
   "source": [
    "import plotly\n",
    "import plotly.graph_objs as go\n",
    "import plotly.express as px\n",
    "from plotly.subplots import make_subplots\n",
    "import seaborn as sns"
   ]
  },
  {
   "cell_type": "code",
   "execution_count": null,
   "metadata": {},
   "outputs": [],
   "source": [
    "#для каждого штата отдельно\n",
    "cols = ['AC', 'AL', 'AM', 'AP', 'BA', 'CE', 'DF', 'ES', 'GO', 'MA', 'MG',\n",
    "       'MS', 'MT', 'PA', 'PB', 'PE', 'PI', 'PR', 'RJ', 'RN', 'RO', 'RR',\n",
    "       'RS', 'SC', 'SE', 'SP', 'TO']\n",
    "\n",
    "\n",
    "h = ipywidgets.Dropdown(options = cols, \n",
    "                                  value = 'DF', \n",
    "                                  description = 'State:')\n",
    "\n",
    "def hist(i):\n",
    "    ax = sns.barplot(x =  task_10[task_10['customer_state'] == str(i)].price,\n",
    "                y = task_10[task_10['customer_state'] == str(i)].freight_value)\n",
    "    ax.bar_label(ax.containers[0])\n",
    "\n",
    "ipywidgets.interact(hist, i = h)\n"
   ]
  },
  {
   "cell_type": "markdown",
   "metadata": {
    "id": "kuS3HQ7hXK0H"
   },
   "source": [
    "## Задание 11 (0.4 балла)\n",
    "\n",
    "Выведите график по числу покупок (в разбивке по статусам) и временем покупки (аггрегируйте покупки до дня)"
   ]
  },
  {
   "cell_type": "code",
   "execution_count": null,
   "metadata": {},
   "outputs": [],
   "source": [
    "task_11 = orders.copy()\n",
    "\n",
    "# task_11 = task_11.drop(task_11.columns.difference(['order_status', 'order_purchase_timestamp','order_id']), axis = 1, inplace = True)\n",
    "task_11 = task_11.groupby(['order_status','order_purchase_timestamp']).agg({'order_id':'count'}).reset_index()\n",
    "\n",
    "\n",
    "task_11 = task_11[['order_purchase_timestamp','order_status','order_id']]\n",
    "task_11['order_purchase_timestamp'] = pd.to_datetime(task_11['order_purchase_timestamp'])\n",
    "task_11['order_purchase_timestamp'] = pd.to_datetime(task_11.order_purchase_timestamp).dt.date\n",
    "\n",
    "task_11 = task_11.groupby(['order_status','order_purchase_timestamp']).agg({'order_id':'count'})\\\n",
    ".reset_index().rename(columns = {'order_purchase_timestamp':'date','order_id':'count_pr'})\n",
    "task_11.sample(len(task_11))\n",
    "\n"
   ]
  },
  {
   "cell_type": "code",
   "execution_count": null,
   "metadata": {},
   "outputs": [],
   "source": [
    "cols = ['approved','canceled','created', 'delivered', 'invoiced', 'processing',\n",
    " 'shipped', 'unavailable']\n",
    "\n",
    "fig = go.Figure()\n",
    "for col in cols:\n",
    "    fig.add_trace(go.Bar(x=task_11[task_11.order_status == col].date, y = task_11[task_11.order_status == col].count_pr, \n",
    "                         opacity = 0.6, visible = True ))\n",
    "\n",
    "# Наше меню для отображения\n",
    "updatemenu= [dict()]\n",
    "\n",
    "# Кнопки, на которые можно нажимать\n",
    "buttons=[]\n",
    "\n",
    "for i, col in enumerate(cols):\n",
    "    visibles = [False] * len(cols)\n",
    "    visibles[i] = True\n",
    "    buttons.append(dict(method='restyle',\n",
    "                        label=col,\n",
    "                        args=[\"visible\", visibles]\n",
    "                        ))\n",
    "updatemenu[0]['buttons']=buttons\n",
    "updatemenu[0]['direction']='down'\n",
    "updatemenu[0]['showactive']=True\n",
    "fig.update_layout(showlegend=False, updatemenus = updatemenu)\n",
    "go.layout.Updatemenu(x=0, y=1)\n",
    "fig.update_layout(\n",
    "    title = {\n",
    "        \"text\": \"Зависимость даты по количеству\",\n",
    "        \"x\": 0.5\n",
    "    }\n",
    ")\n",
    "\n",
    "fig.update_layout(\n",
    "    xaxis=dict(\n",
    "        rangeslider=dict(\n",
    "            visible=True\n",
    "        ),\n",
    "        type=\"date\"\n",
    "    )\n",
    ")\n",
    "\n",
    "fig.show()"
   ]
  },
  {
   "cell_type": "markdown",
   "metadata": {
    "id": "s9X976jZlNSC"
   },
   "source": [
    "## Задание 12* (1 балл)\n",
    "\n",
    "Используя полученные данные, а также сделав дополнительные вычисления (если необходимо), предположите:\n",
    "\n",
    "1. Есть ли сезонность в покупках на маркетплейсе?\n",
    "\n",
    "2. Есть ли какие-то необъяснимые падение/рост продаж? С чем это может быть связано?"
   ]
  },
  {
   "cell_type": "markdown",
   "metadata": {
    "id": "jC99B-ajXnyZ"
   },
   "source": [
    "## Задание 13 (0.3 балла)\n",
    "\n",
    "Посчитайте CSAT (customer satisfaction - средняя оценка ревью) и отобразите средний CSAT по дням\n",
    "\n"
   ]
  },
  {
   "cell_type": "code",
   "execution_count": null,
   "metadata": {},
   "outputs": [],
   "source": [
    "task_13 = reviews.copy()\n",
    "task_13.drop(task_13.columns.difference(['review_score','review_creation_date']), axis = 1, inplace = True)\n",
    "task_13['review_creation_date'] = pd.to_datetime(task_13['review_creation_date'])\n",
    "task_13['review_creation_date'] = pd.to_datetime(task_13.review_creation_date).dt.date\n",
    "task_13 = task_13.groupby(['review_creation_date']).agg({'review_score':'mean'}).reset_index()\n",
    "\n",
    "plt.figure(figsize = (15,5))\n",
    "plt.plot(task_13.review_creation_date, task_13.review_score)\n",
    "plt.title('CSAT по дням', fontsize = 15)\n",
    "plt.xlabel('date', fontsize = 12)\n",
    "plt.ylabel('csat', fontsize = 12)\n",
    "plt.show()"
   ]
  },
  {
   "cell_type": "markdown",
   "metadata": {
    "id": "GgVCaC_amHpJ"
   },
   "source": [
    "## Задание 14 (0.3 балла)\n",
    "\n",
    "Найдите топ-5 лучших и топ-5 худших продавцов по средней оценке и посчитайте их число продаж"
   ]
  },
  {
   "cell_type": "code",
   "execution_count": null,
   "metadata": {},
   "outputs": [],
   "source": [
    "task_14 = pd.merge(reviews, items, on = 'order_id')\n",
    "task_14.drop(task_14.columns.difference(['seller_id', 'review_score', 'review_id']), axis = 1, inplace = True)\n",
    "# task_14.head()                   \n",
    "task_14 = task_14.groupby(['seller_id']).agg({'review_score':'mean','review_id':'count'})\\\n",
    ".reset_index().sort_values('review_score' ,ascending = False)\n",
    "task_14_best = task_14[:5].sort_values('review_id', ascending = False)\n",
    "task_14_worst = task_14[-5:].sort_values('review_id', ascending = False)\n",
    "\n",
    "task_14.head(len(task_14))"
   ]
  },
  {
   "cell_type": "code",
   "execution_count": null,
   "metadata": {},
   "outputs": [],
   "source": [
    "print('топ-5 лучших продавцов:')\n",
    "task_14_best.head(len(task_14_best))"
   ]
  },
  {
   "cell_type": "code",
   "execution_count": null,
   "metadata": {},
   "outputs": [],
   "source": [
    "print('топ-5 худших продавцов:')\n",
    "task_14_worst.head(len(task_14_worst))"
   ]
  },
  {
   "cell_type": "markdown",
   "metadata": {
    "id": "baLiZjiOmTwr"
   },
   "source": [
    "## Задание 15 (0.3 балла)\n",
    "\n",
    "Посмотрите, как быстро отвечают пользователи (сделайте аггреграцию по дням) и влияет ли это на оценку?"
   ]
  },
  {
   "cell_type": "code",
   "execution_count": null,
   "metadata": {},
   "outputs": [],
   "source": [
    "task_15 = pd.merge(reviews, orders, on = 'order_id')\n",
    "\n",
    "task_15.drop(task_15.columns.difference(['customer_id','review_id','review_score','review_creation_date','review_answer_timestamp']),\n",
    "             axis = 1, inplace = True)\n",
    "task_15['review_answer_timestamp'] = pd.to_datetime(task_15['review_answer_timestamp'])\n",
    "task_15['review_creation_date'] = pd.to_datetime(task_15['review_creation_date'])\n",
    "\n",
    "task_15['time_dif'] = (task_15.review_answer_timestamp - task_15.review_creation_date) / np.timedelta64(1,'D')\n",
    "task_15.drop(task_15.columns.difference(['customer_id','review_score','time_dif']), axis = 1, inplace = True)\n",
    "task_15 = task_15[['customer_id', 'review_score', 'time_dif']]\n",
    "task_15 = task_15.sort_values('review_score')\n",
    "print('вот с такой скоростью отвечают продавцы:')\n",
    "task_15.head(len(task_15))\n",
    "\n"
   ]
  },
  {
   "cell_type": "code",
   "execution_count": null,
   "metadata": {},
   "outputs": [],
   "source": [
    "print(f'посчитаем корреляцию: {task_15.time_dif.corr(task_15.review_score)}')\n"
   ]
  },
  {
   "cell_type": "code",
   "execution_count": null,
   "metadata": {},
   "outputs": [],
   "source": [
    "task_15 = task_15.groupby(['review_score']).agg({'time_dif':'mean'}).reset_index()\n",
    "print('вот среднее время ответа для разных оценок:')\n",
    "task_15.head(len(task_15))"
   ]
  },
  {
   "cell_type": "markdown",
   "metadata": {},
   "source": [
    "Как мы видим: 1) корреляция близка к '0'.   \n",
    "2) среднее время ответа для разных оценок почти одинаковые.\n",
    " Получается, что зависимость почти отсутсвует("
   ]
  },
  {
   "cell_type": "markdown",
   "metadata": {
    "id": "Wp9r35zpui6D"
   },
   "source": [
    "## Задание 16 (0.5 балла)\n",
    "\n",
    "Отобразите распределение оценок для заказов, которые были доставлены вовремя и которые пришли с опозданием. Насколько влияет факт опоздания на оценку?"
   ]
  },
  {
   "cell_type": "code",
   "execution_count": null,
   "metadata": {},
   "outputs": [],
   "source": [
    "task_16 = pd.merge(orders, reviews, on = 'order_id')\n",
    "task_16.drop(task_16.columns.difference(['review_score', 'order_estimated_delivery_date',\n",
    "                                         'order_delivered_customer_date']), axis = 1, inplace = True)\n",
    "task_16['order_estimated_delivery_date'] = pd.to_datetime(task_16['order_estimated_delivery_date'])\n",
    "task_16['order_delivered_customer_date'] = pd.to_datetime(task_16['order_delivered_customer_date'])\n",
    "# task_16['time_dif'] = (task_16.order_estimated_delivery_date - task_16.order_delivered_customer_date) / np.timedelta64(1,'D')\n",
    "task_16['check'] = (task_16.order_estimated_delivery_date - task_16.order_delivered_customer_date) / np.timedelta64(1,'D') > 0\n",
    "task_16 = task_16.groupby(['check']).agg({'review_score':'mean'}).reset_index()\n",
    "task_16 = task_16.replace({'check' : { True : 'пришли вовремя', False : 'пришли с опозданием'}})\n",
    "task_16.head()\n",
    "\n",
    "plt.figure(figsize=(8,8))\n",
    "plt.pie(task_16.review_score, labels = task_16.check, shadow = True,\n",
    "         autopct = '%1.1f%%', startangle = 180)\n",
    "plt.title('Отношение средних оценок для заказов, которые пришли вовремя и с опозданием', fontsize = 14)\n",
    "plt.show()\n",
    "\n"
   ]
  },
  {
   "cell_type": "markdown",
   "metadata": {
    "id": "peGQZI9sv5F3"
   },
   "source": [
    "## Задание 17* (1,5 балла)\n",
    "\n",
    "Есть ли среди пользователей хейтеры? Определите их и вычислите средний CSAT без их участия"
   ]
  },
  {
   "cell_type": "code",
   "execution_count": null,
   "metadata": {},
   "outputs": [],
   "source": []
  },
  {
   "cell_type": "markdown",
   "metadata": {
    "id": "nXjzKf3Cxa1m"
   },
   "source": [
    "## Задание 18 (0.4 балла)\n",
    "\n",
    "Изобразите зависимость между ценой заказа и числом дней между покупкой и доставкой с разбивкой по признаку \"есть заказ из другого штата\". Есть ли зависимость?"
   ]
  },
  {
   "cell_type": "code",
   "execution_count": null,
   "metadata": {},
   "outputs": [],
   "source": [
    "task_18 = pd.merge(pd.merge(pd.merge(orders, customer, on = 'customer_id'), items, on = 'order_id'), sellers, on = 'seller_id')\n",
    "task_18.drop(task_18.columns.difference(['customer_state', 'seller_state', 'price', \n",
    "                                         'order_delivered_customer_date', 'order_purchase_timestamp']), axis = 1, inplace = True)\n",
    "\n",
    "task_18['check'] = task_18.customer_state == task_18.seller_state\n",
    "task_18['order_purchase_timestamp'] = pd.to_datetime(task_18['order_purchase_timestamp'])\n",
    "task_18['order_delivered_customer_date'] = pd.to_datetime(task_18['order_delivered_customer_date'])\n",
    "task_18['time_dif'] = (task_18.order_delivered_customer_date - task_18.order_purchase_timestamp) / np.timedelta64(1,'D')\n",
    "\n",
    "task_18.drop(task_18.columns.difference(['price', 'check', 'time_dif',]), axis = 1, inplace = True)\n",
    "task_18 = task_18.replace({'check' : { True : 'есть заказ из другого штата', False : 'нет заказа из другого штата'}})\n",
    "task_18 = task_18[task_18.check == 'есть заказ из другого штата']\n",
    "task_18 = task_18.dropna()\n",
    "task_18 = task_18.sort_values(['price','time_dif'], ascending=[True, False])\n",
    "task_18 = task_18.drop_duplicates()\n",
    "task_18 = task_18.groupby(['price']).agg({'time_dif':'mean'}).reset_index()\n",
    "task_18.head(len(task_18))\n"
   ]
  },
  {
   "cell_type": "code",
   "execution_count": null,
   "metadata": {},
   "outputs": [],
   "source": [
    "plt.figure(figsize = (10,15))\n",
    "plt.scatter(task_18.time_dif, task_18.price)\n",
    "plt.title('Зависимость между временем доставки и ценой заказа для отправления из другого штата', fontsize = 15)\n",
    "plt.xlabel('время достакви', fontsize = 12)\n",
    "plt.ylabel('цена заказа', fontsize = 12)\n",
    "plt.show()"
   ]
  },
  {
   "cell_type": "code",
   "execution_count": null,
   "metadata": {},
   "outputs": [],
   "source": [
    "print(f'посчитаем корреляцию: {task_18.time_dif.corr(task_18.price)}')"
   ]
  },
  {
   "cell_type": "markdown",
   "metadata": {},
   "source": [
    "Корреляция, конечно, побольше, чем в задании 15, но все же близка к 0,также по графику нельзя отследить какой - то тренд. Скорее всего, зависимость отсутсвует((("
   ]
  },
  {
   "cell_type": "markdown",
   "metadata": {
    "id": "otHb2D44ZmZV"
   },
   "source": [
    "## Задание 19 (0.6 баллов)\n",
    "\n",
    "Отобразите на карте все точки продавцов (если они находятся в одном месте, то необходимо отметить кол-во)\n",
    "\n",
    "Где больше всего продавцов находится?"
   ]
  },
  {
   "cell_type": "code",
   "execution_count": null,
   "metadata": {},
   "outputs": [],
   "source": [
    "geolocation = geolocation.rename(columns = {'geolocation_zip_code_prefix':'zip_code_prefix'})\n",
    "sellers = sellers.rename(columns = {'seller_zip_code_prefix':'zip_code_prefix'})\n",
    "task_19 = pd.merge(sellers, geolocation, on = 'zip_code_prefix')\n",
    "# task_19 = task_19.groupby(['geolocation_lat'']).agg[{'zip_code_prefix':'count'}]\n",
    "task_19_2 = task_19.value_counts('zip_code_prefix')\n",
    "task_19_2 = task_19_2.dropna().reset_index()\n",
    "task_19 = pd.merge(task_19, task_19_2, on = 'zip_code_prefix')\n",
    "task_19 = task_19.rename(columns = {0:'count'})\n",
    "task_19 = task_19.drop_duplicates()\n",
    "task_19.head(len(task_19))\n",
    "\n",
    "fig.update_layout(mapbox_style=\"open-street-map\")\n",
    "\n",
    "fig = go.Figure(go.Scattermapbox(lat = task_19['geolocation_lat'], \n",
    "                                 lon = task_19['geolocation_lng'], \n",
    "                                 text = task_19[['count','geolocation_city']]))\n",
    "fig.update_layout(mapbox_style=\"open-street-map\")\n",
    "fig.show()"
   ]
  },
  {
   "cell_type": "markdown",
   "metadata": {
    "id": "hsdKx1F7ZKqh"
   },
   "source": [
    "## Задание 20 (1,5 балл)\n",
    "\n",
    "Определите топ-5 продавцов, которые чаще всего отсылают свою посылку в другие регионы и визуализируйте их отсылки"
   ]
  },
  {
   "cell_type": "code",
   "execution_count": null,
   "metadata": {},
   "outputs": [],
   "source": [
    "task_20 = pd.merge(pd.merge(pd.merge(pd.merge(sellers, geolocation, on = 'zip_code_prefix'),items, on = 'seller_id'),orders, on = 'order_id'), customer, on = 'customer_id') \n",
    "task_20.head()\n",
    "task_20['check'] = np.where(task_20.seller_state == task_20.customer_state, 0, 1)\n",
    "task_20_2 = task_20\n",
    "task_20 = task_20.groupby(['seller_id']).agg({'check':'sum'}).sort_values('check', ascending = False).reset_index()\n",
    "task_20 = task_20[:5]\n",
    "print('топ-5 продавцов:')\n",
    "task_20.seller_id.reset_index()\n",
    "\n",
    "\n"
   ]
  },
  {
   "cell_type": "code",
   "execution_count": null,
   "metadata": {},
   "outputs": [],
   "source": [
    "task_20_2 = pd.merge(task_20_2, task_20, on = 'seller_id')\n",
    "task_20_2.drop(task_20_2.columns.difference(['seller_id','zip_code_prefix','geolocation_lat','geolocation_lng','geolocation_city','customer_zip_code_prefix','check']), axis = 1, inplace = True)\n",
    "task_20_2 = task_20_2.drop_duplicates()\n",
    "print('топ-5 продавцов и все нужные данные для визуализации:')\n",
    "task_20_2.head(len(task_20_2))"
   ]
  },
  {
   "cell_type": "markdown",
   "metadata": {
    "id": "RMpfvF-UxHKf"
   },
   "source": [
    "## Задание 21* (2 балла)\n",
    "\n",
    "Сделайте анимацию по датам с доставкой между продавцами и пользователями"
   ]
  },
  {
   "cell_type": "markdown",
   "metadata": {
    "id": "ldPjOGbIyFYw"
   },
   "source": [
    "## Задание 22* (творческое, отдельно поставим баллы)\n",
    "\n",
    "Проведите дополнительно исследование между параметрами, которые вам интересны и могут быть полезными (обоснуйте, зачем это смотреть). Сделайте выводы"
   ]
  },
  {
   "cell_type": "markdown",
   "metadata": {
    "id": "A4MnvHjmDNQy"
   },
   "source": [
    "## Попугай для ДЗ"
   ]
  },
  {
   "cell_type": "markdown",
   "metadata": {
    "id": "_Do1QwYBEKr6"
   },
   "source": [
    "![](https://upload.wikimedia.org/wikipedia/commons/thumb/c/ca/Rose-ringed_parakeet_%28Psittacula_krameri_manillensis%29.jpg/1024px-Rose-ringed_parakeet_%28Psittacula_krameri_manillensis%29.jpg)"
   ]
  },
  {
   "cell_type": "markdown",
   "metadata": {
    "id": "2aljCpwJEM-z"
   },
   "source": [
    "А это ожереловый попугай (или индийский кольчатый попугай). Этот вид явно выделяет наличие такого колечка на шее. Самый распространенный попугай в мире\n",
    "\n",
    "Они очень хорошо и быстро летают, но ходят максимально неуклюже)\n",
    "\n",
    "В отличии от многих попугаев, для которых человеческая деятельность является вредом и уменьшает их естественный ареал обитания, то как раз для этих птиц человеческая деятельность - это плюс, потому что они находят корм внутри человеческих обществ (не боятся людей, лучше всего приспосабливаются, едят пшеницу). Поговаривают, что в качестве домашних попугаев их держали еще в древней Греции и Риме, а в  средневековой Индии ожереловые попугаи часто были питомцами знатных особ и монархов, причём владение этим попугаем считалось элементом роскоши и престижа"
   ]
  }
 ],
 "metadata": {
  "colab": {
   "collapsed_sections": [],
   "provenance": []
  },
  "kernelspec": {
   "display_name": "Python 3 (ipykernel)",
   "language": "python",
   "name": "python3"
  },
  "language_info": {
   "codemirror_mode": {
    "name": "ipython",
    "version": 3
   },
   "file_extension": ".py",
   "mimetype": "text/x-python",
   "name": "python",
   "nbconvert_exporter": "python",
   "pygments_lexer": "ipython3",
   "version": "3.9.6"
  }
 },
 "nbformat": 4,
 "nbformat_minor": 1
}
