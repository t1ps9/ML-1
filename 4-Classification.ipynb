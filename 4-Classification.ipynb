{
 "cells": [
  {
   "cell_type": "markdown",
   "metadata": {
    "id": "LTlmjXExP75I"
   },
   "source": [
    "# Машинное обучение, ФКН ВШЭ\n",
    "\n",
    "## Практическое задание 4. Классификация"
   ]
  },
  {
   "cell_type": "markdown",
   "metadata": {
    "id": "kH11bAAV2SoV"
   },
   "source": [
    "### Общая информация\n",
    "Дата выдачи: 09.11.2023\n",
    "\n",
    "Мягкий дедлайн: 22.11.2023\n",
    "\n",
    "Жесткий дедлайн: 26.11.2023"
   ]
  },
  {
   "cell_type": "markdown",
   "metadata": {
    "id": "iWjJuhqS3Ucc"
   },
   "source": [
    "### О задании\n",
    "\n",
    "В этом задании вы:\n",
    "- ознакомитесь с тем, что происходит \"внутри\" метода опорных векторов и логистической регрессии\n",
    "- познакомитесь с калибровкой вероятности\n",
    "- изучите методы трансформации переменных и методы отбора признаков\n",
    "- попробуете оценить экономический эффект модели\n",
    "\n",
    "----\n",
    "\n",
    "#### Самостоятельная оценка результатов\n",
    "\n",
    "Для удобства проверки, исходя из набора решенных задач, посчитайте свою максимальную оценку.\n",
    "\n",
    "**Оценка**: 12.01"
   ]
  },
  {
   "cell_type": "markdown",
   "metadata": {
    "id": "Or0r6z5v1Mmt"
   },
   "source": [
    "### Оценивание и штрафы"
   ]
  },
  {
   "cell_type": "markdown",
   "metadata": {
    "id": "CecLXG_w3zs0"
   },
   "source": [
    "Каждая из задач имеет определенную «стоимость» (указана в скобках около задачи). Максимально допустимая оценка за работу — 10 баллов.\n",
    "\n",
    "Сдавать задание после указанного жёсткого дедлайна нельзя. При выставлении неполного балла за задание в связи с наличием ошибок на усмотрение проверяющего предусмотрена возможность исправить работу на указанных в ответном письме условиях.\n",
    "\n",
    "Задание выполняется самостоятельно. «Похожие» решения считаются плагиатом и все задействованные студенты (в том числе те, у кого списали) не могут получить за него больше 0 баллов (подробнее о плагиате см. на странице курса). Если вы нашли решение какого-то из заданий (или его часть) в открытом источнике, необходимо указать ссылку на этот источник в отдельном блоке в конце вашей работы (скорее всего вы будете не единственным, кто это нашел, поэтому чтобы исключить подозрение в плагиате, необходима ссылка на источник).\n",
    "\n",
    "Неэффективная реализация кода может негативно отразиться на оценке."
   ]
  },
  {
   "cell_type": "markdown",
   "metadata": {
    "id": "eMwMhTpA1MwR"
   },
   "source": [
    "### Формат сдачи"
   ]
  },
  {
   "cell_type": "markdown",
   "metadata": {
    "id": "O5qs8FC_35h7"
   },
   "source": [
    "Для сдачи задания переименуйте получившийся файл *.ipynb в соответствии со следующим форматом: homework-practice-04-linclass-__Username__.ipynb, где Username — ваша фамилия и имя на латинице именно в таком порядке (например, homework-practice-04-linclass-__IvanovIvan__.ipynb)."
   ]
  },
  {
   "cell_type": "markdown",
   "metadata": {
    "id": "KGWDDNDyP75O"
   },
   "source": [
    "# Часть 1. SVM, LR и калибровка вероятностей (2 балла + 0.5 бонус)"
   ]
  },
  {
   "cell_type": "code",
   "execution_count": 2,
   "metadata": {
    "execution": {
     "iopub.execute_input": "2023-11-18T10:38:46.527243Z",
     "iopub.status.busy": "2023-11-18T10:38:46.526873Z",
     "iopub.status.idle": "2023-11-18T10:38:46.980144Z",
     "shell.execute_reply": "2023-11-18T10:38:46.978729Z",
     "shell.execute_reply.started": "2023-11-18T10:38:46.527212Z"
    },
    "id": "KyqoX1BNP75N"
   },
   "outputs": [],
   "source": [
    "import numpy as np\n",
    "import pandas as pd\n",
    "import matplotlib.pyplot as plt\n",
    "%matplotlib inline\n",
    "\n",
    "pd.set_option('display.max_rows', 100)\n",
    "pd.set_option('display.max_columns', 100)"
   ]
  },
  {
   "cell_type": "markdown",
   "metadata": {
    "id": "xvhLtt4OP75Q"
   },
   "source": [
    "#### __Задание 1.1  Сравнение методов__ (0.5 балла)\n",
    "\n"
   ]
  },
  {
   "cell_type": "markdown",
   "metadata": {
    "id": "LZw2aOq9P75O"
   },
   "source": [
    "Сгенерируем синтетические данные."
   ]
  },
  {
   "cell_type": "code",
   "execution_count": 3,
   "metadata": {
    "execution": {
     "iopub.execute_input": "2023-11-18T10:38:56.005883Z",
     "iopub.status.busy": "2023-11-18T10:38:56.005107Z",
     "iopub.status.idle": "2023-11-18T10:38:56.853336Z",
     "shell.execute_reply": "2023-11-18T10:38:56.851948Z",
     "shell.execute_reply.started": "2023-11-18T10:38:56.005837Z"
    },
    "id": "mqkczFrQP75P"
   },
   "outputs": [],
   "source": [
    "from sklearn.datasets import make_classification\n",
    "from sklearn.model_selection import train_test_split\n",
    "\n",
    "# фиксируем random_state для воспроизводимости результатов\n",
    "X, y = make_classification(\n",
    "    n_samples=10000, n_features=10, n_informative=5, n_redundant=5, random_state=42)\n",
    "\n",
    "X_train, X_test, y_train, y_test = train_test_split(X, y, test_size=0.3, random_state=42)"
   ]
  },
  {
   "cell_type": "markdown",
   "metadata": {
    "id": "BdPx-lQbtaRe"
   },
   "source": [
    "__Случайный классификатор__\n",
    "\n",
    "Для начала зададим самую простую модель, которая на каждом объекте выдаёт случайный ответ. По тестовой выборке вычислим AUC-ROC, AUC-PR."
   ]
  },
  {
   "cell_type": "code",
   "execution_count": 4,
   "metadata": {
    "execution": {
     "iopub.execute_input": "2023-11-18T10:38:57.965784Z",
     "iopub.status.busy": "2023-11-18T10:38:57.965379Z",
     "iopub.status.idle": "2023-11-18T10:38:57.981059Z",
     "shell.execute_reply": "2023-11-18T10:38:57.979725Z",
     "shell.execute_reply.started": "2023-11-18T10:38:57.965751Z"
    },
    "id": "5gcSglAOjVn-",
    "outputId": "ab22188b-7c7f-4718-ebdd-82959d1a5366"
   },
   "outputs": [
    {
     "data": {
      "text/plain": [
       "array([0.5, 0.5, 0.5, ..., 0.5, 0.5, 0.5])"
      ]
     },
     "execution_count": 4,
     "metadata": {},
     "output_type": "execute_result"
    }
   ],
   "source": [
    "from sklearn.dummy import DummyClassifier\n",
    "random_classifier = DummyClassifier(strategy='uniform', random_state=42).fit(X_train, y_train)\n",
    "y_random = random_classifier.predict_proba(X_test)[:,1]\n",
    "y_random"
   ]
  },
  {
   "cell_type": "markdown",
   "metadata": {
    "id": "bUhBXPre7jNi"
   },
   "source": [
    "**Вопрос:** решаем задачу бинарной классификации, но y\\_random содержит какие-то дробные числа, а не 0/1. Почему?\n",
    "\n"
   ]
  },
  {
   "cell_type": "markdown",
   "metadata": {
    "id": "RpIDxyuHH1bt"
   },
   "source": [
    "**Ответ**: predict_proba возвращает вероятности пренадлежности какому-то классу, а не сам класс"
   ]
  },
  {
   "cell_type": "markdown",
   "metadata": {
    "id": "LnmZFwEYDVqx"
   },
   "source": [
    "*Ниже приведен **пример** работы* со встроенными функциями `sklearn` для отрисовки ROC и PR кривых, сохранения метрик. Пайплайн можно изменять как вам удобно."
   ]
  },
  {
   "cell_type": "code",
   "execution_count": 5,
   "metadata": {
    "execution": {
     "iopub.execute_input": "2023-11-18T10:38:59.600900Z",
     "iopub.status.busy": "2023-11-18T10:38:59.600519Z",
     "iopub.status.idle": "2023-11-18T10:38:59.606690Z",
     "shell.execute_reply": "2023-11-18T10:38:59.605428Z",
     "shell.execute_reply.started": "2023-11-18T10:38:59.600869Z"
    },
    "id": "gNJLhNj7DkLx"
   },
   "outputs": [],
   "source": [
    "from sklearn.metrics import auc\n",
    "from sklearn.metrics import average_precision_score\n",
    "from sklearn.metrics import precision_recall_curve\n",
    "from sklearn.metrics import PrecisionRecallDisplay\n",
    "\n",
    "from sklearn.metrics import roc_auc_score\n",
    "from sklearn.metrics import RocCurveDisplay"
   ]
  },
  {
   "cell_type": "code",
   "execution_count": 6,
   "metadata": {
    "execution": {
     "iopub.execute_input": "2023-11-18T10:39:00.403328Z",
     "iopub.status.busy": "2023-11-18T10:39:00.402914Z",
     "iopub.status.idle": "2023-11-18T10:39:00.408624Z",
     "shell.execute_reply": "2023-11-18T10:39:00.407080Z",
     "shell.execute_reply.started": "2023-11-18T10:39:00.403296Z"
    }
   },
   "outputs": [],
   "source": [
    "import warnings\n",
    "\n",
    "warnings.filterwarnings('ignore')"
   ]
  },
  {
   "cell_type": "code",
   "execution_count": 7,
   "metadata": {
    "execution": {
     "iopub.execute_input": "2023-11-18T10:39:00.805382Z",
     "iopub.status.busy": "2023-11-18T10:39:00.804928Z",
     "iopub.status.idle": "2023-11-18T10:39:01.700254Z",
     "shell.execute_reply": "2023-11-18T10:39:01.699022Z",
     "shell.execute_reply.started": "2023-11-18T10:39:00.805328Z"
    },
    "id": "-WHELzN6_fsQ",
    "outputId": "3802dc04-1755-4865-f89a-1b2257210465"
   },
   "outputs": [
    {
     "name": "stdout",
     "output_type": "stream",
     "text": [
      "Random Classifier metrics\n",
      "AUC-PR: 0.75283\n",
      "AUC-ROC: 0.50000\n"
     ]
    },
    {
     "data": {
      "image/png": "[encoded data removed]",
      "text/plain": [
       "<Figure size 792x360 with 2 Axes>"
      ]
     },
     "metadata": {
      "needs_background": "light"
     },
     "output_type": "display_data"
    }
   ],
   "source": [
    "def depict_pr_roc(y_true, y_pred, classifier_name='Some Classifier', ax=None):\n",
    "  if ax is None:\n",
    "    fig, ax = plt.subplots(1, 2, figsize=(11, 5))\n",
    "\n",
    "  print(classifier_name, 'metrics')\n",
    "  PrecisionRecallDisplay.from_predictions(y_true, y_pred, ax=ax[0], name=classifier_name)\n",
    "  precision, recall, _ = precision_recall_curve(y_true, y_pred)\n",
    "  print('AUC-PR: %.5f' % auc(recall, precision))\n",
    "  ax[0].set_title(\"PRC\")\n",
    "  ax[0].set_ylim(0, 1.1)\n",
    "\n",
    "  RocCurveDisplay.from_predictions(y_true, y_pred, ax=ax[1], name=classifier_name)\n",
    "  print('AUC-ROC: %.5f' % roc_auc_score(y_true, y_pred))\n",
    "  ax[1].set_title(\"ROC\")\n",
    "  ax[1].set_ylim(0, 1.1)\n",
    "\n",
    "  plt.tight_layout()\n",
    "  plt.legend()\n",
    "\n",
    "\n",
    "depict_pr_roc(y_test, y_random, 'Random Classifier')"
   ]
  },
  {
   "cell_type": "code",
   "execution_count": 8,
   "metadata": {
    "execution": {
     "iopub.execute_input": "2023-11-18T10:39:01.702578Z",
     "iopub.status.busy": "2023-11-18T10:39:01.702210Z",
     "iopub.status.idle": "2023-11-18T10:39:01.734318Z",
     "shell.execute_reply": "2023-11-18T10:39:01.733170Z",
     "shell.execute_reply.started": "2023-11-18T10:39:01.702546Z"
    },
    "id": "pSugCdAAEF2z",
    "outputId": "57b4d60f-1bc2-4137-ebf7-fd497eebd31f"
   },
   "outputs": [
    {
     "data": {
      "text/html": [
       "<div>\n",
       "<style scoped>\n",
       "    .dataframe tbody tr th:only-of-type {\n",
       "        vertical-align: middle;\n",
       "    }\n",
       "\n",
       "    .dataframe tbody tr th {\n",
       "        vertical-align: top;\n",
       "    }\n",
       "\n",
       "    .dataframe thead th {\n",
       "        text-align: right;\n",
       "    }\n",
       "</style>\n",
       "<table border=\"1\" class=\"dataframe\">\n",
       "  <thead>\n",
       "    <tr style=\"text-align: right;\">\n",
       "      <th></th>\n",
       "      <th>AUC_PR</th>\n",
       "      <th>AUC_ROC</th>\n",
       "      <th>reg_const</th>\n",
       "    </tr>\n",
       "  </thead>\n",
       "  <tbody>\n",
       "    <tr>\n",
       "      <th>Random Classifier</th>\n",
       "      <td>0.752833</td>\n",
       "      <td>0.5</td>\n",
       "      <td>0.0</td>\n",
       "    </tr>\n",
       "  </tbody>\n",
       "</table>\n",
       "</div>"
      ],
      "text/plain": [
       "                     AUC_PR  AUC_ROC  reg_const\n",
       "Random Classifier  0.752833      0.5        0.0"
      ]
     },
     "execution_count": 8,
     "metadata": {},
     "output_type": "execute_result"
    }
   ],
   "source": [
    "# dataframe для сравнения\n",
    "# методов классификации по метрикам\n",
    "df_metrics = pd.DataFrame(columns=['AUC_PR', 'AUC_ROC', 'reg_const'])\n",
    "precision, recall, _ = precision_recall_curve(y_test, y_random)\n",
    "  # добавление очередной строки с характеристиками метода\n",
    "df_metrics.loc['Random Classifier'] = [\n",
    "      auc(recall, precision),\n",
    "      roc_auc_score(y_test, y_random),\n",
    "      0\n",
    "]\n",
    "\n",
    "  # по аналогии результаты следующих экспериментов можно будет собрать в табличку\n",
    "df_metrics"
   ]
  },
  {
   "cell_type": "markdown",
   "metadata": {
    "id": "9IwDobmQtW2P"
   },
   "source": [
    "__Support Vector Machine (Linear Kernel)__\n",
    "\n",
    "Обучите метод опорных векторов.\n",
    "\n",
    "На занятиях мы проходили линейный вариант без ядрового перехода, что соответствует линейному ядру (`LinearSVC` или же `SVC(kernel='linear')` в `sklearn.svm`).\n",
    "\n",
    "Подберите параметр регуляризации `C` с точки зрения AUC-PR (можете воспользоваться кросс-валидацией или отделить валидационную выборку от обучающей).\n"
   ]
  },
  {
   "cell_type": "code",
   "execution_count": 9,
   "metadata": {
    "execution": {
     "iopub.execute_input": "2023-11-18T10:39:04.213234Z",
     "iopub.status.busy": "2023-11-18T10:39:04.212299Z",
     "iopub.status.idle": "2023-11-18T10:44:14.445142Z",
     "shell.execute_reply": "2023-11-18T10:44:14.443559Z",
     "shell.execute_reply.started": "2023-11-18T10:39:04.213196Z"
    },
    "id": "eyjF-qc3P75Q"
   },
   "outputs": [
    {
     "data": {
      "text/plain": [
       "5.994842503189409e-05"
      ]
     },
     "execution_count": 9,
     "metadata": {},
     "output_type": "execute_result"
    }
   ],
   "source": [
    "from sklearn.metrics import make_scorer\n",
    "from sklearn.metrics import average_precision_score\n",
    "from sklearn.svm import LinearSVC\n",
    "from sklearn.model_selection import GridSearchCV\n",
    "\n",
    "\n",
    "auc_pr = make_scorer(average_precision_score, greater_is_better = True)\n",
    "C = np.logspace(-6, 2, 10) \n",
    "param = {'C': C}\n",
    "svc = LinearSVC(max_iter=100000)\n",
    "svc_grid = GridSearchCV(svc,param_grid = param, scoring = auc_pr, cv=5)\n",
    "\n",
    "svc_grid.fit(X_train, y_train)\n",
    "\n",
    "best_c = svc_grid.best_params_['C']\n",
    "best_c"
   ]
  },
  {
   "cell_type": "markdown",
   "metadata": {
    "id": "fapa63xlP75R"
   },
   "source": [
    "  На тестовой части:\n",
    "  - постройте ROC и PR кривые,\n",
    "  - посчитайте AUC-ROC, AUC-PR с точностью до 5 знаков"
   ]
  },
  {
   "cell_type": "code",
   "execution_count": 10,
   "metadata": {
    "execution": {
     "iopub.execute_input": "2023-11-18T10:53:47.084115Z",
     "iopub.status.busy": "2023-11-18T10:53:47.083700Z",
     "iopub.status.idle": "2023-11-18T10:53:47.947217Z",
     "shell.execute_reply": "2023-11-18T10:53:47.946168Z",
     "shell.execute_reply.started": "2023-11-18T10:53:47.084083Z"
    },
    "id": "xTvNT5uRP75S"
   },
   "outputs": [
    {
     "name": "stdout",
     "output_type": "stream",
     "text": [
      "Some Classifier metrics\n",
      "AUC-PR: 0.83027\n",
      "AUC-ROC: 0.84377\n"
     ]
    },
    {
     "data": {
      "image/png": "[encoded data removed]",
      "text/plain": [
       "<Figure size 792x360 with 2 Axes>"
      ]
     },
     "metadata": {
      "needs_background": "light"
     },
     "output_type": "display_data"
    }
   ],
   "source": [
    "y_pred_1 = svc_grid.decision_function(X_test)\n",
    "depict_pr_roc(y_test, y_pred_1)"
   ]
  },
  {
   "cell_type": "markdown",
   "metadata": {
    "id": "tEoGp5EDtIzW"
   },
   "source": [
    "Сравните AUC-ROC и AUC-PR для вашей модели с этими же метриками для случайного классификатора."
   ]
  },
  {
   "cell_type": "markdown",
   "metadata": {
    "id": "wnRTMhsm6Hvv"
   },
   "source": [
    "Мои значения:\n",
    "\n",
    "AUC-PR: 0.83027\n",
    "\n",
    "AUC-ROC: 0.84377\n",
    "\n",
    "Случайный классификатор:\n",
    "\n",
    "AUC-PR: 0.75283\n",
    "\n",
    "AUC-ROC: 0.50000\n",
    "\n",
    "Моя модель лучше)"
   ]
  },
  {
   "cell_type": "markdown",
   "metadata": {
    "id": "Ln5VaZE_P75S"
   },
   "source": [
    "__Logistic Regression__\n",
    "\n",
    "\n",
    "Аналогичное задание для логистической регрессии с L2 регуляризатором:\n",
    "\n",
    "\n",
    "*   подберите гиперпараметр C, используя метрику AUC-PR\n",
    "*   нарисуйте ROC, PR кривые для тестовой части\n",
    "*   выведите метрики для тестовых данных и сравните их с результатами случайного классификатора\n",
    "\n"
   ]
  },
  {
   "cell_type": "code",
   "execution_count": 11,
   "metadata": {
    "execution": {
     "iopub.execute_input": "2023-11-18T10:53:50.152112Z",
     "iopub.status.busy": "2023-11-18T10:53:50.151685Z",
     "iopub.status.idle": "2023-11-18T10:53:51.345985Z",
     "shell.execute_reply": "2023-11-18T10:53:51.344786Z",
     "shell.execute_reply.started": "2023-11-18T10:53:50.152075Z"
    },
    "id": "r1TlamoBP75S"
   },
   "outputs": [
    {
     "data": {
      "text/plain": [
       "0.21544346900318823"
      ]
     },
     "execution_count": 11,
     "metadata": {},
     "output_type": "execute_result"
    }
   ],
   "source": [
    "from sklearn.linear_model import LogisticRegression\n",
    "\n",
    "lr = LogisticRegression(max_iter=100000)\n",
    "lr_grid = GridSearchCV(lr,param_grid = param, scoring = auc_pr, cv=5)\n",
    "\n",
    "lr_grid.fit(X_train, y_train)\n",
    "\n",
    "best_c_lr = lr_grid.best_params_['C']\n",
    "best_c_lr"
   ]
  },
  {
   "cell_type": "code",
   "execution_count": 12,
   "metadata": {
    "execution": {
     "iopub.execute_input": "2023-11-18T10:53:52.187965Z",
     "iopub.status.busy": "2023-11-18T10:53:52.187583Z",
     "iopub.status.idle": "2023-11-18T10:53:53.031740Z",
     "shell.execute_reply": "2023-11-18T10:53:53.030443Z",
     "shell.execute_reply.started": "2023-11-18T10:53:52.187935Z"
    }
   },
   "outputs": [
    {
     "name": "stdout",
     "output_type": "stream",
     "text": [
      "Some Classifier metrics\n",
      "AUC-PR: 0.82915\n",
      "AUC-ROC: 0.84787\n"
     ]
    },
    {
     "data": {
      "image/png": "[encoded data removed]",
      "text/plain": [
       "<Figure size 792x360 with 2 Axes>"
      ]
     },
     "metadata": {
      "needs_background": "light"
     },
     "output_type": "display_data"
    }
   ],
   "source": [
    "y_pred_lr = lr_grid.predict_proba(X_test)[:,1]\n",
    "depict_pr_roc(y_test, y_pred_lr)"
   ]
  },
  {
   "cell_type": "markdown",
   "metadata": {},
   "source": [
    "Значения для логистической регресии:\n",
    "\n",
    "AUC-PR: 0.82915\n",
    "\n",
    "AUC-ROC: 0.84787\n",
    "\n",
    "Случайный классификатор:\n",
    "\n",
    "AUC-PR: 0.75283\n",
    "\n",
    "AUC-ROC: 0.50000\n",
    "\n",
    "Логичстическая регресия лучше)"
   ]
  },
  {
   "cell_type": "markdown",
   "metadata": {
    "id": "Gnj5PG1Rm5qX"
   },
   "source": [
    "Нарисуйте ROC, PR кривые для тестовой части для всех 3 классификаторов на одном графике"
   ]
  },
  {
   "cell_type": "code",
   "execution_count": 13,
   "metadata": {
    "execution": {
     "iopub.execute_input": "2023-11-18T10:53:54.571934Z",
     "iopub.status.busy": "2023-11-18T10:53:54.571507Z",
     "iopub.status.idle": "2023-11-18T10:53:54.582197Z",
     "shell.execute_reply": "2023-11-18T10:53:54.580776Z",
     "shell.execute_reply.started": "2023-11-18T10:53:54.571897Z"
    },
    "id": "X3BaXTRBnAwK"
   },
   "outputs": [],
   "source": [
    "def all_depict_pr_roc(y_true, predictions, classifier_names):\n",
    "    fig, ax = plt.subplots(1, 2, figsize=(11, 5))\n",
    "\n",
    "    for y_pred, classifier_name in zip(predictions, classifier_names):\n",
    "        print(classifier_name, 'metrics')\n",
    "        PrecisionRecallDisplay.from_predictions(y_true, y_pred, ax=ax[0], name=classifier_name)\n",
    "        precision, recall, _ = precision_recall_curve(y_true, y_pred)\n",
    "        print('AUC-PR: %.5f' % auc(recall, precision))\n",
    "\n",
    "        RocCurveDisplay.from_predictions(y_true, y_pred, ax=ax[1], name=classifier_name)\n",
    "        print('AUC-ROC: %.5f' % roc_auc_score(y_true, y_pred))\n",
    "\n",
    "    ax[0].set_title(\"PRC\")\n",
    "    ax[0].set_ylim(0, 1.1)\n",
    "    ax[1].set_title(\"ROC\")\n",
    "    ax[1].set_ylim(0, 1.1)\n",
    "\n",
    "    plt.tight_layout()\n",
    "    plt.legend()\n",
    "    plt.show()"
   ]
  },
  {
   "cell_type": "code",
   "execution_count": 14,
   "metadata": {
    "execution": {
     "iopub.execute_input": "2023-11-18T10:53:55.424884Z",
     "iopub.status.busy": "2023-11-18T10:53:55.424027Z",
     "iopub.status.idle": "2023-11-18T10:53:56.216994Z",
     "shell.execute_reply": "2023-11-18T10:53:56.215595Z",
     "shell.execute_reply.started": "2023-11-18T10:53:55.424842Z"
    }
   },
   "outputs": [
    {
     "name": "stdout",
     "output_type": "stream",
     "text": [
      "Random metrics\n",
      "AUC-PR: 0.75283\n",
      "AUC-ROC: 0.50000\n",
      "SVM metrics\n",
      "AUC-PR: 0.83027\n",
      "AUC-ROC: 0.84377\n",
      "LR metrics\n",
      "AUC-PR: 0.82915\n",
      "AUC-ROC: 0.84787\n"
     ]
    },
    {
     "data": {
      "image/png": "[encoded data removed]",
      "text/plain": [
       "<Figure size 792x360 with 2 Axes>"
      ]
     },
     "metadata": {
      "needs_background": "light"
     },
     "output_type": "display_data"
    }
   ],
   "source": [
    "predict = [y_random, y_pred_1, y_pred_lr]\n",
    "classifier_name = ['Random', 'SVM', 'LR']\n",
    "all_depict_pr_roc(y_test, predict, classifier_name)"
   ]
  },
  {
   "cell_type": "markdown",
   "metadata": {
    "id": "khlorKXtr1Sy"
   },
   "source": [
    "**Вопрос:** Сравните результаты LR и SVM с точки зрения всех вычисленных критериев качества, объясните различия (если они есть).\n",
    "\n"
   ]
  },
  {
   "cell_type": "markdown",
   "metadata": {
    "id": "Un_w7BMZIAf2"
   },
   "source": [
    "**Ответ:** AUC-PR лучше у SVM, в то время как AUC-ROC лучше у LR. AUC-ROC больше у LR, возможно из-за того, что у нас взаимосвзяь между объектами близка к линейной. Но вообще SVM должна давать лучшее значения, так как для SVM достаточно, чтобы отступ был больше 1, в то время как LR хочет сделать этот отступ максимальным. Поэтому SVM должно приводить к лучшим значения AUC-PR и AUC-ROC, а LR будет давать лучшие вероятности. Но как я уже говорил, все равно все зависит от взаимосвязи объектов"
   ]
  },
  {
   "cell_type": "markdown",
   "metadata": {
    "id": "RvWzOe4wP75T"
   },
   "source": [
    "#### __Задание 1.2. Визуализация в подходах SVM, LR__ (0.5 балла)\n",
    "\n"
   ]
  },
  {
   "cell_type": "markdown",
   "metadata": {
    "id": "kWS1NfYwBbQ_"
   },
   "source": [
    "В названии метода опорных векторов присутствуют некоторые \"опорные векторы\". По сути, это объекты из обучающей выборки, которые задали положение разделяющей гиперплоскости.\n",
    "\n",
    "* Сгенерируйте синтетические данные с помощью `make_classification` __с 2 признаками__, обучите на нём метод опорных векторов. В этот раз воспользуйтесь `SVC(kernel='linear')`, так как только в нём есть информация об опорных векторах, а в `LinearSVC` нет. Не забудьте зафиксировать seed для воспроизводимости\n",
    "\n",
    "* Визуализируйте разделяющую прямую, все объекты и выделите опорные векторы (атрибут `support_vectors_`)."
   ]
  },
  {
   "cell_type": "code",
   "execution_count": 15,
   "metadata": {
    "execution": {
     "iopub.execute_input": "2023-11-18T10:54:00.951543Z",
     "iopub.status.busy": "2023-11-18T10:54:00.951153Z",
     "iopub.status.idle": "2023-11-18T10:54:00.961727Z",
     "shell.execute_reply": "2023-11-18T10:54:00.960439Z",
     "shell.execute_reply.started": "2023-11-18T10:54:00.951510Z"
    },
    "id": "qIS-aGxi-Nr0"
   },
   "outputs": [],
   "source": [
    "X, y = make_classification(\n",
    "    n_samples=10000, n_features=2, n_informative=2, n_redundant=0, random_state=42)\n",
    "\n",
    "X_train, X_test, y_train, y_test = train_test_split(X, y, test_size=0.3, random_state=42)"
   ]
  },
  {
   "cell_type": "code",
   "execution_count": 16,
   "metadata": {
    "execution": {
     "iopub.execute_input": "2023-11-18T10:54:01.596448Z",
     "iopub.status.busy": "2023-11-18T10:54:01.595005Z",
     "iopub.status.idle": "2023-11-18T10:54:02.489333Z",
     "shell.execute_reply": "2023-11-18T10:54:02.488172Z",
     "shell.execute_reply.started": "2023-11-18T10:54:01.596393Z"
    }
   },
   "outputs": [
    {
     "name": "stdout",
     "output_type": "stream",
     "text": [
      "SVC ROC-AUC: 0.9456302800375469\n"
     ]
    }
   ],
   "source": [
    "from sklearn.svm import SVC\n",
    "\n",
    "svc = SVC(kernel='linear').fit(X_train, y_train)\n",
    "svc_pred = svc.decision_function(X_test)\n",
    "print('SVC ROC-AUC:', roc_auc_score(y_test, svc_pred))"
   ]
  },
  {
   "cell_type": "code",
   "execution_count": 17,
   "metadata": {
    "execution": {
     "iopub.execute_input": "2023-11-18T10:54:03.278406Z",
     "iopub.status.busy": "2023-11-18T10:54:03.277696Z",
     "iopub.status.idle": "2023-11-18T10:54:04.345702Z",
     "shell.execute_reply": "2023-11-18T10:54:04.344433Z",
     "shell.execute_reply.started": "2023-11-18T10:54:03.278351Z"
    },
    "id": "9jA3GbO9-wcU",
    "outputId": "bfe76c4d-7958-470d-bbb2-87c779d3fda0"
   },
   "outputs": [
    {
     "data": {
      "image/png": "[encoded data removed]",
      "text/plain": [
       "<Figure size 432x288 with 1 Axes>"
      ]
     },
     "metadata": {
      "needs_background": "light"
     },
     "output_type": "display_data"
    }
   ],
   "source": [
    "def plot_svm_2D(X, y, model,  plot_support=True):\n",
    "\n",
    "    #создали сетку\n",
    "    xx = np.linspace(X[:,0].min(), X[:,0].max(), 30)\n",
    "    yy = np.linspace(X[:,1].min(), X[:,1].max(), 30)\n",
    "    YY, XX = np.meshgrid(yy, xx)\n",
    "    xy = np.vstack([XX.ravel(), YY.ravel()]).T\n",
    "\n",
    "    #Ответы модели для сетки для отрисовки разделяющей прямой\n",
    "    Z = model.decision_function(xy).reshape(YY.shape)\n",
    "\n",
    "    plt.contour(XX, YY, Z, colors='k', levels=[-1, 0, 1], alpha=0.5, linestyles=['--', '-', '--'])\n",
    "\n",
    "\n",
    "    #Отрисовали выборку\n",
    "    plt.scatter(X[:,0], X[:,1], c=y)\n",
    "                \n",
    "\n",
    "    #Отрисовали опорные векторы\n",
    "    if plot_support:\n",
    "        sup_vec = model.support_vectors_\n",
    "        plt.scatter(sup_vec[:,0], sup_vec[:,1],\n",
    "                   label='support vectors',\n",
    "                   s=100,\n",
    "                   linewidth=1,\n",
    "                   edgecolor=\"blue\",\n",
    "                   facecolors='none')\n",
    "\n",
    "    plt.legend()\n",
    "\n",
    "plot_svm_2D(X, y, svc)"
   ]
  },
  {
   "cell_type": "markdown",
   "metadata": {
    "id": "gdMs4iQAIYpu"
   },
   "source": [
    "**Вопрос:** какие объекты выделяются как \"опорные\"?\n",
    "\n"
   ]
  },
  {
   "cell_type": "markdown",
   "metadata": {
    "id": "dplr4chfIXnm"
   },
   "source": [
    "**Ответ:** Объекты, которые находятся между разделюящей и отступом. Чтобы расстояние от разделяющей прямой до объектов каждого класса было максимальным"
   ]
  },
  {
   "cell_type": "markdown",
   "metadata": {
    "id": "gfpVN70PP75U"
   },
   "source": [
    "В отличие от метода опорных векторов, логистическая регрессия не пытается построить разделяющую гиперплоскость с максимальным отступом, а приближает в каждой точке пространства объектов вероятность положительных ответов $p(y=+1|x)$. Попробуйте нарисовать это распределение на плоскости, не забудьте отметить на ней все объекты."
   ]
  },
  {
   "cell_type": "code",
   "execution_count": 18,
   "metadata": {
    "execution": {
     "iopub.execute_input": "2023-11-18T10:54:06.513406Z",
     "iopub.status.busy": "2023-11-18T10:54:06.512999Z",
     "iopub.status.idle": "2023-11-18T10:54:06.538965Z",
     "shell.execute_reply": "2023-11-18T10:54:06.537261Z",
     "shell.execute_reply.started": "2023-11-18T10:54:06.513345Z"
    }
   },
   "outputs": [],
   "source": [
    "lr_1 = LogisticRegression(max_iter=100000, C = best_c_lr).fit(X_train, y_train)\n"
   ]
  },
  {
   "cell_type": "code",
   "execution_count": 19,
   "metadata": {
    "execution": {
     "iopub.execute_input": "2023-11-18T10:54:07.305577Z",
     "iopub.status.busy": "2023-11-18T10:54:07.304259Z",
     "iopub.status.idle": "2023-11-18T10:54:08.281411Z",
     "shell.execute_reply": "2023-11-18T10:54:08.280150Z",
     "shell.execute_reply.started": "2023-11-18T10:54:07.305536Z"
    },
    "id": "k5D2jq87f3MC",
    "outputId": "5a04f790-e90b-4f08-d25b-dd2f553d9d8d"
   },
   "outputs": [
    {
     "data": {
      "image/png": "[encoded data removed]",
      "text/plain": [
       "<Figure size 432x288 with 2 Axes>"
      ]
     },
     "metadata": {
      "needs_background": "light"
     },
     "output_type": "display_data"
    }
   ],
   "source": [
    "def plot_logreg_2D(X, y, model):\n",
    "\n",
    "    #создали сетку\n",
    "    xx = np.linspace(X[:,0].min(), X[:,0].max(), 100)\n",
    "    yy = np.linspace(X[:,1].min(), X[:,1].max(), 100)\n",
    "    YY, XX = np.meshgrid(yy, xx)\n",
    "    xy = np.vstack([XX.ravel(), YY.ravel()]).T\n",
    "\n",
    "    #Ответы модели для сетки для отрисовки распределения\n",
    "    Z = model.predict_proba(xy)[:, 1]\n",
    "\n",
    "    Z = Z.reshape((xx.shape[0], -1)).T\n",
    "\n",
    "\n",
    "    image = plt.imshow(Z, interpolation='nearest',\n",
    "                       extent=(xx.min(), xx.max(), yy.min(), yy.max()),\n",
    "                       aspect='auto', origin='lower', cmap=plt.cm.PuOr_r)\n",
    "\n",
    "    #Отрисовали выборку\n",
    "    plt.scatter(X[:,0], X[:,1], c = y,\n",
    "                cmap=plt.cm.Paired)\n",
    "\n",
    "    plt.colorbar(image)\n",
    "\n",
    "\n",
    "plot_logreg_2D(X, y, lr_1)"
   ]
  },
  {
   "cell_type": "markdown",
   "metadata": {
    "id": "AQ-Um7-6JnAp"
   },
   "source": [
    "**Вопрос:** Как на картинке визуализирована область, где модель не уверена ($p(y=+1|x) = 0.5$)? Как это обосновать теоритечески?\n",
    "\n"
   ]
  },
  {
   "cell_type": "markdown",
   "metadata": {
    "id": "SAAF0HiaIh9Z"
   },
   "source": [
    "**Ответ:** Она визуализирована в виде прямой, с отрицательным углом наклона. Здесь наша модель не уверена в том, какой именно это класс, поэтому здесь объекты как бы разделяют наши классы. В таких точках уравнение нашей модели приравниваются к 0, из-за чего возникает линия."
   ]
  },
  {
   "cell_type": "markdown",
   "metadata": {
    "id": "4VbJR0e3P75U"
   },
   "source": [
    "#### __Задание 2. Калибровка вероятностей__ (1 балл)\n",
    "\n"
   ]
  },
  {
   "cell_type": "markdown",
   "metadata": {
    "id": "I8taLYSgBd9u"
   },
   "source": [
    "Перейдём к оценке качества выдаваемых алгоритмами вероятностей. Начнём с калибровочных кривых.\n",
    "\n",
    "Допустим, алгоритм возвращает некоторые числа от нуля до единицы. Хорошо ли они оценивают вероятность?\n",
    "\n",
    "Хорошо откалиброванный  классификатор должен выдавать значения так, чтобы среди образцов, для которых он дал значение, близкое к $\\alpha$, примерно $\\alpha * 100 \\%$ фактически принадлежали к положительному классу. (Например, если классификатор выдает 0.3 для некоторых, то 30% из них должны принадлежать классу 1)"
   ]
  },
  {
   "cell_type": "markdown",
   "metadata": {
    "id": "TRBGtMArIxMc"
   },
   "source": [
    "Для построения калибровочной криовой используем следующий алгоритм:\n",
    "\n",
    "Разобьем отрезок $[0, 1]$ на несколько маленьких отрезков одинаковой длины.\n",
    "\n",
    "Рассмотрим $i$-й отрезок с границами $[a_i, b_i]$ и предсказания $p_1, p_2, \\dots, p_k$, которые попали в него. Пусть им соответствуют истинные ответы $y_1, y_2, \\dots, y_k$. Если алгоритм выдает корректные вероятности, то среди этих истинных ответов должно быть примерно $(a_i + b_i) / 2$ единиц. Иными словами, если нарисовать кривую, у которой по оси X отложены центры отрезков, а по оси Y — доли единичных ответов этих в отрезках, то она должна оказаться диагональной.\n",
    "\n",
    "Ниже приведена функция, которая должна рисовать такие кривые. В ней допущено две ошибки — найдите и исправьте их."
   ]
  },
  {
   "cell_type": "code",
   "execution_count": 20,
   "metadata": {
    "execution": {
     "iopub.execute_input": "2023-11-18T10:54:10.528967Z",
     "iopub.status.busy": "2023-11-18T10:54:10.528495Z",
     "iopub.status.idle": "2023-11-18T10:54:10.540700Z",
     "shell.execute_reply": "2023-11-18T10:54:10.539270Z",
     "shell.execute_reply.started": "2023-11-18T10:54:10.528926Z"
    },
    "id": "R75uefZuP75V"
   },
   "outputs": [],
   "source": [
    "def plot_calibration_curve(y_test, preds, model):\n",
    "    bin_middle_points = []\n",
    "    bin_real_ratios = []\n",
    "    n_bins = 10\n",
    "    for i in range(n_bins):\n",
    "        l = 1.0 / n_bins * i\n",
    "        r = 1.0 / n_bins * (i + 1)\n",
    "        bin_middle_points.append((l + r) / 2)\n",
    "        bin_real_ratios.append(np.mean(y_test[(preds >= l) & (preds < r)] == 1))\n",
    "    plt.figure(figsize=(6,6))\n",
    "    plt.plot(bin_middle_points, bin_real_ratios)\n",
    "    plt.ylim([-0.05, 1.05])\n",
    "#     plt.grid()\n",
    "    \n",
    "    plt.plot([0, 1], [0, 1], linestyle='--', label='Ideal Curve')\n",
    "\n",
    "    plt.title(f'Calibration curve for {model}')\n",
    "    plt.xlabel('Prob')\n",
    "    plt.ylabel('Percentage of true')\n",
    "    plt.legend()\n",
    "    plt.grid()\n"
   ]
  },
  {
   "cell_type": "markdown",
   "metadata": {
    "id": "R13YCkxMO_R4"
   },
   "source": [
    "Сгенерируйте синтетические данные аналогично использованным в самом первом задании. Постройте калибровочные кривые на тестовой части для логистической регрессии и метода опорных векторов (не забудьте перевести его предсказания в $[0;1]$).\n",
    "\n",
    "Отрисуйте калибровочную кривую идеально откалиброванной модели (диагональ)"
   ]
  },
  {
   "cell_type": "code",
   "execution_count": 21,
   "metadata": {
    "execution": {
     "iopub.execute_input": "2023-11-18T10:54:11.832912Z",
     "iopub.status.busy": "2023-11-18T10:54:11.832489Z",
     "iopub.status.idle": "2023-11-18T10:54:11.849350Z",
     "shell.execute_reply": "2023-11-18T10:54:11.847819Z",
     "shell.execute_reply.started": "2023-11-18T10:54:11.832881Z"
    },
    "id": "Jk6pz90lQYST"
   },
   "outputs": [],
   "source": [
    "X, y = make_classification(\n",
    "    n_samples=10000, n_features=10, n_informative=5, n_redundant=5, random_state=42)\n",
    "\n",
    "X_train, X_test, y_train, y_test = train_test_split(X, y, test_size=0.3, random_state=42)"
   ]
  },
  {
   "cell_type": "code",
   "execution_count": 22,
   "metadata": {
    "execution": {
     "iopub.execute_input": "2023-11-18T10:54:12.711725Z",
     "iopub.status.busy": "2023-11-18T10:54:12.711095Z",
     "iopub.status.idle": "2023-11-18T10:54:12.735232Z",
     "shell.execute_reply": "2023-11-18T10:54:12.733464Z",
     "shell.execute_reply.started": "2023-11-18T10:54:12.711679Z"
    }
   },
   "outputs": [],
   "source": [
    "svc_2 = LinearSVC(max_iter=100000, C = best_c).fit(X_train, y_train)\n",
    "y_pred_2 = svc_2.decision_function(X_test)\n",
    "y_pred_2 = (y_pred_2 - y_pred_2.min()) / (y_pred_2.max() - y_pred_2.min())"
   ]
  },
  {
   "cell_type": "code",
   "execution_count": 23,
   "metadata": {
    "execution": {
     "iopub.execute_input": "2023-11-18T10:54:13.521457Z",
     "iopub.status.busy": "2023-11-18T10:54:13.521028Z",
     "iopub.status.idle": "2023-11-18T10:54:13.900751Z",
     "shell.execute_reply": "2023-11-18T10:54:13.899441Z",
     "shell.execute_reply.started": "2023-11-18T10:54:13.521422Z"
    }
   },
   "outputs": [
    {
     "data": {
      "image/png": "[encoded data removed]",
      "text/plain": [
       "<Figure size 432x432 with 1 Axes>"
      ]
     },
     "metadata": {
      "needs_background": "light"
     },
     "output_type": "display_data"
    }
   ],
   "source": [
    "plot_calibration_curve(y_test, y_pred_2, 'SVC')"
   ]
  },
  {
   "cell_type": "code",
   "execution_count": 24,
   "metadata": {
    "execution": {
     "iopub.execute_input": "2023-11-18T10:54:13.903437Z",
     "iopub.status.busy": "2023-11-18T10:54:13.903042Z",
     "iopub.status.idle": "2023-11-18T10:54:13.937044Z",
     "shell.execute_reply": "2023-11-18T10:54:13.935401Z",
     "shell.execute_reply.started": "2023-11-18T10:54:13.903398Z"
    }
   },
   "outputs": [],
   "source": [
    "lr_2 = LogisticRegression(max_iter=100000, C = best_c_lr).fit(X_train, y_train)\n",
    "y_pred_lr_2 = lr_2.predict_proba(X_test)[:,1]\n"
   ]
  },
  {
   "cell_type": "code",
   "execution_count": 25,
   "metadata": {
    "execution": {
     "iopub.execute_input": "2023-11-18T10:54:15.168727Z",
     "iopub.status.busy": "2023-11-18T10:54:15.168255Z",
     "iopub.status.idle": "2023-11-18T10:54:15.543167Z",
     "shell.execute_reply": "2023-11-18T10:54:15.541848Z",
     "shell.execute_reply.started": "2023-11-18T10:54:15.168691Z"
    }
   },
   "outputs": [
    {
     "data": {
      "image/png": "[encoded data removed]",
      "text/plain": [
       "<Figure size 432x432 with 1 Axes>"
      ]
     },
     "metadata": {
      "needs_background": "light"
     },
     "output_type": "display_data"
    }
   ],
   "source": [
    "plot_calibration_curve(y_test, y_pred_lr_2, 'LR')"
   ]
  },
  {
   "cell_type": "markdown",
   "metadata": {
    "id": "t15IAX7GPJjF"
   },
   "source": [
    "**Вопрос**: хорошо ли откалиброваны кривые для SVM, логистической регрессии?\n",
    "\n",
    "**Ответ:** Кривая для LR хорошо откалибрована (линия идет почти по диагонали), так как она предсказывает вероятности. У SVM дела хуже, так как она старается просто отнести к какому-то классу"
   ]
  },
  {
   "cell_type": "markdown",
   "metadata": {
    "id": "cgANQZyhPHIX"
   },
   "source": [
    "Изучите распределение ответов классификаторов (постройте гистограммы с помощью `plt.hist`)."
   ]
  },
  {
   "cell_type": "code",
   "execution_count": 26,
   "metadata": {
    "execution": {
     "iopub.execute_input": "2023-11-18T10:54:17.268719Z",
     "iopub.status.busy": "2023-11-18T10:54:17.268254Z",
     "iopub.status.idle": "2023-11-18T10:54:17.860100Z",
     "shell.execute_reply": "2023-11-18T10:54:17.859229Z",
     "shell.execute_reply.started": "2023-11-18T10:54:17.268684Z"
    },
    "id": "GAP1X3NObCXp"
   },
   "outputs": [
    {
     "data": {
      "image/png": "[encoded data removed]",
      "text/plain": [
       "<Figure size 1008x504 with 2 Axes>"
      ]
     },
     "metadata": {
      "needs_background": "light"
     },
     "output_type": "display_data"
    }
   ],
   "source": [
    "fig, axs = plt.subplots(1, 2, figsize=(14, 7))\n",
    "\n",
    "axs[0].hist(y_pred_2, color='blue')\n",
    "axs[1].hist(y_pred_lr_2, color='orange')\n",
    "\n",
    "axs[0].set_title('SVM')\n",
    "axs[1].set_title('Logistic regression')\n",
    "\n",
    "plt.suptitle('Outputs distribution')\n",
    "plt.show()"
   ]
  },
  {
   "cell_type": "markdown",
   "metadata": {
    "id": "S7ga-L4CPK_O"
   },
   "source": [
    "**Вопрос:** Чем они различаются? Чем вы можете объяснить это?"
   ]
  },
  {
   "cell_type": "markdown",
   "metadata": {
    "id": "LOmrLYqdPP_0"
   },
   "source": [
    "**Ответ:** SVM не предсказывает вероятности, а просто относит их к какому-то классу, максимизируя отступ. Поэтому она примерно равномерно относит их к различным классам. Поэтому распределение похоже на нормальное. А LR выдает вероятности, поэтому где где она точно уверена, что класс 0 (-1), там вероятность маленькая, поэтому получается большое количество таких объектов. Аналогично с классом 1"
   ]
  },
  {
   "cell_type": "markdown",
   "metadata": {
    "id": "M9-6ClfaP75W"
   },
   "source": [
    "Воспользуйтесь `CalibratedClassifierCV` из `sklearn` для калибровки вероятностей метода опорных векторов на обучении и постройте с его помощью  предсказания для тестовой выборки."
   ]
  },
  {
   "cell_type": "code",
   "execution_count": 27,
   "metadata": {
    "execution": {
     "iopub.execute_input": "2023-11-18T10:54:19.778253Z",
     "iopub.status.busy": "2023-11-18T10:54:19.777046Z",
     "iopub.status.idle": "2023-11-18T10:54:20.286771Z",
     "shell.execute_reply": "2023-11-18T10:54:20.285647Z",
     "shell.execute_reply.started": "2023-11-18T10:54:19.778212Z"
    },
    "id": "RR3pVlSNP75W"
   },
   "outputs": [
    {
     "data": {
      "image/png": "[encoded data removed]",
      "text/plain": [
       "<Figure size 432x432 with 1 Axes>"
      ]
     },
     "metadata": {
      "needs_background": "light"
     },
     "output_type": "display_data"
    }
   ],
   "source": [
    "from sklearn.calibration import CalibratedClassifierCV\n",
    "sigmoid_svc = CalibratedClassifierCV(svc_2, cv=3, method='sigmoid').fit(X_train, y_train)\n",
    "sigmoid_svc_pred = sigmoid_svc.predict_proba(X_test)[:, 1]\n",
    "plot_calibration_curve(y_test, sigmoid_svc_pred, 'SVC')"
   ]
  },
  {
   "cell_type": "markdown",
   "metadata": {
    "id": "PnwOFuW6XyPc"
   },
   "source": [
    "**Вопрос:** Улучшилась ли калибровочная кривая?\n",
    "\n",
    "**Ответ:** Калибровочная кривая стала почти идеальной (проходит почти под 45 градусов)"
   ]
  },
  {
   "cell_type": "markdown",
   "metadata": {
    "id": "p2dpbXgoP75X"
   },
   "source": [
    "##### __Бонус: Авторское решение__ (0.5 балла)\n",
    "\n",
    "Реализуйте свою функцию для калибровки вероятностей, используя любой из известных подходов. Кратко опишите ваш подход и продемонстрируйте результаты. Ключевые слова для вдохновения: `Platt`, `Isotonic`."
   ]
  },
  {
   "cell_type": "markdown",
   "metadata": {},
   "source": [
    "Буду реализовывать калибровку Платта, подбирая А и С"
   ]
  },
  {
   "cell_type": "code",
   "execution_count": 28,
   "metadata": {
    "execution": {
     "iopub.execute_input": "2023-11-18T10:54:22.783790Z",
     "iopub.status.busy": "2023-11-18T10:54:22.782971Z",
     "iopub.status.idle": "2023-11-18T10:54:22.797733Z",
     "shell.execute_reply": "2023-11-18T10:54:22.796262Z",
     "shell.execute_reply.started": "2023-11-18T10:54:22.783745Z"
    }
   },
   "outputs": [],
   "source": [
    "X, y = make_classification(\n",
    "    n_samples=10000, n_features=10, n_informative=5, n_redundant=5, random_state=42)\n",
    "\n",
    "X_train, X_test, y_train, y_test = train_test_split(X, y, test_size=0.3, random_state=42)"
   ]
  },
  {
   "cell_type": "code",
   "execution_count": 29,
   "metadata": {
    "execution": {
     "iopub.execute_input": "2023-11-18T10:54:23.568442Z",
     "iopub.status.busy": "2023-11-18T10:54:23.568011Z",
     "iopub.status.idle": "2023-11-18T10:54:23.589146Z",
     "shell.execute_reply": "2023-11-18T10:54:23.586955Z",
     "shell.execute_reply.started": "2023-11-18T10:54:23.568393Z"
    }
   },
   "outputs": [],
   "source": [
    "svc_4 = LinearSVC(max_iter=100000, C = best_c).fit(X_train, y_train)\n",
    "y_pred_4 = svc_4.decision_function(X_test)"
   ]
  },
  {
   "cell_type": "code",
   "execution_count": 30,
   "metadata": {
    "execution": {
     "iopub.execute_input": "2023-11-18T10:54:24.239257Z",
     "iopub.status.busy": "2023-11-18T10:54:24.238802Z",
     "iopub.status.idle": "2023-11-18T10:54:32.483501Z",
     "shell.execute_reply": "2023-11-18T10:54:32.482052Z",
     "shell.execute_reply.started": "2023-11-18T10:54:24.239206Z"
    },
    "id": "R8mtQgBJP75X"
   },
   "outputs": [
    {
     "name": "stdout",
     "output_type": "stream",
     "text": [
      "A: -3.274299638170804\n",
      "C: -0.23315295215093876\n"
     ]
    }
   ],
   "source": [
    "A = -0.1 # просто подобрал)\n",
    "C = -0.1 \n",
    "lr = 0.01\n",
    "for i in range(100000):\n",
    "    pred = 1 / (1 + np.exp(A * y_pred_4 + C))\n",
    "    grad_A = np.dot(y_pred_4, (pred - y_test)) / len(y_test)\n",
    "    grad_C = np.sum(pred - y_test) / len(y_test)\n",
    "    A += lr * grad_A\n",
    "    C += lr * grad_C\n",
    "\n",
    "print(f\"A: {A}\")\n",
    "print(f\"C: {C}\")"
   ]
  },
  {
   "cell_type": "code",
   "execution_count": 31,
   "metadata": {
    "execution": {
     "iopub.execute_input": "2023-11-18T10:54:33.733655Z",
     "iopub.status.busy": "2023-11-18T10:54:33.732828Z",
     "iopub.status.idle": "2023-11-18T10:54:34.261998Z",
     "shell.execute_reply": "2023-11-18T10:54:34.260459Z",
     "shell.execute_reply.started": "2023-11-18T10:54:33.733611Z"
    }
   },
   "outputs": [
    {
     "data": {
      "image/png": "[encoded data removed]",
      "text/plain": [
       "<Figure size 432x432 with 1 Axes>"
      ]
     },
     "metadata": {
      "needs_background": "light"
     },
     "output_type": "display_data"
    }
   ],
   "source": [
    "sig_svc = 1 / (1 + np.exp(A * y_pred_4 + C))\n",
    "\n",
    "plot_calibration_curve(y_test, sig_svc, 'SVC')"
   ]
  },
  {
   "cell_type": "markdown",
   "metadata": {},
   "source": [
    "Не как библиотечная, но тоже ничего)"
   ]
  },
  {
   "cell_type": "markdown",
   "metadata": {
    "id": "FaOVU4vJP75X"
   },
   "source": [
    "# Часть 2. Обработка категориальных переменных (4 балла + 1.5 бонус)"
   ]
  },
  {
   "cell_type": "markdown",
   "metadata": {
    "id": "8KQ9ywUEP75X"
   },
   "source": [
    "Как мы знаем, перекодировать категориальную переменную в список чисел (к примеру 1, 2, 3, ..., n) плохо, поскольку это бы задало на множестве ее значений некоторый порядок, не имеющий смысла.\n",
    "\n",
    "В этой части мы рассмотрим два основных способа обработки категориальных значений:\n",
    "- One-hot-кодирование\n",
    "- Счётчики (CTR, mean-target кодирование, ...) — каждый категориальный признак заменяется на среднее значение целевой переменной по всем объектам, имеющим одинаковое значение в этом признаке.\n",
    "\n",
    "Начнём с one-hot-кодирования. Допустим наш категориальный признак $f_j(x)$ принимает значения из множества $C=\\{c_1, \\dots, c_m\\}$. Заменим его на $m$ бинарных признаков $b_1(x), \\dots, b_m(x)$, каждый из которых является индикатором одного из возможных категориальных значений:\n",
    "$$\n",
    "b_i(x) = [f_j(x) = c_i]\n",
    "$$"
   ]
  },
  {
   "cell_type": "markdown",
   "metadata": {
    "id": "pPsScraBP75Y"
   },
   "source": [
    "#### __Подготовка данных__\n",
    "\n",
    "(бесценный шаг)\n",
    "\n",
    "Разберем датасет [покупок велосипедов](https://www.kaggle.com/datasets/heeraldedhia/bike-buyers/): даны признаки покупателя, требуется предсказать, купит ли он/она велосипед\n",
    "\n"
   ]
  },
  {
   "cell_type": "markdown",
   "metadata": {
    "id": "BPuDzNoCo2nk"
   },
   "source": [
    "Замените пропуски в категориальных переменных на новую категорию (`'undefined'`)\n",
    "\n",
    "Разделите признаки на 2 таблицы: категориальные и числовые признаки"
   ]
  },
  {
   "cell_type": "code",
   "execution_count": 56,
   "metadata": {
    "execution": {
     "iopub.execute_input": "2023-11-18T10:54:39.271353Z",
     "iopub.status.busy": "2023-11-18T10:54:39.270922Z",
     "iopub.status.idle": "2023-11-18T10:54:39.322853Z",
     "shell.execute_reply": "2023-11-18T10:54:39.321539Z",
     "shell.execute_reply.started": "2023-11-18T10:54:39.271319Z"
    },
    "id": "rGWlojJwOEjL"
   },
   "outputs": [],
   "source": [
    "df = pd.read_csv('/Users/timurkin/Downloads/archive/bike_buyers.csv')\n",
    "#Заменим пропуски категориальных переменных\n",
    "categorical = ['Marital Status', 'Gender', 'Education', 'Occupation', 'Home Owner', 'Commute Distance', 'Region', 'Purchased Bike']\n",
    "df[categorical] = df[categorical].fillna('undefined')\n",
    "# df.isna().sum()\n",
    "# df.dtypes\n",
    "\n",
    "X = df.drop(columns=['Purchased Bike'])\n",
    "y = (df['Purchased Bike'] == 'Yes').astype('int64')\n",
    "\n",
    "categoric = ['Marital Status', 'Gender', 'Education', 'Occupation', 'Home Owner', 'Commute Distance', 'Region']\n",
    "numeric = ['Income', 'Children', 'Cars', 'Age']\n",
    "# # #Разделим на категориальные признаки и числовые\n",
    "X_numerical = X[numeric]\n",
    "X_categorical = X[categoric]"
   ]
  },
  {
   "cell_type": "markdown",
   "metadata": {
    "id": "ch0M2v8Akirw"
   },
   "source": [
    "В начале поработаем только с категориальными признаками"
   ]
  },
  {
   "cell_type": "code",
   "execution_count": 57,
   "metadata": {
    "execution": {
     "iopub.execute_input": "2023-11-18T10:54:40.914921Z",
     "iopub.status.busy": "2023-11-18T10:54:40.914523Z",
     "iopub.status.idle": "2023-11-18T10:54:40.926124Z",
     "shell.execute_reply": "2023-11-18T10:54:40.924834Z",
     "shell.execute_reply.started": "2023-11-18T10:54:40.914891Z"
    },
    "id": "QIYErZMnP75Z"
   },
   "outputs": [],
   "source": [
    "from sklearn.model_selection import train_test_split\n",
    "X_train, X_test, y_train, y_test = train_test_split(X_categorical, y, test_size=0.25, random_state=777, stratify=y)"
   ]
  },
  {
   "cell_type": "markdown",
   "metadata": {
    "id": "m5LjHkuCP75Z"
   },
   "source": [
    "#### __Задание 3. OrdinalEncoder__  (0.5 балла)\n",
    "\n",
    "Закодируйте категориальные признаки с помощью `OrdinalEncoder`. Посчитайте качество (в этом задании будем работать c __`AUC-PR`__) при применении логистической регрессии. Замерьте время, потребовавшееся на обучение модели, с учетом кодирования признаков."
   ]
  },
  {
   "cell_type": "code",
   "execution_count": 58,
   "metadata": {
    "execution": {
     "iopub.execute_input": "2023-11-18T10:54:41.988796Z",
     "iopub.status.busy": "2023-11-18T10:54:41.988379Z",
     "iopub.status.idle": "2023-11-18T10:54:42.015570Z",
     "shell.execute_reply": "2023-11-18T10:54:42.014585Z",
     "shell.execute_reply.started": "2023-11-18T10:54:41.988761Z"
    },
    "id": "bdZT2tXXP75a"
   },
   "outputs": [
    {
     "name": "stdout",
     "output_type": "stream",
     "text": [
      "LR AUC-PR: 0.57807\n",
      "TIME:0.015326976776123047\n"
     ]
    }
   ],
   "source": [
    "from sklearn.preprocessing import OrdinalEncoder\n",
    "import time\n",
    "\n",
    "t_st = time.time()\n",
    "\n",
    "ordenc = OrdinalEncoder()\n",
    "X_train = ordenc.fit_transform(X_train)\n",
    "X_test = ordenc.transform(X_test)\n",
    "lr_3 = LogisticRegression(max_iter=100000, C = best_c_lr).fit(X_train, y_train)\n",
    "t_fin = time.time()\n",
    "y_pred_lr_3 = lr_3.predict_proba(X_test)[:,1]\n",
    "\n",
    "precision, recall, _ = precision_recall_curve(y_test, y_pred_lr_3)\n",
    "print('LR AUC-PR: %.5f' % auc(recall, precision))\n",
    "print(f'TIME:{t_fin - t_st}')\n",
    "\n",
    "\n",
    "\n"
   ]
  },
  {
   "cell_type": "markdown",
   "metadata": {
    "id": "ScIo7NthP75a"
   },
   "source": [
    "#### __Задание 4. One-Hot Encoding__ (0.5 балла)\n",
    "\n"
   ]
  },
  {
   "cell_type": "markdown",
   "metadata": {
    "id": "p3sFuKAtLwOx"
   },
   "source": [
    "Закодируйте все категориальные признаки с помощью one-hot-кодирования. Обучите логистическую регрессию и посмотрите, как изменилось качество модели (в сравнении с тем, что было до кодирования). Измерьте время, потребовавшееся на кодирование категориальных признаков и обучение модели."
   ]
  },
  {
   "cell_type": "code",
   "execution_count": 59,
   "metadata": {
    "execution": {
     "iopub.execute_input": "2023-11-18T10:54:44.865339Z",
     "iopub.status.busy": "2023-11-18T10:54:44.864242Z",
     "iopub.status.idle": "2023-11-18T10:54:44.875611Z",
     "shell.execute_reply": "2023-11-18T10:54:44.874318Z",
     "shell.execute_reply.started": "2023-11-18T10:54:44.865295Z"
    }
   },
   "outputs": [],
   "source": [
    "from sklearn.model_selection import train_test_split\n",
    "X_train, X_test, y_train, y_test = train_test_split(X_categorical, y, test_size=0.25, random_state=777, stratify=y)"
   ]
  },
  {
   "cell_type": "code",
   "execution_count": 60,
   "metadata": {
    "execution": {
     "iopub.execute_input": "2023-11-18T10:54:45.648317Z",
     "iopub.status.busy": "2023-11-18T10:54:45.647923Z",
     "iopub.status.idle": "2023-11-18T10:54:45.689881Z",
     "shell.execute_reply": "2023-11-18T10:54:45.688534Z",
     "shell.execute_reply.started": "2023-11-18T10:54:45.648286Z"
    },
    "id": "t4PbjLIHP75a"
   },
   "outputs": [
    {
     "name": "stdout",
     "output_type": "stream",
     "text": [
      "LR AUC-PR: 0.66083\n",
      "TIME:0.020191431045532227\n"
     ]
    }
   ],
   "source": [
    "from sklearn.preprocessing import OneHotEncoder\n",
    "\n",
    "t_st = time.time()\n",
    "\n",
    "hotenc = OneHotEncoder()\n",
    "X_train = hotenc.fit_transform(X_train)\n",
    "X_test = hotenc.transform(X_test)\n",
    "lr_3 = LogisticRegression(max_iter=100000, C = best_c_lr).fit(X_train, y_train)\n",
    "t_fin = time.time()\n",
    "y_pred_lr_3 = lr_3.predict_proba(X_test)[:,1]\n",
    "\n",
    "precision, recall, _ = precision_recall_curve(y_test, y_pred_lr_3)\n",
    "print('LR AUC-PR: %.5f' % auc(recall, precision))\n",
    "print(f'TIME:{t_fin - t_st}')"
   ]
  },
  {
   "cell_type": "markdown",
   "metadata": {
    "id": "9p-qOs6lP75b"
   },
   "source": [
    "Как можно заметить, one-hot-кодирование может сильно увеличивать количество признаков. Это сказывается на объеме необходимой памяти, особенно, если некоторый признак имеет большое количество значений.\n"
   ]
  },
  {
   "cell_type": "markdown",
   "metadata": {
    "id": "l1q3k3yaLF8Y"
   },
   "source": [
    "#### __Задание 5. Mean-target Encoding__ (1 балл)"
   ]
  },
  {
   "cell_type": "markdown",
   "metadata": {
    "id": "tanu5Hm5Lr7R"
   },
   "source": [
    "> Проблемы разрастания числа признаков можно избежать в другом способе кодирования категориальных признаков — mean-target encoding (для простоты будем называть это __счётчиками__). Сравним эффективность методов в рамках нашей маркетинговой задачи.\n",
    "\n",
    "> Основная идея в том, что важны не сами категории, а значения целевой переменной, которые имеют объекты этой категории. Каждый категориальный признак мы заменим средним значением целевой переменной по всем объектам этой же категории:\n",
    "\n",
    "$$\n",
    "g_j(x, X) = \\frac{\\sum_{i=1}^{\\ell} [f_j(x) = f_j(x_i)][y_i = +1]}{\\sum_{i=1}^{\\ell} [f_j(x) = f_j(x_i)]}\n",
    "$$\n",
    "\n",
    "Закодируйте категориальные переменные с помощью счётчиков (ровно так, как описано выше, без каких-либо хитростей). Обучите логистическую регрессию и посмотрите на качество модели на тестовом множестве.\n",
    "\n",
    "Сравните время обучения с предыдущими экспериментами (с учетом кодирования признаков)."
   ]
  },
  {
   "cell_type": "code",
   "execution_count": 61,
   "metadata": {
    "execution": {
     "iopub.execute_input": "2023-11-18T10:54:47.349793Z",
     "iopub.status.busy": "2023-11-18T10:54:47.349314Z",
     "iopub.status.idle": "2023-11-18T10:54:47.360258Z",
     "shell.execute_reply": "2023-11-18T10:54:47.359179Z",
     "shell.execute_reply.started": "2023-11-18T10:54:47.349758Z"
    }
   },
   "outputs": [],
   "source": [
    "from sklearn.model_selection import train_test_split\n",
    "X_train, X_test, y_train, y_test = train_test_split(X_categorical, y, test_size=0.25, random_state=777, stratify=y)"
   ]
  },
  {
   "cell_type": "code",
   "execution_count": 62,
   "metadata": {
    "execution": {
     "iopub.execute_input": "2023-11-18T10:54:48.514932Z",
     "iopub.status.busy": "2023-11-18T10:54:48.514514Z",
     "iopub.status.idle": "2023-11-18T10:54:48.581217Z",
     "shell.execute_reply": "2023-11-18T10:54:48.580418Z",
     "shell.execute_reply.started": "2023-11-18T10:54:48.514898Z"
    },
    "id": "v9MNSGWrgz5-"
   },
   "outputs": [
    {
     "name": "stdout",
     "output_type": "stream",
     "text": [
      "LR AUC-PR: 0.65023\n",
      "TIME:0.03448200225830078\n"
     ]
    }
   ],
   "source": [
    "t_st = time.time()\n",
    "uniq_mean = {}\n",
    "\n",
    "for col in X_train.columns:\n",
    "    y_mean = y_train.groupby(X_train[col]).mean()\n",
    "    uniq_mean[col] = y_mean\n",
    "    X_train[col + 'mte'] = X_train[col].map(uniq_mean[col])\n",
    "    X_train.drop(columns=[col], inplace=True)\n",
    "\n",
    "for col in X_test.columns:\n",
    "    X_test[col + 'mte'] = X_test[col].map(uniq_mean[col]).fillna(y_train.mean())\n",
    "    X_test.drop(columns=[col], inplace=True)\n",
    "\n",
    "lr_4 = LogisticRegression(max_iter=100000, C = best_c_lr).fit(X_train, y_train)\n",
    "t_fin = time.time()\n",
    "y_pred_lr_4 = lr_4.predict_proba(X_test)[:,1]\n",
    "\n",
    "precision, recall, _ = precision_recall_curve(y_test, y_pred_lr_4)\n",
    "print('LR AUC-PR: %.5f' % auc(recall, precision))\n",
    "print(f'TIME:{t_fin - t_st}')"
   ]
  },
  {
   "cell_type": "markdown",
   "metadata": {
    "id": "ABXherJ3LGBj"
   },
   "source": [
    "##### __Бонус: Эффективная реализация (1 балл)__\n",
    "\n",
    "Здесь и далее реализуйте вычисление счетчиков с помощью трансформера (наследуйтесь от классов `BaseEstimator, TransformerMixin` из `sklearn.base`). Обратите внимание, что все вычисления должны быть векторизованными, трансформер не должен модифицировать передаваемую ему выборку inplace, а все необходимые статистики нужно считать только по обучающей выборке в методе `fit`. Ваш трансформер должен принимать при инициализации список из категориальных признаков и изменять только их."
   ]
  },
  {
   "cell_type": "code",
   "execution_count": 63,
   "metadata": {
    "execution": {
     "iopub.execute_input": "2023-11-18T10:54:49.785780Z",
     "iopub.status.busy": "2023-11-18T10:54:49.784736Z",
     "iopub.status.idle": "2023-11-18T10:54:49.794319Z",
     "shell.execute_reply": "2023-11-18T10:54:49.793020Z",
     "shell.execute_reply.started": "2023-11-18T10:54:49.785741Z"
    }
   },
   "outputs": [],
   "source": [
    "from sklearn.model_selection import train_test_split\n",
    "X_train, X_test, y_train, y_test = train_test_split(X_categorical, y, test_size=0.25, random_state=777, stratify=y)"
   ]
  },
  {
   "cell_type": "code",
   "execution_count": 64,
   "metadata": {
    "execution": {
     "iopub.execute_input": "2023-11-18T10:54:50.414531Z",
     "iopub.status.busy": "2023-11-18T10:54:50.414113Z",
     "iopub.status.idle": "2023-11-18T10:54:50.457689Z",
     "shell.execute_reply": "2023-11-18T10:54:50.456263Z",
     "shell.execute_reply.started": "2023-11-18T10:54:50.414498Z"
    },
    "id": "Kk8D4dDuP75b"
   },
   "outputs": [
    {
     "name": "stdout",
     "output_type": "stream",
     "text": [
      "LR AUC-PR: 0.65023\n",
      "TIME:0.021928071975708008\n"
     ]
    }
   ],
   "source": [
    "from sklearn.base import BaseEstimator, TransformerMixin\n",
    "\n",
    "class Mean_TargetEncoder(BaseEstimator, TransformerMixin):\n",
    "    def __init__(self, categoric_feaut):\n",
    "        self.categoric_feaut = categoric_feaut\n",
    "        self.uniq_mean = {}\n",
    "    \n",
    "    def fit(self, X, y):\n",
    "        for feature in self.categoric_feaut:\n",
    "            self.uniq_mean[feature] = y.groupby(X[feature]).mean()\n",
    "        return self\n",
    "    \n",
    "    def transform(self, X, y=None):\n",
    "        X_transform = X.copy()\n",
    "        for feature in self.categoric_feaut:\n",
    "            X_transform[feature] = X_transform[feature].map(self.uniq_mean[feature])\n",
    "        return X_transform\n",
    "\n",
    "t_st = time.time()\n",
    "\n",
    "mte = Mean_TargetEncoder(categoric_feaut=categoric).fit(X_train, y_train)\n",
    "\n",
    "X_train_mte = mte.transform(X_train, y_train)\n",
    "X_test_mte = mte.transform(X_test, y_train)\n",
    "\n",
    "lr_5 = LogisticRegression(max_iter=100000, C = best_c_lr).fit(X_train_mte, y_train)\n",
    "t_fin = time.time()\n",
    "y_pred_lr_5 = lr_5.predict_proba(X_test_mte)[:,1]\n",
    "\n",
    "precision, recall, _ = precision_recall_curve(y_test, y_pred_lr_5)\n",
    "print('LR AUC-PR: %.5f' % auc(recall, precision))\n",
    "print(f'TIME:{t_fin - t_st}')\n"
   ]
  },
  {
   "cell_type": "markdown",
   "metadata": {
    "id": "bH-JPoINqJ62"
   },
   "source": [
    "_______\n",
    "\n",
    "__Методы борьбы с переобучением счетчиков__\n",
    "\n",
    "\n",
    "Отметим, что mean-target encoding признаки сами по себе являются классификаторами и, обучаясь на них, мы допускаем \"утечку\" целевой переменной в признаки. Это ведёт к __переобучению__, поэтому считать такие признаки необходимо таким образом, чтобы при вычислении для конкретного объекта его __целевая метка не использовалась__.\n",
    "\n",
    "Это можно делать следующими способами:\n",
    "1. Вычислять значение счётчика по всем объектам расположенным выше в датасете (например, если у нас выборка отсортирована по времени).\n",
    "2. Вычислять по фолдам, то есть делить выборку на некоторое количество частей и подсчитывать значение признаков по всем фолдам кроме текущего (как делается в кросс-валидации).\n",
    "3. Внесение некоторого шума в посчитанные признаки.\n",
    "\n",
    "#### __Задание 6. Пошумим__  (0.5 балла)\n",
    "\n",
    "Реализуйте корректное вычисление счётчиков самым простым способом — добавление шума к значениям.  При этом постарайтесь найти баланс между борьбой с переобучением и сохранением полезности признаков. Снова обучите логистическую регрессию, оцените качество."
   ]
  },
  {
   "cell_type": "code",
   "execution_count": 75,
   "metadata": {
    "execution": {
     "iopub.execute_input": "2023-11-18T10:54:51.746601Z",
     "iopub.status.busy": "2023-11-18T10:54:51.746181Z",
     "iopub.status.idle": "2023-11-18T10:54:51.804768Z",
     "shell.execute_reply": "2023-11-18T10:54:51.803556Z",
     "shell.execute_reply.started": "2023-11-18T10:54:51.746568Z"
    },
    "id": "HiqJBxrAP75c"
   },
   "outputs": [
    {
     "name": "stdout",
     "output_type": "stream",
     "text": [
      "LR AUC-PR: 0.65649\n",
      "TIME:0.021821260452270508\n"
     ]
    }
   ],
   "source": [
    "from sklearn.model_selection import train_test_split\n",
    "X_train, X_test, y_train, y_test = train_test_split(X_categorical, y, test_size=0.25, random_state=777, stratify=y)\n",
    "\n",
    "class Mean_TargetEncoder_eps(BaseEstimator, TransformerMixin):\n",
    "    def __init__(self, categoric_feaut):\n",
    "        self.categoric_feaut = categoric_feaut\n",
    "        self.uniq_mean = {}\n",
    "    \n",
    "    def fit(self, X, y):\n",
    "        for feature in self.categoric_feaut:\n",
    "            self.uniq_mean[feature] = y.groupby(X[feature]).mean()\n",
    "        return self\n",
    "    \n",
    "    def transform(self, X, y=None):\n",
    "        X_transform = X.copy()\n",
    "        for feature in self.categoric_feaut:\n",
    "            X_transform[feature] = X_transform[feature].map(self.uniq_mean[feature]) + np.random.normal(0, 0.01, size=X_transform.shape[0])\n",
    "        return X_transform\n",
    "\n",
    "t_st = time.time()\n",
    "\n",
    "mte = Mean_TargetEncoder_eps(categoric_feaut=categoric).fit(X_train, y_train)\n",
    "\n",
    "X_train_mte = mte.transform(X_train, y_train)\n",
    "X_test_mte = mte.transform(X_test, y_train)\n",
    "\n",
    "lr_5 = LogisticRegression(max_iter=100000, C = best_c_lr).fit(X_train_mte, y_train)\n",
    "t_fin = time.time()\n",
    "y_pred_lr_5 = lr_5.predict_proba(X_test_mte)[:,1]\n",
    "\n",
    "precision, recall, _ = precision_recall_curve(y_test, y_pred_lr_5)\n",
    "print('LR AUC-PR: %.5f' % auc(recall, precision))\n",
    "print(f'TIME:{t_fin - t_st}')"
   ]
  },
  {
   "cell_type": "markdown",
   "metadata": {
    "id": "UOxwE8rGLSzH"
   },
   "source": [
    "**Вопрос:** Сделайте выводы. Помогло ли добавление шума? Почему?\n",
    "\n",
    "**Ответ:** Помогло, но не очень сильно, тут возникает сильный рандом). Каждый раз перезапуская ячейку значения меняются, что и очевидно, так как мы берем рандомные значения из нормального распределения. Еще сильно влияет матож и дисперсия"
   ]
  },
  {
   "cell_type": "markdown",
   "metadata": {
    "id": "1GtUtPCjP75c"
   },
   "source": [
    "##### __Бонус: другой подход__ (0.5 балла)\n",
    "\n",
    "Посчитайте корректные счётчики первым или вторым способов из описанных выше (не забудьте добавить и шум).\n",
    "\n",
    "\n"
   ]
  },
  {
   "cell_type": "markdown",
   "metadata": {},
   "source": [
    "Так как у нас нет времени записи объекта в датасет, то первый способоб сделать нельзя. \n",
    "\n",
    "Буду делать второй способ, разбивая по фолдам "
   ]
  },
  {
   "cell_type": "code",
   "execution_count": 76,
   "metadata": {
    "execution": {
     "iopub.execute_input": "2023-11-18T10:54:53.551587Z",
     "iopub.status.busy": "2023-11-18T10:54:53.551158Z",
     "iopub.status.idle": "2023-11-18T10:54:53.653591Z",
     "shell.execute_reply": "2023-11-18T10:54:53.652315Z",
     "shell.execute_reply.started": "2023-11-18T10:54:53.551546Z"
    },
    "id": "AjqsSTd6P75c"
   },
   "outputs": [
    {
     "name": "stdout",
     "output_type": "stream",
     "text": [
      "LR AUC-PR: 0.64136\n",
      "TIME:0.05907607078552246\n"
     ]
    }
   ],
   "source": [
    "from sklearn.model_selection import KFold\n",
    "from sklearn.model_selection import train_test_split\n",
    "X_train, X_test, y_train, y_test = train_test_split(X_categorical, y, test_size=0.25, random_state=777, stratify=y)\n",
    "\n",
    "class Mean_TargetEncoder_KFold(BaseEstimator, TransformerMixin):\n",
    "    def __init__(self, categoric_feaut, n_splits=5):\n",
    "        self.categoric_feaut = categoric_feaut\n",
    "        self.n_splits = n_splits\n",
    "        self.uniq_mean = {}\n",
    "    \n",
    "    def fit(self, X, y):\n",
    "        kf = KFold(n_splits = self.n_splits)\n",
    "\n",
    "        for feature in self.categoric_feaut:\n",
    "            feat_val = []\n",
    "            \n",
    "            for i, (train_index, test_index) in enumerate(kf.split(X, y)):\n",
    "                X_train, y_train = X.iloc[train_index], y.iloc[train_index]\n",
    "                y_means = y_train.groupby(X_train[feature]).mean()\n",
    "                feat_val.append(y_means)\n",
    "\n",
    "            self.uniq_mean[feature] = pd.concat(feat_val).groupby(level=0).mean()\n",
    "\n",
    "        return self\n",
    "    \n",
    "    def transform(self, X, y=None):\n",
    "        X_transform = X.copy()\n",
    "        for feature in self.categoric_feaut:\n",
    "            X_transform[feature] = X_transform[feature].map(self.uniq_mean[feature]) + np.random.normal(0, 0.01, size=X_transform.shape[0])\n",
    "        return X_transform\n",
    "\n",
    "\n",
    "t_st = time.time()\n",
    "\n",
    "mte_kf = Mean_TargetEncoder_KFold(categoric_feaut=categoric).fit(X_train, y_train)\n",
    "\n",
    "X_train_mte_kf = mte_kf.transform(X_train, y_train)\n",
    "X_test_mte_kf = mte_kf.transform(X_test, y_train)\n",
    "\n",
    "lr_6 = LogisticRegression(max_iter=100000, C = best_c_lr).fit(X_train_mte_kf, y_train)\n",
    "t_fin = time.time()\n",
    "y_pred_lr_6 = lr_6.predict_proba(X_test_mte_kf)[:,1]\n",
    "\n",
    "precision, recall, _ = precision_recall_curve(y_test, y_pred_lr_6)\n",
    "print('LR AUC-PR: %.5f' % auc(recall, precision))\n",
    "print(f'TIME:{t_fin - t_st}')"
   ]
  },
  {
   "cell_type": "markdown",
   "metadata": {
    "id": "aMe2b5i6P75d"
   },
   "source": [
    "#### __Задание 7. Сглаживание счетчиков__  (1 балл)"
   ]
  },
  {
   "cell_type": "markdown",
   "metadata": {
    "id": "4gnmTaJqP75d"
   },
   "source": [
    "> Теперь ответим на следующий вопрос: что будет, если некоторая категория встречается в выборке всего несколько раз? По этой причине производится сглаживание счётчиков. Например, на практике хорошие результаты показывает использование сглаживания средним по всей выборке:\n",
    "$$\n",
    "g_j(x, X) = \\frac{\\sum_{i=1}^{\\ell} [f_j(x) = f_j(x_i)][y_i = +1] + C \\times global\\_mean}{\\sum_{i=1}^{\\ell} [f_j(x) = f_j(x_i)] + C}\n",
    "$$\n",
    "где $global\\_mean$ — доля объектов положительного класса в выборке, $C$ — параметр, определяющий степень сглаживания (можно использовать 10 или подобрать для каждого признака свой). Идея в том, что мы \"разбавляем\" среднее значение по категории глобальным средним значением. И тем меньше, чем большее количество объектов этой категории встречается в выборке.\n",
    "\n",
    "> Вместо среднего значения целевой переменной для сглаживания можно использовать любое другое значение от 0 до 1 (этот параметр иногда называют $prior$). Можно сделать несколько признаков с разными значениями параметра. На практике в задачах бинарной классификации полезными бывают даже отрицательные значения!\n",
    "\n",
    "Добавьте сглаживание, описанное выше и повторите эксперименты. Подберите $C$, чтобы качество было лучше, чем при использовании One-Hot-Encoding\n"
   ]
  },
  {
   "cell_type": "code",
   "execution_count": 77,
   "metadata": {
    "execution": {
     "iopub.execute_input": "2023-11-18T10:54:55.148878Z",
     "iopub.status.busy": "2023-11-18T10:54:55.148454Z",
     "iopub.status.idle": "2023-11-18T10:54:55.219692Z",
     "shell.execute_reply": "2023-11-18T10:54:55.218343Z",
     "shell.execute_reply.started": "2023-11-18T10:54:55.148846Z"
    },
    "id": "4xRMlYQlP75d"
   },
   "outputs": [
    {
     "name": "stdout",
     "output_type": "stream",
     "text": [
      "LR AUC-PR: 0.66818\n",
      "TIME:0.031564950942993164\n"
     ]
    }
   ],
   "source": [
    "X_train, X_test, y_train, y_test = train_test_split(X_categorical, y, test_size=0.25, random_state=777, stratify=y)\n",
    "\n",
    "class Mean_TargetEncoder_gl_mean(BaseEstimator, TransformerMixin):\n",
    "    def __init__(self, categoric_feaut, C):\n",
    "        self.categoric_feaut = categoric_feaut\n",
    "        self.C = C\n",
    "        self.uniq_mean = {}\n",
    "        self.gl_mean = 0\n",
    "    \n",
    "    def fit(self, X, y):\n",
    "        self.global_mean = y.mean()\n",
    "        for feature in self.categoric_feaut:\n",
    "            feature_cnt = X[feature].value_counts()\n",
    "            feature_means = y.groupby(X[feature]).mean()\n",
    "            self.uniq_mean[feature] = (feature_cnt * feature_means + self.C * self.global_mean) / (feature_cnt + self.C)\n",
    "        return self\n",
    "    \n",
    "    def transform(self, X, y=None):\n",
    "        X_transform = X.copy()\n",
    "        for feature in self.categoric_feaut:\n",
    "            X_transform[feature] = X_transform[feature].map(self.uniq_mean[feature])\n",
    "            if y is not None:\n",
    "                X_transform[feature].fillna(self.global_mean, inplace=True)\n",
    "        return X_transform\n",
    "\n",
    "t_st = time.time()\n",
    "\n",
    "mte_gl_mean = Mean_TargetEncoder_gl_mean(categoric_feaut=categoric, C = 10).fit(X_train, y_train)\n",
    "\n",
    "X_train_mte_gl_mean = mte_gl_mean.transform(X_train, y_train)\n",
    "X_test_mte_gl_mean = mte_gl_mean.transform(X_test, y_train)\n",
    "\n",
    "lr_7 = LogisticRegression(max_iter=100000, C = best_c_lr).fit(X_train_mte_gl_mean, y_train)\n",
    "t_fin = time.time()\n",
    "y_pred_lr_7 = lr_7.predict_proba(X_test_mte_gl_mean)[:,1]\n",
    "\n",
    "precision, recall, _ = precision_recall_curve(y_test, y_pred_lr_7)\n",
    "print('LR AUC-PR: %.5f' % auc(recall, precision))\n",
    "print(f'TIME:{t_fin - t_st}')"
   ]
  },
  {
   "cell_type": "markdown",
   "metadata": {},
   "source": [
    "При С = 10 качество лучше:  \n",
    "\n",
    "0.66818 > 0.65023"
   ]
  },
  {
   "cell_type": "markdown",
   "metadata": {
    "id": "TksKMbr_P75d"
   },
   "source": [
    "#### **Задание 8. Числовые или категориальные?**  (0.5 балла)\n",
    "\n",
    "Теперь добавим числовые признаки к признакам-счетчикам.\n",
    "\n",
    "\n",
    "В данных есть пропуски - замените их средним значением признака\n",
    "\n"
   ]
  },
  {
   "cell_type": "code",
   "execution_count": 78,
   "metadata": {
    "execution": {
     "iopub.execute_input": "2023-11-18T10:54:57.095794Z",
     "iopub.status.busy": "2023-11-18T10:54:57.095353Z",
     "iopub.status.idle": "2023-11-18T10:54:57.110154Z",
     "shell.execute_reply": "2023-11-18T10:54:57.108724Z",
     "shell.execute_reply.started": "2023-11-18T10:54:57.095761Z"
    },
    "id": "NGE4O-alP75e"
   },
   "outputs": [
    {
     "data": {
      "text/plain": [
       "Income      0\n",
       "Children    0\n",
       "Cars        0\n",
       "Age         0\n",
       "dtype: int64"
      ]
     },
     "execution_count": 78,
     "metadata": {},
     "output_type": "execute_result"
    }
   ],
   "source": [
    "# X_numerical.head()\n",
    "# X_numerical.isna().sum()\n",
    "mn_val = X_numerical.mean()\n",
    "X_numerical.fillna(mn_val, inplace=True)\n",
    "X_numerical.isna().sum()\n"
   ]
  },
  {
   "cell_type": "code",
   "execution_count": 79,
   "metadata": {
    "execution": {
     "iopub.execute_input": "2023-11-18T10:55:01.685121Z",
     "iopub.status.busy": "2023-11-18T10:55:01.684694Z",
     "iopub.status.idle": "2023-11-18T10:55:01.702582Z",
     "shell.execute_reply": "2023-11-18T10:55:01.701032Z",
     "shell.execute_reply.started": "2023-11-18T10:55:01.685064Z"
    }
   },
   "outputs": [
    {
     "data": {
      "text/html": [
       "<div>\n",
       "<style scoped>\n",
       "    .dataframe tbody tr th:only-of-type {\n",
       "        vertical-align: middle;\n",
       "    }\n",
       "\n",
       "    .dataframe tbody tr th {\n",
       "        vertical-align: top;\n",
       "    }\n",
       "\n",
       "    .dataframe thead th {\n",
       "        text-align: right;\n",
       "    }\n",
       "</style>\n",
       "<table border=\"1\" class=\"dataframe\">\n",
       "  <thead>\n",
       "    <tr style=\"text-align: right;\">\n",
       "      <th></th>\n",
       "      <th>Marital Status</th>\n",
       "      <th>Gender</th>\n",
       "      <th>Education</th>\n",
       "      <th>Occupation</th>\n",
       "      <th>Home Owner</th>\n",
       "      <th>Commute Distance</th>\n",
       "      <th>Region</th>\n",
       "    </tr>\n",
       "  </thead>\n",
       "  <tbody>\n",
       "    <tr>\n",
       "      <th>0</th>\n",
       "      <td>Married</td>\n",
       "      <td>Female</td>\n",
       "      <td>Bachelors</td>\n",
       "      <td>Skilled Manual</td>\n",
       "      <td>Yes</td>\n",
       "      <td>0-1 Miles</td>\n",
       "      <td>Europe</td>\n",
       "    </tr>\n",
       "    <tr>\n",
       "      <th>1</th>\n",
       "      <td>Married</td>\n",
       "      <td>Male</td>\n",
       "      <td>Partial College</td>\n",
       "      <td>Clerical</td>\n",
       "      <td>Yes</td>\n",
       "      <td>0-1 Miles</td>\n",
       "      <td>Europe</td>\n",
       "    </tr>\n",
       "    <tr>\n",
       "      <th>2</th>\n",
       "      <td>Married</td>\n",
       "      <td>Male</td>\n",
       "      <td>Partial College</td>\n",
       "      <td>Professional</td>\n",
       "      <td>No</td>\n",
       "      <td>2-5 Miles</td>\n",
       "      <td>Europe</td>\n",
       "    </tr>\n",
       "    <tr>\n",
       "      <th>3</th>\n",
       "      <td>Single</td>\n",
       "      <td>undefined</td>\n",
       "      <td>Bachelors</td>\n",
       "      <td>Professional</td>\n",
       "      <td>Yes</td>\n",
       "      <td>5-10 Miles</td>\n",
       "      <td>Pacific</td>\n",
       "    </tr>\n",
       "    <tr>\n",
       "      <th>4</th>\n",
       "      <td>Single</td>\n",
       "      <td>Male</td>\n",
       "      <td>Bachelors</td>\n",
       "      <td>Clerical</td>\n",
       "      <td>No</td>\n",
       "      <td>0-1 Miles</td>\n",
       "      <td>Europe</td>\n",
       "    </tr>\n",
       "  </tbody>\n",
       "</table>\n",
       "</div>"
      ],
      "text/plain": [
       "  Marital Status     Gender        Education      Occupation Home Owner  \\\n",
       "0        Married     Female        Bachelors  Skilled Manual        Yes   \n",
       "1        Married       Male  Partial College        Clerical        Yes   \n",
       "2        Married       Male  Partial College    Professional         No   \n",
       "3         Single  undefined        Bachelors    Professional        Yes   \n",
       "4         Single       Male        Bachelors        Clerical         No   \n",
       "\n",
       "  Commute Distance   Region  \n",
       "0        0-1 Miles   Europe  \n",
       "1        0-1 Miles   Europe  \n",
       "2        2-5 Miles   Europe  \n",
       "3       5-10 Miles  Pacific  \n",
       "4        0-1 Miles   Europe  "
      ]
     },
     "execution_count": 79,
     "metadata": {},
     "output_type": "execute_result"
    }
   ],
   "source": [
    "X[categoric].head()"
   ]
  },
  {
   "cell_type": "markdown",
   "metadata": {
    "id": "JfqXdaqblnZo"
   },
   "source": [
    " Сейчас для числовых признаков мы ищем линейную зависимость, что в общем случае  может быть неверной гипотезой. Тем не менее, у этих признаков есть довольно много уникальных значений (сколько?), поэтому применять к ним one-hot кодирование может оказаться излишним. Попробуйте закодировать эти признаки с помощью счетчиков (вместе и по отдельности). Стало ли лучше?"
   ]
  },
  {
   "cell_type": "code",
   "execution_count": 80,
   "metadata": {
    "execution": {
     "iopub.execute_input": "2023-11-18T10:55:02.974491Z",
     "iopub.status.busy": "2023-11-18T10:55:02.974069Z",
     "iopub.status.idle": "2023-11-18T10:55:02.984897Z",
     "shell.execute_reply": "2023-11-18T10:55:02.983161Z",
     "shell.execute_reply.started": "2023-11-18T10:55:02.974457Z"
    },
    "id": "3p_jGTg-h3MG"
   },
   "outputs": [
    {
     "data": {
      "text/plain": [
       "Income      17\n",
       "Children     7\n",
       "Cars         6\n",
       "Age         54\n",
       "dtype: int64"
      ]
     },
     "execution_count": 80,
     "metadata": {},
     "output_type": "execute_result"
    }
   ],
   "source": [
    "uniq = X_numerical.nunique()\n",
    "uniq"
   ]
  },
  {
   "cell_type": "code",
   "execution_count": 81,
   "metadata": {
    "execution": {
     "iopub.execute_input": "2023-11-18T10:55:03.869889Z",
     "iopub.status.busy": "2023-11-18T10:55:03.869479Z",
     "iopub.status.idle": "2023-11-18T10:55:03.896816Z",
     "shell.execute_reply": "2023-11-18T10:55:03.895549Z",
     "shell.execute_reply.started": "2023-11-18T10:55:03.869851Z"
    }
   },
   "outputs": [],
   "source": [
    "from sklearn.compose import ColumnTransformer\n",
    "from sklearn.preprocessing import StandardScaler\n",
    "from sklearn.pipeline import Pipeline\n",
    "\n",
    "categoric = ['Marital Status', 'Gender', 'Education', 'Occupation', 'Home Owner', 'Commute Distance', 'Region']\n",
    "X1 = pd.concat([X_categorical, X_numerical], axis=1)\n",
    "\n",
    "X_train, X_test, y_train, y_test = train_test_split(X1, y, test_size=0.25, random_state=777, stratify=y)\n",
    "def predict(num):\n",
    "    t_st = time.time()\n",
    "    \n",
    "    column_transformer = ColumnTransformer([\n",
    "    ('mean-target-encoder-gl-mean', Mean_TargetEncoder_gl_mean(categoric_feaut=categoric+num, C = 10), categoric+num)],\n",
    "    remainder='passthrough')\n",
    "    \n",
    "\n",
    "    pipeline = Pipeline(steps=[\n",
    "    ('ohe_and_scaling', column_transformer),\n",
    "    ('reg', LogisticRegression(max_iter=100000, C = best_c_lr))\n",
    "    ])\n",
    "\n",
    "    lr_7 = pipeline.fit(X_train, y_train)\n",
    "    \n",
    "    t_fin = time.time()\n",
    "    y_pred_lr_7 = lr_7.predict_proba(X_test)[:,1]\n",
    "\n",
    "    precision, recall, _ = precision_recall_curve(y_test, y_pred_lr_7)\n",
    "    print('LR AUC-PR: %.5f' % auc(recall, precision))\n",
    "    print(f'TIME:{t_fin - t_st}')"
   ]
  },
  {
   "cell_type": "code",
   "execution_count": 82,
   "metadata": {
    "execution": {
     "iopub.execute_input": "2023-11-18T10:55:05.165977Z",
     "iopub.status.busy": "2023-11-18T10:55:05.165554Z",
     "iopub.status.idle": "2023-11-18T10:55:05.460337Z",
     "shell.execute_reply": "2023-11-18T10:55:05.459144Z",
     "shell.execute_reply.started": "2023-11-18T10:55:05.165945Z"
    }
   },
   "outputs": [
    {
     "name": "stdout",
     "output_type": "stream",
     "text": [
      "Из численных закодировали Income:\n",
      "LR AUC-PR: 0.64461\n",
      "TIME:0.05502820014953613\n",
      "-----------\n",
      "Из численных закодировали Children:\n",
      "LR AUC-PR: 0.57465\n",
      "TIME:0.02503514289855957\n",
      "-----------\n",
      "Из численных закодировали Cars:\n",
      "LR AUC-PR: 0.57357\n",
      "TIME:0.020918846130371094\n",
      "-----------\n",
      "Из численных закодировали Age:\n",
      "LR AUC-PR: 0.44210\n",
      "TIME:0.019151926040649414\n",
      "-----------\n",
      "Закодировали все численные:\n",
      "LR AUC-PR: 0.66495\n",
      "TIME:0.025948286056518555\n"
     ]
    }
   ],
   "source": [
    "print('Из численных закодировали Income:')\n",
    "predict(['Income'])\n",
    "print('-----------')\n",
    "print('Из численных закодировали Children:')\n",
    "predict(['Children'])\n",
    "print('-----------')\n",
    "\n",
    "print('Из численных закодировали Cars:')\n",
    "predict(['Cars'])\n",
    "print('-----------')\n",
    "\n",
    "print('Из численных закодировали Age:')\n",
    "predict(['Age'])\n",
    "print('-----------')\n",
    "\n",
    "print('Закодировали все численные:')\n",
    "predict(['Income', 'Children', 'Cars', 'Age'])"
   ]
  },
  {
   "cell_type": "markdown",
   "metadata": {
    "id": "ia0qk__0iNCS"
   },
   "source": [
    "> __Замечание.__ Усложнение методов вычисления счётчиков не делают результаты модели гарантированно лучше. Особенно с учётом того, что логистическая регрессия не такая сложная модель, чтобы переобучаться. Поэтому вы необязательно должны были получать на каждом шаге всё лучшие и лучшие результаты (но необходимые результаты у вас должны были получиться)."
   ]
  },
  {
   "cell_type": "markdown",
   "metadata": {
    "id": "2mwXyUnOP75e"
   },
   "source": [
    "\n",
    "\n",
    "Как мы могли пронаблюдать, счётчики являются конкурентной альтернативой one-hot-кодированию. Опишите, какие плюсы и минусы использования счётчиков по сравнению с one-hot-кодированием вы заметили.\n",
    "\n",
    "__Ответ:__ Думаю главный минус - есть некая утечка целевой переменной, хоть мы ее свели к минимуму, но все же она осталась. Если кодировать все числовые признаки, то получаем лучшее качество. Плюс - мы не добавляем новые признаки, в отличии от one-hot (где признаков становиться намного больше)"
   ]
  },
  {
   "cell_type": "markdown",
   "metadata": {
    "id": "_oU4I7HjP75f"
   },
   "source": [
    "# Часть 3. Отбор признаков (2 балла)"
   ]
  },
  {
   "cell_type": "markdown",
   "metadata": {
    "id": "EsmcHDoZNu5l"
   },
   "source": [
    "Загрузим данные [UCI Adult Dataset](https://archive.ics.uci.edu/ml/datasets/Adult). Этот набор данных содержит информацию о годовых доходах отдельных людей. В качестве признакового описания используется различная информация о человеке (образование, профессия, брачный статус и т.д.). Целевая переменная является бинарной: больше ли годовой доход 50K долларов или нет."
   ]
  },
  {
   "cell_type": "code",
   "execution_count": 83,
   "metadata": {
    "execution": {
     "iopub.execute_input": "2023-11-18T10:55:12.719845Z",
     "iopub.status.busy": "2023-11-18T10:55:12.719130Z",
     "iopub.status.idle": "2023-11-18T10:55:14.349540Z",
     "shell.execute_reply": "2023-11-18T10:55:14.347849Z",
     "shell.execute_reply.started": "2023-11-18T10:55:12.719800Z"
    },
    "id": "hk7jX8EsNrz2"
   },
   "outputs": [
    {
     "name": "stdout",
     "output_type": "stream",
     "text": [
      "--2023-11-18 16:38:30--  https://archive.ics.uci.edu/ml/machine-learning-databases/adult/adult.data\n",
      "Распознаётся archive.ics.uci.edu (archive.ics.uci.edu)… 128.195.10.252\n",
      "Подключение к archive.ics.uci.edu (archive.ics.uci.edu)|128.195.10.252|:443... соединение установлено.\n",
      "HTTP-запрос отправлен. Ожидание ответа… 200 OK\n",
      "Длина: нет данных\n",
      "Сохранение в: «adult.data.1»\n",
      "\n",
      "adult.data.1            [        <=>         ]   3,79M  2,23MB/s    за 1,7s    \n",
      "\n",
      "2023-11-18 16:38:33 (2,23 MB/s) - «adult.data.1» сохранён [3974305]\n",
      "\n"
     ]
    }
   ],
   "source": [
    "!wget https://archive.ics.uci.edu/ml/machine-learning-databases/adult/adult.data"
   ]
  },
  {
   "cell_type": "code",
   "execution_count": 84,
   "metadata": {
    "execution": {
     "iopub.execute_input": "2023-11-18T10:55:15.564826Z",
     "iopub.status.busy": "2023-11-18T10:55:15.564332Z",
     "iopub.status.idle": "2023-11-18T10:55:15.701379Z",
     "shell.execute_reply": "2023-11-18T10:55:15.700298Z",
     "shell.execute_reply.started": "2023-11-18T10:55:15.564786Z"
    },
    "id": "XVqw4RQ5iXRC"
   },
   "outputs": [
    {
     "data": {
      "text/html": [
       "<div>\n",
       "<style scoped>\n",
       "    .dataframe tbody tr th:only-of-type {\n",
       "        vertical-align: middle;\n",
       "    }\n",
       "\n",
       "    .dataframe tbody tr th {\n",
       "        vertical-align: top;\n",
       "    }\n",
       "\n",
       "    .dataframe thead th {\n",
       "        text-align: right;\n",
       "    }\n",
       "</style>\n",
       "<table border=\"1\" class=\"dataframe\">\n",
       "  <thead>\n",
       "    <tr style=\"text-align: right;\">\n",
       "      <th></th>\n",
       "      <th>age</th>\n",
       "      <th>workclass</th>\n",
       "      <th>fnlwgt</th>\n",
       "      <th>education</th>\n",
       "      <th>education-num</th>\n",
       "      <th>marital-status</th>\n",
       "      <th>occupation</th>\n",
       "      <th>relationship</th>\n",
       "      <th>race</th>\n",
       "      <th>sex</th>\n",
       "      <th>capital-gain</th>\n",
       "      <th>capital-loss</th>\n",
       "      <th>hours-per-week</th>\n",
       "      <th>native-country</th>\n",
       "      <th>income</th>\n",
       "    </tr>\n",
       "  </thead>\n",
       "  <tbody>\n",
       "    <tr>\n",
       "      <th>13463</th>\n",
       "      <td>42</td>\n",
       "      <td>Self-emp-not-inc</td>\n",
       "      <td>336513</td>\n",
       "      <td>Bachelors</td>\n",
       "      <td>13</td>\n",
       "      <td>Married-civ-spouse</td>\n",
       "      <td>Craft-repair</td>\n",
       "      <td>Husband</td>\n",
       "      <td>White</td>\n",
       "      <td>Male</td>\n",
       "      <td>15024</td>\n",
       "      <td>0</td>\n",
       "      <td>60</td>\n",
       "      <td>United-States</td>\n",
       "      <td>1</td>\n",
       "    </tr>\n",
       "  </tbody>\n",
       "</table>\n",
       "</div>"
      ],
      "text/plain": [
       "       age          workclass  fnlwgt   education  education-num  \\\n",
       "13463   42   Self-emp-not-inc  336513   Bachelors             13   \n",
       "\n",
       "            marital-status     occupation relationship    race    sex  \\\n",
       "13463   Married-civ-spouse   Craft-repair      Husband   White   Male   \n",
       "\n",
       "       capital-gain  capital-loss  hours-per-week  native-country  income  \n",
       "13463         15024             0              60   United-States       1  "
      ]
     },
     "execution_count": 84,
     "metadata": {},
     "output_type": "execute_result"
    }
   ],
   "source": [
    "columns = ['age', 'workclass', 'fnlwgt', 'education',\n",
    "           'education-num', 'marital-status', 'occupation',\n",
    "           'relationship', 'race', 'sex', 'capital-gain',\n",
    "           'capital-loss', 'hours-per-week', 'native-country',\n",
    "           'income']\n",
    "\n",
    "df = pd.read_csv('adult.data', header=None, names=columns)\n",
    "df['income'] = (df['income'] != \" <=50K\").astype('int32')\n",
    "df.sample()"
   ]
  },
  {
   "cell_type": "markdown",
   "metadata": {
    "id": "JKb6BsQMP75f"
   },
   "source": [
    "Важной частью процесса построения модели является отбор признаков. На практике многие признаки оказывают малое влияние на модель (при этом их расчёт занимает время) или даже негативно сказываются на качестве модели. Попробуем несколько подходов отбора признаков, оценим, как они влияют на качество модели и сколько времени занимают.\n",
    "\n"
   ]
  },
  {
   "cell_type": "markdown",
   "metadata": {
    "id": "iGqys4ZpiXjr"
   },
   "source": [
    "Разделите выборку на обучающую и тестовую в соотношении 3:1. Зафиксируйте `random_state=777`, также используйте `stratify`."
   ]
  },
  {
   "cell_type": "code",
   "execution_count": 85,
   "metadata": {
    "execution": {
     "iopub.execute_input": "2023-11-18T10:55:17.354382Z",
     "iopub.status.busy": "2023-11-18T10:55:17.353740Z",
     "iopub.status.idle": "2023-11-18T10:55:17.396757Z",
     "shell.execute_reply": "2023-11-18T10:55:17.395344Z",
     "shell.execute_reply.started": "2023-11-18T10:55:17.354332Z"
    },
    "id": "M2TT35c_iYc-"
   },
   "outputs": [],
   "source": [
    "y = df[\"income\"]\n",
    "x = df.drop(columns=[\"income\"])\n",
    "X_train, X_test, y_train, y_test = train_test_split(x, y, test_size=0.25, random_state=777, stratify=y)\n"
   ]
  },
  {
   "cell_type": "markdown",
   "metadata": {
    "id": "-uAlw2X-P75f"
   },
   "source": [
    "Давайте закодируем все категориальные признаки с помощью One-hot Encoding. Сколько новых признаков мы получим?"
   ]
  },
  {
   "cell_type": "code",
   "execution_count": 86,
   "metadata": {
    "execution": {
     "iopub.execute_input": "2023-11-18T10:55:18.412222Z",
     "iopub.status.busy": "2023-11-18T10:55:18.411818Z",
     "iopub.status.idle": "2023-11-18T10:55:18.420921Z",
     "shell.execute_reply": "2023-11-18T10:55:18.419752Z",
     "shell.execute_reply.started": "2023-11-18T10:55:18.412192Z"
    },
    "id": "ILg-JGugP75f"
   },
   "outputs": [
    {
     "data": {
      "text/plain": [
       "age                int64\n",
       "workclass         object\n",
       "fnlwgt             int64\n",
       "education         object\n",
       "education-num      int64\n",
       "marital-status    object\n",
       "occupation        object\n",
       "relationship      object\n",
       "race              object\n",
       "sex               object\n",
       "capital-gain       int64\n",
       "capital-loss       int64\n",
       "hours-per-week     int64\n",
       "native-country    object\n",
       "dtype: object"
      ]
     },
     "execution_count": 86,
     "metadata": {},
     "output_type": "execute_result"
    }
   ],
   "source": [
    "X_train.dtypes"
   ]
  },
  {
   "cell_type": "code",
   "execution_count": 87,
   "metadata": {
    "execution": {
     "iopub.execute_input": "2023-11-18T10:55:19.231487Z",
     "iopub.status.busy": "2023-11-18T10:55:19.230394Z",
     "iopub.status.idle": "2023-11-18T10:55:19.366891Z",
     "shell.execute_reply": "2023-11-18T10:55:19.365511Z",
     "shell.execute_reply.started": "2023-11-18T10:55:19.231441Z"
    }
   },
   "outputs": [
    {
     "name": "stdout",
     "output_type": "stream",
     "text": [
      "Получим 88 новых признаков\n"
     ]
    }
   ],
   "source": [
    "cat = ['workclass', 'education', 'marital-status', 'occupation', 'relationship', 'race', 'sex', 'native-country']\n",
    "cat_feaut_cnt = X_train.shape[1]\n",
    "column_transformer = ColumnTransformer([\n",
    "    ('ohe', OneHotEncoder(sparse = False), cat)])\n",
    "    \n",
    "\n",
    "\n",
    "pipeline = Pipeline(steps=[\n",
    "    ('ohe', column_transformer),\n",
    "    ('log_reg', LogisticRegression(max_iter=10000))\n",
    "])\n",
    "X_train_enc = column_transformer.fit_transform(X_train)\n",
    "\n",
    "print(f'Получим {X_train_enc.shape[1] - cat_feaut_cnt} новых признаков')"
   ]
  },
  {
   "cell_type": "markdown",
   "metadata": {
    "id": "kq-XZwf3P75g"
   },
   "source": [
    "В качестве основной модели будем использовать логистическую регрессию, а целевой метрики — `AUC-PR`. Обучите модель и посчитайте качество на тестовой выборке. Давайте запомним полученное значение."
   ]
  },
  {
   "cell_type": "code",
   "execution_count": 88,
   "metadata": {
    "execution": {
     "iopub.execute_input": "2023-11-18T10:55:20.045856Z",
     "iopub.status.busy": "2023-11-18T10:55:20.045444Z",
     "iopub.status.idle": "2023-11-18T10:55:21.398944Z",
     "shell.execute_reply": "2023-11-18T10:55:21.397751Z",
     "shell.execute_reply.started": "2023-11-18T10:55:20.045817Z"
    },
    "id": "XMH5D_6OP75g"
   },
   "outputs": [
    {
     "name": "stdout",
     "output_type": "stream",
     "text": [
      "LR AUC-PR: 0.68613\n"
     ]
    }
   ],
   "source": [
    "lr = pipeline.fit(X_train, y_train)\n",
    "\n",
    "y_pred_lr = lr.predict_proba(X_test)[:,1]\n",
    "\n",
    "precision, recall, _ = precision_recall_curve(y_test, y_pred_lr)\n",
    "base = auc(recall, precision)\n",
    "print('LR AUC-PR: %.5f' % base)\n"
   ]
  },
  {
   "cell_type": "markdown",
   "metadata": {
    "id": "QD7jIiDeP75g"
   },
   "source": [
    "#### __Задание 9. Встроенные методы (0.5 балла)__"
   ]
  },
  {
   "cell_type": "markdown",
   "metadata": {
    "id": "bf2T9xtUP75g"
   },
   "source": [
    "Допустим, мы хотим оставить только 40 лучших признаков. Попробуем сделать это несколькими способами.\n",
    "\n",
    "Начнём с отборам признаков с помощью линейной модели. Как известно, веса линейной модели означают вклад каждого признака в предсказание модели, а значит, модуль этого вклада можно интерпретировать как важность признаков. Такой метод отбора называются встроенным или embedded method, так как он заложен в особенности модели.\n",
    "\n",
    "Оставьте 40 признаков с наибольшим модулем соответствующего параметра линейной модели. Обучите модели заново и оцените её качество. Замерьте скорость такого отбора признаков.\n",
    "\n"
   ]
  },
  {
   "cell_type": "code",
   "execution_count": 89,
   "metadata": {
    "execution": {
     "iopub.execute_input": "2023-11-18T10:55:22.805349Z",
     "iopub.status.busy": "2023-11-18T10:55:22.804864Z",
     "iopub.status.idle": "2023-11-18T10:55:24.698637Z",
     "shell.execute_reply": "2023-11-18T10:55:24.697086Z",
     "shell.execute_reply.started": "2023-11-18T10:55:22.805308Z"
    },
    "id": "wqOH9EunP75g"
   },
   "outputs": [
    {
     "name": "stdout",
     "output_type": "stream",
     "text": [
      "[69  5 90 28 77 37 45 88 66 42  1 87 43 30 13 71 40  8 82 70 18  9 10 62\n",
      " 61 12 22 36 15 52 50 29 14 64 41 26 27 21 23 19]\n",
      "LR AUC-PR: 0.66876\n",
      "TIME:0.5388350486755371\n"
     ]
    }
   ],
   "source": [
    "from sklearn.linear_model import LinearRegression\n",
    "\n",
    "t_st = time.time()\n",
    "\n",
    "X_train = column_transformer.fit_transform(X_train)\n",
    "X_test = column_transformer.transform(X_test)\n",
    "\n",
    "model = LogisticRegression(max_iter=100000).fit(X_train, y_train)\n",
    "\n",
    "top = np.argsort(np.abs(model.coef_[0]))[-40:]\n",
    "\n",
    "X_train_top = X_train[:, top]\n",
    "X_test_top = X_test[:, top]\n",
    "t_fin = time.time()\n",
    "print(top)\n",
    "\n",
    "lr = LogisticRegression(max_iter=100000).fit(X_train_top, y_train)\n",
    "y_pred_lr = lr.predict_proba(X_test_top)[:,1]\n",
    "\n",
    "precision, recall, _ = precision_recall_curve(y_test, y_pred_lr)\n",
    "print('LR AUC-PR: %.5f' % auc(recall, precision))\n",
    "print(f'TIME:{t_fin - t_st}')"
   ]
  },
  {
   "cell_type": "markdown",
   "metadata": {
    "id": "CCmtS99eVVrC"
   },
   "source": [
    "Изменилось ли качество? Как?\n",
    "\n",
    "Да, стало хуже( "
   ]
  },
  {
   "cell_type": "markdown",
   "metadata": {
    "id": "E5y5hVyYP75h"
   },
   "source": [
    "Подумаем, что мы не учли. Мы действовали в предположении, что признаки вносят вклад равномерно, и не учитывали их масштаб. Если мы умножим один из признаков в 100 раз, то без учёта регуляризации его вес уменьшится в эти же 100 раз. А мы на основе этого отбираем признаки! Давайте сначала отмасштабируем признаки одним из способов, а только потом будем удалять признаки.\n",
    "\n",
    "Кстати, в таком случае надо пересчитать качество на всех признаках (сделайте это ниже). Если вы сделали нормирование признаков в самом начале, то попробуйте отобрать признаки на неотмасштабированных данных.\n",
    "\n",
    "Что получилось?"
   ]
  },
  {
   "cell_type": "code",
   "execution_count": 90,
   "metadata": {
    "execution": {
     "iopub.execute_input": "2023-11-18T10:55:26.590316Z",
     "iopub.status.busy": "2023-11-18T10:55:26.589870Z",
     "iopub.status.idle": "2023-11-18T10:55:28.574734Z",
     "shell.execute_reply": "2023-11-18T10:55:28.573556Z",
     "shell.execute_reply.started": "2023-11-18T10:55:26.590279Z"
    },
    "id": "qXytEuBgP75h"
   },
   "outputs": [
    {
     "name": "stdout",
     "output_type": "stream",
     "text": [
      "LR AUC-PR: 0.76714\n"
     ]
    }
   ],
   "source": [
    "X_train, X_test, y_train, y_test = train_test_split(x, y, test_size=0.25, random_state=777, stratify=y)\n",
    "\n",
    "num_features = ['age','fnlwgt','education-num','capital-gain', 'capital-loss', 'hours-per-week']\n",
    "column_transformer = ColumnTransformer([\n",
    "    ('ohe', OneHotEncoder(sparse = False), cat),\n",
    "    ('scaling', StandardScaler(), num_features)\n",
    "\n",
    "    ])\n",
    "    \n",
    "\n",
    "\n",
    "pipeline = Pipeline(steps=[\n",
    "    ('ohe', column_transformer),\n",
    "    ('log_reg', LogisticRegression(max_iter=10000))\n",
    "])\n",
    "lr = pipeline.fit(X_train, y_train)\n",
    "\n",
    "y_pred_lr = lr.predict_proba(X_test)[:,1]\n",
    "\n",
    "precision, recall, _ = precision_recall_curve(y_test, y_pred_lr)\n",
    "new = auc(recall, precision)\n",
    "print('LR AUC-PR: %.5f' % new)"
   ]
  },
  {
   "cell_type": "markdown",
   "metadata": {},
   "source": [
    "Точность стала лучше"
   ]
  },
  {
   "cell_type": "code",
   "execution_count": 91,
   "metadata": {
    "execution": {
     "iopub.execute_input": "2023-11-18T10:55:28.577692Z",
     "iopub.status.busy": "2023-11-18T10:55:28.576975Z",
     "iopub.status.idle": "2023-11-18T10:55:31.029215Z",
     "shell.execute_reply": "2023-11-18T10:55:31.028035Z",
     "shell.execute_reply.started": "2023-11-18T10:55:28.577648Z"
    }
   },
   "outputs": [
    {
     "name": "stdout",
     "output_type": "stream",
     "text": [
      "[ 58 100  72  68  65  95  84  25  88  87  49  90  12  42  13  40   1  45\n",
      "  28 104  43  82   8  30  70  71  61  66  50  62  37  36  29  22  52  64\n",
      "  41  27  26 105]\n",
      "LR AUC-PR: 0.73860\n",
      "TIME:0.8492989540100098\n"
     ]
    }
   ],
   "source": [
    "X_train, X_test, y_train, y_test = train_test_split(x, y, test_size=0.25, random_state=777, stratify=y)\n",
    "\n",
    "column_transformer = ColumnTransformer([\n",
    "    ('ohe', OneHotEncoder(sparse = False), cat),\n",
    "    ('scaling', StandardScaler(), num_features)\n",
    "\n",
    "    ])\n",
    "t_st = time.time()\n",
    "\n",
    "X_train = column_transformer.fit_transform(X_train)\n",
    "X_test = column_transformer.transform(X_test)\n",
    "\n",
    "\n",
    "\n",
    "model = LogisticRegression(max_iter=100000).fit(X_train, y_train)\n",
    "\n",
    "top = np.argsort(np.abs(model.coef_[0]))[-40:]\n",
    "\n",
    "X_train_top = X_train[:, top]\n",
    "X_test_top = X_test[:, top]\n",
    "t_fin = time.time()\n",
    "print(top)\n",
    "\n",
    "lr = LogisticRegression(max_iter=100000).fit(X_train_top, y_train)\n",
    "y_pred_lr = lr.predict_proba(X_test_top)[:,1]\n",
    "\n",
    "precision, recall, _ = precision_recall_curve(y_test, y_pred_lr)\n",
    "print('LR AUC-PR: %.5f' % auc(recall, precision))\n",
    "print(f'TIME:{t_fin - t_st}')"
   ]
  },
  {
   "cell_type": "markdown",
   "metadata": {
    "execution": {
     "iopub.execute_input": "2023-11-17T17:03:50.009970Z",
     "iopub.status.busy": "2023-11-17T17:03:50.009440Z",
     "iopub.status.idle": "2023-11-17T17:03:50.019938Z",
     "shell.execute_reply": "2023-11-17T17:03:50.018222Z",
     "shell.execute_reply.started": "2023-11-17T17:03:50.009932Z"
    }
   },
   "source": [
    "TOP-40 со scaling только численных дал скор лучше, чем просто TOP-40"
   ]
  },
  {
   "cell_type": "markdown",
   "metadata": {
    "id": "OLZJRpxjP75h"
   },
   "source": [
    "Вопрос на засыпку: one-hot кодирование возвращает нам единичные признаки-индикаторы. Попробуйте также отскалировать их, как и обычные числовые, и снова выбрать 40 главных по вкладу признаков. Изменился ли их список? Изменится ли качество?"
   ]
  },
  {
   "cell_type": "code",
   "execution_count": 92,
   "metadata": {
    "execution": {
     "iopub.execute_input": "2023-11-18T10:55:33.189976Z",
     "iopub.status.busy": "2023-11-18T10:55:33.189538Z",
     "iopub.status.idle": "2023-11-18T10:55:33.845536Z",
     "shell.execute_reply": "2023-11-18T10:55:33.843915Z",
     "shell.execute_reply.started": "2023-11-18T10:55:33.189941Z"
    },
    "id": "VpGE8ll5P75h"
   },
   "outputs": [
    {
     "name": "stdout",
     "output_type": "stream",
     "text": [
      "[43 28 99 39  3 86  5 49 64 12 13  1 44 88  8 37 38 30 42 15 25 20  9 14\n",
      " 10 48 58 59 22 52 19 23 18 36 21 40 41 50 29 27]\n",
      "LR AUC-PR: 0.68111\n",
      "TIME:3.0966997146606445\n"
     ]
    }
   ],
   "source": [
    "X_train, X_test, y_train, y_test = train_test_split(x, y, test_size=0.25, random_state=777, stratify=y)\n",
    "column_transformer = ColumnTransformer([\n",
    "    ('ohe', OneHotEncoder(sparse = False), cat)])\n",
    "\n",
    "X_train = column_transformer.fit_transform(X_train)\n",
    "X_test = column_transformer.transform(X_test)\n",
    "\n",
    "scal = StandardScaler()\n",
    "X_train = scal.fit_transform(X_train)\n",
    "X_test = scal.transform(X_test)\n",
    "\n",
    "model = LogisticRegression(max_iter=100000).fit(X_train, y_train)\n",
    "\n",
    "\n",
    "top = np.argsort(np.abs(model.coef_[0]))[-40:]\n",
    "print(top)\n",
    "\n",
    "X_train_top = X_train[:, top]\n",
    "X_test_top = X_test[:, top]\n",
    "t_fin = time.time()\n",
    "\n",
    "\n",
    "lr = LogisticRegression(max_iter=100000).fit(X_train_top, y_train)\n",
    "y_pred_lr = lr.predict_proba(X_test_top)[:,1]\n",
    "\n",
    "precision, recall, _ = precision_recall_curve(y_test, y_pred_lr)\n",
    "print('LR AUC-PR: %.5f' % auc(recall, precision))\n",
    "print(f'TIME:{t_fin - t_st}')\n"
   ]
  },
  {
   "cell_type": "markdown",
   "metadata": {},
   "source": [
    "Список признаков изменился. Качество стало хуже"
   ]
  },
  {
   "cell_type": "markdown",
   "metadata": {
    "id": "3nK78Ag2P75i"
   },
   "source": [
    "#### __Задание 10. Методы фильтрации (0.5 балла)__\n",
    "\n",
    "\n",
    "Давайте отбирать признаки умнее, а именно через подсчёт некоторой функции для каждого признака. На основании значений этой функции будем оставлять наиболее важные признаки. Методы этого семейства называют фильтрующими или  filter methods.\n",
    "\n",
    "В качестве такой функции будем считать t-статистику:\n",
    "\n",
    "$$t(j) = \\frac{|\\mu_+ - \\mu_-|}{\\sqrt{\\frac{n_+ \\sigma^2_+ + n_- \\sigma^2_-}{n_+ + n_-}}},$$\n",
    "\n",
    "где $\\mu$, $\\sigma$, $n$ соответственно среднее, стандартное отклонение и количество объектов каждого из классов.\n",
    "\n",
    "Оставьте 40 признаков с наибольшим значением $t$, замерьте качество и скорость отбора признаков.\n",
    "\n"
   ]
  },
  {
   "cell_type": "code",
   "execution_count": 93,
   "metadata": {
    "execution": {
     "iopub.execute_input": "2023-11-18T10:55:37.045859Z",
     "iopub.status.busy": "2023-11-18T10:55:37.045454Z",
     "iopub.status.idle": "2023-11-18T10:55:38.398865Z",
     "shell.execute_reply": "2023-11-18T10:55:38.397566Z",
     "shell.execute_reply.started": "2023-11-18T10:55:37.045828Z"
    },
    "id": "0snv1D-hP75i"
   },
   "outputs": [
    {
     "name": "stdout",
     "output_type": "stream",
     "text": [
      "AUC-PR: 0.76199\n"
     ]
    }
   ],
   "source": [
    "X_train, X_test, y_train, y_test = train_test_split(x, y, test_size=0.25, random_state=777, stratify=y)\n",
    "\n",
    "\n",
    "class Filter(BaseEstimator, TransformerMixin):\n",
    "    def __init__(self):\n",
    "        self.t_stat = []\n",
    "        self.ind = None\n",
    "    def fit(self, X, y):\n",
    "        col = X.shape[1]\n",
    "        for i in range(col):\n",
    "            numer = np.abs(X[:, i][y == 1].mean() - X[:, i][y == 0].mean())\n",
    "            denum_numer = np.sqrt(((y == 1).sum() * (np.std(X[:, i][y == 1]) ** 2) +\n",
    "                                   (y == 0).sum() * (np.std(X[:, i][y == 0]) ** 2)))\n",
    "            denum_denum = np.sqrt(((y == 1).sum() + (y == 0).sum()))\n",
    "            denum = denum_numer / denum_denum\n",
    "            self.t_stat.append(numer / denum)\n",
    "        self.ind = np.argsort(self.t_stat)[::-1]\n",
    "        return self\n",
    "        \n",
    "    def transform(self, X, y = None):\n",
    "        X_transform = X.copy()\n",
    "        return X_transform[:, self.ind[:40]]\n",
    "                           \n",
    "\n",
    "column_transformer = ColumnTransformer([\n",
    "    ('ohe', OneHotEncoder(sparse = False), cat),\n",
    "    ('scaling', StandardScaler(), num_features)\n",
    "])\n",
    "\n",
    "pipeline = Pipeline([\n",
    "    ('ohe', column_transformer),\n",
    "    ('filter', Filter()),\n",
    "    ('log_reg', LogisticRegression(max_iter=100000))\n",
    "])\n",
    "\n",
    "model = pipeline.fit(X_train, y_train)\n",
    "y_pred_lr = model.predict_proba(X_test)[:, 1]\n",
    "\n",
    "precision, recall, _ = precision_recall_curve(y_test, y_pred_lr)\n",
    "ans = auc(recall, precision)\n",
    "print('AUC-PR: %.5f' % ans)"
   ]
  },
  {
   "cell_type": "markdown",
   "metadata": {
    "id": "zO63RNCLP75i"
   },
   "source": [
    "#### __Задание 11. Методы-обёртки__ (1 балл)\n",
    "\n",
    "Третий из рассматриваемых нами методов работает следующим образом: мы исключаем по очереди один из признаков и смотрим, как это влияет на качество. Удаляем признаки таким жадным способом, пока не окажется выполненым некоторое условие (количество признаков или ухудшение качества). Более конкретно, на каждом шаге мы будем удалять такой признак $j$, что качество модели на множестве оставшихся признаков без $j$ максимально, то есть удалять мы будем наиболее бесполезный признак.\n",
    "\n",
    "Заметим, что нельзя оценивать качество по тестовой выборке, иначе мы можем переобучиться, как, например, при настройке гиперпараметров. Разделите обучающую выборку на 2 части, на одной из них обучайте модель без одного из признаков,  на второй части оценивайте качество. Исходную тестовую выборку стоит использовать только для финальной оценки качества.\n",
    "\n",
    "Снова оставьте только 40 признаков и оцените качество на тестовой выборке. Сколько времени занял такой отбор признаков?"
   ]
  },
  {
   "cell_type": "code",
   "execution_count": 94,
   "metadata": {
    "execution": {
     "iopub.execute_input": "2023-11-18T13:07:27.350472Z",
     "iopub.status.busy": "2023-11-18T13:07:27.350012Z",
     "iopub.status.idle": "2023-11-18T13:09:54.977195Z",
     "shell.execute_reply": "2023-11-18T13:09:54.974022Z",
     "shell.execute_reply.started": "2023-11-18T13:07:27.350432Z"
    },
    "id": "ISGdzDQQP75j"
   },
   "outputs": [
    {
     "name": "stderr",
     "output_type": "stream",
     "text": [
      "100%|██████████| 108/108 [00:53<00:00,  2.00it/s]\n",
      "100%|██████████| 107/107 [00:52<00:00,  2.05it/s]\n",
      "100%|██████████| 106/106 [00:54<00:00,  1.96it/s]\n",
      "100%|██████████| 105/105 [00:53<00:00,  1.97it/s]\n",
      "100%|██████████| 104/104 [00:50<00:00,  2.07it/s]\n",
      "100%|██████████| 103/103 [00:46<00:00,  2.21it/s]\n",
      "100%|██████████| 102/102 [00:46<00:00,  2.19it/s]\n",
      "100%|██████████| 101/101 [00:45<00:00,  2.20it/s]\n",
      "100%|██████████| 100/100 [00:42<00:00,  2.36it/s]\n",
      "100%|██████████| 99/99 [00:42<00:00,  2.33it/s]\n",
      "100%|██████████| 98/98 [00:45<00:00,  2.17it/s]\n",
      "100%|██████████| 97/97 [00:40<00:00,  2.38it/s]\n",
      "100%|██████████| 96/96 [00:42<00:00,  2.27it/s]\n",
      "100%|██████████| 95/95 [00:39<00:00,  2.44it/s]\n",
      "100%|██████████| 94/94 [00:38<00:00,  2.42it/s]\n",
      "100%|██████████| 93/93 [00:38<00:00,  2.41it/s]\n",
      "100%|██████████| 92/92 [00:37<00:00,  2.47it/s]\n",
      "100%|██████████| 91/91 [00:36<00:00,  2.51it/s]\n",
      "100%|██████████| 90/90 [00:36<00:00,  2.50it/s]\n",
      "100%|██████████| 89/89 [00:31<00:00,  2.82it/s]\n",
      "100%|██████████| 88/88 [00:33<00:00,  2.63it/s]\n",
      "100%|██████████| 87/87 [00:34<00:00,  2.53it/s]\n",
      "100%|██████████| 86/86 [00:31<00:00,  2.69it/s]\n",
      "100%|██████████| 85/85 [00:32<00:00,  2.63it/s]\n",
      "100%|██████████| 84/84 [00:27<00:00,  3.01it/s]\n",
      "100%|██████████| 83/83 [00:27<00:00,  3.04it/s]\n",
      "100%|██████████| 82/82 [00:27<00:00,  2.95it/s]\n",
      "100%|██████████| 81/81 [00:25<00:00,  3.24it/s]\n",
      "100%|██████████| 80/80 [00:25<00:00,  3.12it/s]\n",
      "100%|██████████| 79/79 [00:21<00:00,  3.73it/s]\n",
      "100%|██████████| 78/78 [00:20<00:00,  3.79it/s]\n",
      "100%|██████████| 77/77 [00:19<00:00,  3.95it/s]\n",
      "100%|██████████| 76/76 [00:19<00:00,  3.84it/s]\n",
      "100%|██████████| 75/75 [00:19<00:00,  3.79it/s]\n",
      "100%|██████████| 74/74 [00:19<00:00,  3.86it/s]\n",
      "100%|██████████| 73/73 [00:16<00:00,  4.30it/s]\n",
      "100%|██████████| 72/72 [00:15<00:00,  4.52it/s]\n",
      "100%|██████████| 71/71 [00:15<00:00,  4.49it/s]\n",
      "100%|██████████| 70/70 [00:15<00:00,  4.45it/s]\n",
      "100%|██████████| 69/69 [00:15<00:00,  4.42it/s]\n",
      "100%|██████████| 68/68 [00:16<00:00,  4.07it/s]\n",
      "100%|██████████| 67/67 [00:15<00:00,  4.37it/s]\n",
      "100%|██████████| 66/66 [00:16<00:00,  4.11it/s]\n",
      "100%|██████████| 65/65 [00:13<00:00,  4.72it/s]\n",
      "100%|██████████| 64/64 [00:14<00:00,  4.45it/s]\n",
      "100%|██████████| 63/63 [00:14<00:00,  4.38it/s]\n",
      "100%|██████████| 62/62 [00:13<00:00,  4.52it/s]\n",
      "100%|██████████| 61/61 [00:13<00:00,  4.63it/s]\n",
      "100%|██████████| 60/60 [00:12<00:00,  4.66it/s]\n",
      "100%|██████████| 59/59 [00:12<00:00,  4.75it/s]\n",
      "100%|██████████| 58/58 [00:12<00:00,  4.63it/s]\n",
      "100%|██████████| 57/57 [00:11<00:00,  4.98it/s]\n",
      "100%|██████████| 56/56 [00:11<00:00,  5.04it/s]\n",
      "100%|██████████| 55/55 [00:11<00:00,  4.78it/s]\n",
      "100%|██████████| 54/54 [00:10<00:00,  4.93it/s]\n",
      "100%|██████████| 53/53 [00:10<00:00,  5.06it/s]\n",
      "100%|██████████| 52/52 [00:10<00:00,  4.95it/s]\n",
      "100%|██████████| 51/51 [00:10<00:00,  4.98it/s]\n",
      "100%|██████████| 50/50 [00:10<00:00,  4.99it/s]\n",
      "100%|██████████| 49/49 [00:09<00:00,  5.39it/s]\n",
      "100%|██████████| 48/48 [00:09<00:00,  5.17it/s]\n",
      "100%|██████████| 47/47 [00:08<00:00,  5.67it/s]\n",
      "100%|██████████| 46/46 [00:08<00:00,  5.48it/s]\n",
      "100%|██████████| 45/45 [00:08<00:00,  5.62it/s]\n",
      "100%|██████████| 44/44 [00:08<00:00,  5.34it/s]\n",
      "100%|██████████| 43/43 [00:08<00:00,  5.36it/s]\n",
      "100%|██████████| 42/42 [00:07<00:00,  5.64it/s]\n",
      "100%|██████████| 41/41 [00:06<00:00,  6.04it/s]\n"
     ]
    },
    {
     "name": "stdout",
     "output_type": "stream",
     "text": [
      "LR AUC-PR: 0.76464\n",
      "TIME:1655.1374189853668\n"
     ]
    }
   ],
   "source": [
    "from tqdm import tqdm\n",
    "X_train, X_test, y_train, y_test = train_test_split(x, y, test_size=0.25, random_state=777, stratify=y)\n",
    "\n",
    "column_transformer = ColumnTransformer([\n",
    "    ('ohe', OneHotEncoder(sparse = False), cat),\n",
    "    ('scaling', StandardScaler(), num_features)\n",
    "])\n",
    "\n",
    "X_train = column_transformer.fit_transform(X_train)\n",
    "X_test = column_transformer.transform(X_test)\n",
    "\n",
    "t_st = time.time()\n",
    "new_feaut = list(range(X_train.shape[1]))\n",
    "model = LogisticRegression(max_iter = 100000)\n",
    "\n",
    "\n",
    "\n",
    "X_tr, X_val, y_tr, y_val = train_test_split(X_train, y_train, test_size=0.25, random_state=777, stratify=y_train)\n",
    "\n",
    "\n",
    "while len(new_feaut) > 40:\n",
    "    all_score = []\n",
    "    for feaut in tqdm(new_feaut):\n",
    "\n",
    "        feaut_tmp = new_feaut.copy()\n",
    "        feaut_tmp.remove(feaut)\n",
    "        X_tr_without = X_tr[:, feaut_tmp]\n",
    "        X_val_without = X_val[:, feaut_tmp]\n",
    "        \n",
    "        model.fit(X_tr_without, y_tr)\n",
    "        y_pred_lr = model.predict_proba(X_val_without)[:, 1]\n",
    "\n",
    "        precision, recall, _ = precision_recall_curve(y_val, y_pred_lr)\n",
    "        res = auc(recall, precision)\n",
    "        all_score.append((feaut, res))\n",
    "    \n",
    "    new_feaut.remove(max(all_score, key=lambda sc: sc[1])[0])\n",
    "\n",
    "    \n",
    "model.fit(X_train[:, new_feaut], y_train)\n",
    "y_pred_lr = model.predict_proba(X_test[:, new_feaut])[:, 1]\n",
    "\n",
    "precision, recall, _ = precision_recall_curve(y_test, y_pred_lr)\n",
    "ans = auc(recall, precision)\n",
    "\n",
    "t_fin = time.time()\n",
    "\n",
    "\n",
    "print('LR AUC-PR: %.5f' % ans)\n",
    "print(f'TIME:{t_fin - t_st}')\n",
    "\n",
    "        \n"
   ]
  },
  {
   "cell_type": "markdown",
   "metadata": {
    "id": "1AEL4z61P75j"
   },
   "source": [
    "Стоит отметить, что с помощью такого метода можно пойти и в обратную сторону. Попробуйте _добавлять_ по одному самому полезному признаку в выборку до тех пор, пока не наберется 40 штук. Найдется ли порог, при котором добавление следующих признаков будет только ухудшать качество модели?"
   ]
  },
  {
   "cell_type": "code",
   "execution_count": 108,
   "metadata": {
    "execution": {
     "iopub.execute_input": "2023-11-18T11:54:57.406310Z",
     "iopub.status.busy": "2023-11-18T11:54:57.405889Z",
     "iopub.status.idle": "2023-11-18T11:55:08.088456Z",
     "shell.execute_reply": "2023-11-18T11:55:08.087289Z",
     "shell.execute_reply.started": "2023-11-18T11:54:57.406279Z"
    },
    "id": "ZzF8TzVFP75j"
   },
   "outputs": [
    {
     "name": "stderr",
     "output_type": "stream",
     "text": [
      "100%|██████████| 40/40 [04:20<00:00,  6.52s/it]\n"
     ]
    },
    {
     "name": "stdout",
     "output_type": "stream",
     "text": [
      "LR AUC-PR: 0.76453\n",
      "TIME: 260.90832114219666\n"
     ]
    }
   ],
   "source": [
    "X_train, X_test, y_train, y_test = train_test_split(x, y, test_size=0.25, random_state=777, stratify=y)\n",
    "\n",
    "column_transformer = ColumnTransformer([\n",
    "    ('ohe', OneHotEncoder(sparse=False), cat),\n",
    "    ('scaling', StandardScaler(), num_features)\n",
    "])\n",
    "\n",
    "X_train = column_transformer.fit_transform(X_train)\n",
    "X_test = column_transformer.transform(X_test)\n",
    "\n",
    "X_tr, X_val, y_tr, y_val = train_test_split(X_train, y_train, test_size=0.25, random_state=777, stratify=y_train)\n",
    "\n",
    "t_st = time.time()\n",
    "feaut_all = list(range(X_train.shape[1]))\n",
    "true_feaut = []\n",
    "all_scores = []\n",
    "model = LogisticRegression(max_iter=100000)\n",
    "\n",
    "for _ in tqdm(range(40)):\n",
    "    \n",
    "    score_i = []\n",
    "    \n",
    "    for feat in feaut_all:\n",
    "        tmp_feaut = true_feaut + [feat]\n",
    "        \n",
    "        model.fit(X_tr[:, tmp_feaut], y_tr)\n",
    "        y_pred_lr = model.predict_proba(X_val[:, tmp_feaut])[:, 1]\n",
    "\n",
    "        precision, recall, _ = precision_recall_curve(y_val, y_pred_lr)\n",
    "        ans = auc(recall, precision)\n",
    "        score_i.append((feat, ans))\n",
    "\n",
    "    best_feat_j, best_score_j = max(score_i, key=lambda x: x[1])\n",
    "    all_scores.append(best_score_j)\n",
    "    true_feaut.append(best_feat_j)\n",
    "    feaut_all.remove(best_feat_j)\n",
    "\n",
    "model.fit(X_train[:, true_feaut], y_train)\n",
    "y_pred_lr = model.predict_proba(X_test[:, true_feaut])[:, 1]\n",
    "\n",
    "precision, recall, _ = precision_recall_curve(y_test, y_pred_lr)\n",
    "res = auc(recall, precision)\n",
    "\n",
    "t_fin = time.time()\n",
    "\n",
    "print('LR AUC-PR: %.5f' % res)\n",
    "print(f'TIME: {t_fin - t_st}')\n"
   ]
  },
  {
   "cell_type": "code",
   "execution_count": 109,
   "metadata": {},
   "outputs": [
    {
     "data": {
      "text/plain": [
       "[0.6728945213155739,\n",
       " 0.6754867119764292,\n",
       " 0.6779667690083027,\n",
       " 0.6804076152528715,\n",
       " 0.6861986148100415,\n",
       " 0.7233167304612933,\n",
       " 0.7333074333562358,\n",
       " 0.7399327625455769,\n",
       " 0.744214285693662,\n",
       " 0.7491691601836294,\n",
       " 0.7524603718721684,\n",
       " 0.7546269512084665,\n",
       " 0.7559249540194363,\n",
       " 0.7571389784427873,\n",
       " 0.7582795052894571,\n",
       " 0.7591389594296274,\n",
       " 0.7601620511063567,\n",
       " 0.7608650719406317,\n",
       " 0.7615561358876181,\n",
       " 0.7624706817713598,\n",
       " 0.7629972926790553,\n",
       " 0.7635552262340497,\n",
       " 0.7638639898703803,\n",
       " 0.7641823092393141,\n",
       " 0.7645782231294674,\n",
       " 0.7649381292128783,\n",
       " 0.7652798925721145,\n",
       " 0.7655990565226518,\n",
       " 0.7658656629080537,\n",
       " 0.766095938866109,\n",
       " 0.7662969088624263,\n",
       " 0.7664666038731343,\n",
       " 0.7666388896749958,\n",
       " 0.7667879719087567,\n",
       " 0.76694888392055,\n",
       " 0.7670825779259531,\n",
       " 0.7672214861040997,\n",
       " 0.767344197978849,\n",
       " 0.7674758977853348,\n",
       " 0.7675973414875448]"
      ]
     },
     "execution_count": 109,
     "metadata": {},
     "output_type": "execute_result"
    }
   ],
   "source": [
    "all_scores"
   ]
  },
  {
   "cell_type": "markdown",
   "metadata": {},
   "source": [
    "В принципе скор всегда возсрастает, то есть порога при котором начнется ухудшение модели нет."
   ]
  },
  {
   "cell_type": "markdown",
   "metadata": {
    "id": "wj6a-BERP75j"
   },
   "source": [
    "Давайте подведём итоги по отбору признаков. Назовите преимущества и недостатки каждого из методов. Какой метод привёл к наилучшему качеству?\n",
    "\n",
    "**Ответ:** Лучшее качество показал способ, когда мы считали t-статистику. И работал он явно быстрее остальных. Если сравнивать между собой 2 последних, то удаление дало чууууть лучше скор, чем прибавление. Но работало намноого дольше. Я думаю последний способ мог бы дать результат лучше, если мы бы делали кросс-валидацию, а затем усредняли скор, но тогда работало бы дольше (хотя и сейчас работает не прям быстро)"
   ]
  },
  {
   "cell_type": "markdown",
   "metadata": {
    "id": "zrR06pp7P75k"
   },
   "source": [
    "# Часть 4. Оценка экономического эффекта модели (2 балла)\n",
    "\n"
   ]
  },
  {
   "cell_type": "markdown",
   "metadata": {
    "id": "CmgOdf7GT3uh"
   },
   "source": [
    "В данной части мы займемся тем, что от вас скорее всего потребуется на реальной работе (помимо перекладки `json`, разумеется). А именно:\n",
    "- мы соберем несколько специализированных метрик качества,\n",
    "- попытаемся настроить модель на максимизацию _прибыли_,\n",
    "- оценим, сколько вообще получится заработать на этом.\n",
    "\n",
    "Разумеется, здесь будет сделано множество упрощающих жизнь допущений, но обо всем по порядку. Если вы всё прослушали на экономике, то напомним, что выручка — это сколько денег нам принесли клиенты, а прибыль — выручка за вычетом расходов на зарплату и прочее."
   ]
  },
  {
   "cell_type": "markdown",
   "metadata": {
    "id": "NQkW5Xh6yip2"
   },
   "source": [
    "\n",
    "#### __Задание 12. Прогноз по доходам и расходам__ (1 балл)\n",
    "\n",
    "В этой части мы будем работать с данными [UCI Bank Marketing Dataset](https://archive.ics.uci.edu/ml/datasets/bank+marketing). Этот датасет содержит информацию о банковском телефонном маркетинге.\n",
    "\n",
    "__Объектом__ здесь является телефонный звонок потенциальному клиенту с предложением некоторой услуги (утверждается, что это краткосрочный депозит). В качестве признакового описания используются характеристики клиента (образование, брак и т.д.), данные о звонке и различные экономические индикаторы - более подробная информация представлена в файле `bank-additional-names.txt`.\n",
    "__Целевая переменная__ - ответ клиента (согласился ли он открыть депозит?)"
   ]
  },
  {
   "cell_type": "code",
   "execution_count": 122,
   "metadata": {
    "id": "e9WBqQd1aAjp"
   },
   "outputs": [
    {
     "name": "stdout",
     "output_type": "stream",
     "text": [
      "--2023-11-18 18:57:31--  https://archive.ics.uci.edu/ml/machine-learning-databases/00222/bank-additional.zip\n",
      "Распознаётся archive.ics.uci.edu (archive.ics.uci.edu)… 128.195.10.252\n",
      "Подключение к archive.ics.uci.edu (archive.ics.uci.edu)|128.195.10.252|:443... соединение установлено.\n",
      "HTTP-запрос отправлен. Ожидание ответа… 200 OK\n",
      "Длина: нет данных\n",
      "Сохранение в: «bank-additional.zip»\n",
      "\n",
      "bank-additional.zip     [     <=>            ] 434,15K   460KB/s    за 0,9s    \n",
      "\n",
      "2023-11-18 18:57:33 (460 KB/s) - «bank-additional.zip» сохранён [444572]\n",
      "\n",
      "Archive:  bank-additional.zip\n",
      "   creating: bank-additional/\n",
      "  inflating: bank-additional/.DS_Store  \n",
      "   creating: __MACOSX/\n",
      "   creating: __MACOSX/bank-additional/\n",
      "  inflating: __MACOSX/bank-additional/._.DS_Store  \n",
      "  inflating: bank-additional/.Rhistory  \n",
      "  inflating: bank-additional/bank-additional-full.csv  \n",
      "  inflating: bank-additional/bank-additional-names.txt  \n",
      "  inflating: bank-additional/bank-additional.csv  \n",
      "  inflating: __MACOSX/._bank-additional  \n"
     ]
    }
   ],
   "source": [
    "!wget https://archive.ics.uci.edu/ml/machine-learning-databases/00222/bank-additional.zip\n",
    "!unzip bank-additional.zip\n",
    "df = pd.read_csv('bank-additional/bank-additional-full.csv', sep=';')"
   ]
  },
  {
   "cell_type": "code",
   "execution_count": 123,
   "metadata": {
    "id": "Gbw5k7lMaYT1"
   },
   "outputs": [
    {
     "data": {
      "text/html": [
       "<div>\n",
       "<style scoped>\n",
       "    .dataframe tbody tr th:only-of-type {\n",
       "        vertical-align: middle;\n",
       "    }\n",
       "\n",
       "    .dataframe tbody tr th {\n",
       "        vertical-align: top;\n",
       "    }\n",
       "\n",
       "    .dataframe thead th {\n",
       "        text-align: right;\n",
       "    }\n",
       "</style>\n",
       "<table border=\"1\" class=\"dataframe\">\n",
       "  <thead>\n",
       "    <tr style=\"text-align: right;\">\n",
       "      <th></th>\n",
       "      <th>age</th>\n",
       "      <th>job</th>\n",
       "      <th>marital</th>\n",
       "      <th>education</th>\n",
       "      <th>default</th>\n",
       "      <th>housing</th>\n",
       "      <th>loan</th>\n",
       "      <th>contact</th>\n",
       "      <th>month</th>\n",
       "      <th>day_of_week</th>\n",
       "      <th>duration</th>\n",
       "      <th>campaign</th>\n",
       "      <th>pdays</th>\n",
       "      <th>previous</th>\n",
       "      <th>poutcome</th>\n",
       "      <th>emp.var.rate</th>\n",
       "      <th>cons.price.idx</th>\n",
       "      <th>cons.conf.idx</th>\n",
       "      <th>euribor3m</th>\n",
       "      <th>nr.employed</th>\n",
       "      <th>y</th>\n",
       "    </tr>\n",
       "  </thead>\n",
       "  <tbody>\n",
       "    <tr>\n",
       "      <th>0</th>\n",
       "      <td>56</td>\n",
       "      <td>housemaid</td>\n",
       "      <td>married</td>\n",
       "      <td>basic.4y</td>\n",
       "      <td>no</td>\n",
       "      <td>no</td>\n",
       "      <td>no</td>\n",
       "      <td>telephone</td>\n",
       "      <td>may</td>\n",
       "      <td>mon</td>\n",
       "      <td>261</td>\n",
       "      <td>1</td>\n",
       "      <td>999</td>\n",
       "      <td>0</td>\n",
       "      <td>nonexistent</td>\n",
       "      <td>1.1</td>\n",
       "      <td>93.994</td>\n",
       "      <td>-36.4</td>\n",
       "      <td>4.857</td>\n",
       "      <td>5191.0</td>\n",
       "      <td>no</td>\n",
       "    </tr>\n",
       "    <tr>\n",
       "      <th>1</th>\n",
       "      <td>57</td>\n",
       "      <td>services</td>\n",
       "      <td>married</td>\n",
       "      <td>high.school</td>\n",
       "      <td>unknown</td>\n",
       "      <td>no</td>\n",
       "      <td>no</td>\n",
       "      <td>telephone</td>\n",
       "      <td>may</td>\n",
       "      <td>mon</td>\n",
       "      <td>149</td>\n",
       "      <td>1</td>\n",
       "      <td>999</td>\n",
       "      <td>0</td>\n",
       "      <td>nonexistent</td>\n",
       "      <td>1.1</td>\n",
       "      <td>93.994</td>\n",
       "      <td>-36.4</td>\n",
       "      <td>4.857</td>\n",
       "      <td>5191.0</td>\n",
       "      <td>no</td>\n",
       "    </tr>\n",
       "    <tr>\n",
       "      <th>2</th>\n",
       "      <td>37</td>\n",
       "      <td>services</td>\n",
       "      <td>married</td>\n",
       "      <td>high.school</td>\n",
       "      <td>no</td>\n",
       "      <td>yes</td>\n",
       "      <td>no</td>\n",
       "      <td>telephone</td>\n",
       "      <td>may</td>\n",
       "      <td>mon</td>\n",
       "      <td>226</td>\n",
       "      <td>1</td>\n",
       "      <td>999</td>\n",
       "      <td>0</td>\n",
       "      <td>nonexistent</td>\n",
       "      <td>1.1</td>\n",
       "      <td>93.994</td>\n",
       "      <td>-36.4</td>\n",
       "      <td>4.857</td>\n",
       "      <td>5191.0</td>\n",
       "      <td>no</td>\n",
       "    </tr>\n",
       "    <tr>\n",
       "      <th>3</th>\n",
       "      <td>40</td>\n",
       "      <td>admin.</td>\n",
       "      <td>married</td>\n",
       "      <td>basic.6y</td>\n",
       "      <td>no</td>\n",
       "      <td>no</td>\n",
       "      <td>no</td>\n",
       "      <td>telephone</td>\n",
       "      <td>may</td>\n",
       "      <td>mon</td>\n",
       "      <td>151</td>\n",
       "      <td>1</td>\n",
       "      <td>999</td>\n",
       "      <td>0</td>\n",
       "      <td>nonexistent</td>\n",
       "      <td>1.1</td>\n",
       "      <td>93.994</td>\n",
       "      <td>-36.4</td>\n",
       "      <td>4.857</td>\n",
       "      <td>5191.0</td>\n",
       "      <td>no</td>\n",
       "    </tr>\n",
       "    <tr>\n",
       "      <th>4</th>\n",
       "      <td>56</td>\n",
       "      <td>services</td>\n",
       "      <td>married</td>\n",
       "      <td>high.school</td>\n",
       "      <td>no</td>\n",
       "      <td>no</td>\n",
       "      <td>yes</td>\n",
       "      <td>telephone</td>\n",
       "      <td>may</td>\n",
       "      <td>mon</td>\n",
       "      <td>307</td>\n",
       "      <td>1</td>\n",
       "      <td>999</td>\n",
       "      <td>0</td>\n",
       "      <td>nonexistent</td>\n",
       "      <td>1.1</td>\n",
       "      <td>93.994</td>\n",
       "      <td>-36.4</td>\n",
       "      <td>4.857</td>\n",
       "      <td>5191.0</td>\n",
       "      <td>no</td>\n",
       "    </tr>\n",
       "  </tbody>\n",
       "</table>\n",
       "</div>"
      ],
      "text/plain": [
       "   age        job  marital    education  default housing loan    contact  \\\n",
       "0   56  housemaid  married     basic.4y       no      no   no  telephone   \n",
       "1   57   services  married  high.school  unknown      no   no  telephone   \n",
       "2   37   services  married  high.school       no     yes   no  telephone   \n",
       "3   40     admin.  married     basic.6y       no      no   no  telephone   \n",
       "4   56   services  married  high.school       no      no  yes  telephone   \n",
       "\n",
       "  month day_of_week  duration  campaign  pdays  previous     poutcome  \\\n",
       "0   may         mon       261         1    999         0  nonexistent   \n",
       "1   may         mon       149         1    999         0  nonexistent   \n",
       "2   may         mon       226         1    999         0  nonexistent   \n",
       "3   may         mon       151         1    999         0  nonexistent   \n",
       "4   may         mon       307         1    999         0  nonexistent   \n",
       "\n",
       "   emp.var.rate  cons.price.idx  cons.conf.idx  euribor3m  nr.employed   y  \n",
       "0           1.1          93.994          -36.4      4.857       5191.0  no  \n",
       "1           1.1          93.994          -36.4      4.857       5191.0  no  \n",
       "2           1.1          93.994          -36.4      4.857       5191.0  no  \n",
       "3           1.1          93.994          -36.4      4.857       5191.0  no  \n",
       "4           1.1          93.994          -36.4      4.857       5191.0  no  "
      ]
     },
     "execution_count": 123,
     "metadata": {},
     "output_type": "execute_result"
    }
   ],
   "source": [
    "df.head()"
   ]
  },
  {
   "cell_type": "code",
   "execution_count": 124,
   "metadata": {
    "id": "qmxCn_Pz3kJB"
   },
   "outputs": [],
   "source": [
    "X = df.drop(columns=['duration', 'y'])\n",
    "y = (df.y == 'yes')"
   ]
  },
  {
   "cell_type": "code",
   "execution_count": 125,
   "metadata": {},
   "outputs": [
    {
     "data": {
      "text/plain": [
       "age                 int64\n",
       "job                object\n",
       "marital            object\n",
       "education          object\n",
       "default            object\n",
       "housing            object\n",
       "loan               object\n",
       "contact            object\n",
       "month              object\n",
       "day_of_week        object\n",
       "campaign            int64\n",
       "pdays               int64\n",
       "previous            int64\n",
       "poutcome           object\n",
       "emp.var.rate      float64\n",
       "cons.price.idx    float64\n",
       "cons.conf.idx     float64\n",
       "euribor3m         float64\n",
       "nr.employed       float64\n",
       "dtype: object"
      ]
     },
     "execution_count": 125,
     "metadata": {},
     "output_type": "execute_result"
    }
   ],
   "source": [
    "X.dtypes"
   ]
  },
  {
   "cell_type": "markdown",
   "metadata": {
    "id": "lMKgtxfwaBEQ"
   },
   "source": [
    "В этой части не нужно делить выборку - мы будем использовать кросс-валидацию.  Используйте 5 фолдов, сделайте `shuffle=True, random_state=500`. По кросс-валидации у вас получится 5 вариантов обучающей и тестовой выборки."
   ]
  },
  {
   "cell_type": "code",
   "execution_count": 130,
   "metadata": {},
   "outputs": [],
   "source": [
    "kf = KFold(n_splits = 5, shuffle = True, random_state = 500)\n"
   ]
  },
  {
   "cell_type": "code",
   "execution_count": 131,
   "metadata": {
    "id": "5V3f4cQryx6c"
   },
   "outputs": [],
   "source": [
    "num = ['age', 'campaign', 'pdays', 'previous', 'emp.var.rate', 'cons.price.idx', 'cons.conf.idx', 'euribor3m', 'nr.employed']\n",
    "cat = ['job', 'marital', 'education', 'default', 'housing','loan', 'contact', 'month', 'day_of_week', 'poutcome']\n"
   ]
  },
  {
   "cell_type": "markdown",
   "metadata": {
    "id": "YIX-omTIyxtU"
   },
   "source": [
    "Обучите логистическую регрессию на каждой обучающей выборке (воспользуйтесь one-hot для категориальных признаков и `StandardScaler` для числовых, гиперпараметры по умолчанию) и сделайте предсказания для соответствующих тестовых выборок."
   ]
  },
  {
   "cell_type": "code",
   "execution_count": 137,
   "metadata": {},
   "outputs": [
    {
     "data": {
      "text/plain": [
       "[0.4801618509970574,\n",
       " 0.43778588916704536,\n",
       " 0.4501109333934014,\n",
       " 0.4603072446531778,\n",
       " 0.43087560556098775]"
      ]
     },
     "execution_count": 137,
     "metadata": {},
     "output_type": "execute_result"
    }
   ],
   "source": [
    "\n",
    "column_transformer = ColumnTransformer([\n",
    "    ('ohe', OneHotEncoder(), cat),\n",
    "    ('scaling', StandardScaler(), num)\n",
    "])\n",
    "\n",
    "predict = []\n",
    "for train_ind, test_ind in kf.split(X):\n",
    "    X_train, X_test = X.iloc[train_ind], X.iloc[test_ind]\n",
    "    y_train, y_test = y.iloc[train_ind], y.iloc[test_ind]\n",
    "    \n",
    "    X_train = column_transformer.fit_transform(X_train)\n",
    "    X_test = column_transformer.transform(X_test)\n",
    "    \n",
    "    lr = LogisticRegression(max_iter=100000).fit(X_train, y_train)\n",
    "    y_pred_lr = lr.predict_proba(X_test)[:,1]\n",
    "\n",
    "    precision, recall, _ = precision_recall_curve(y_test, y_pred_lr)\n",
    "    score = auc(recall, precision)\n",
    "    predict.append(score)\n",
    "\n",
    "predict\n",
    "    "
   ]
  },
  {
   "cell_type": "markdown",
   "metadata": {
    "id": "CcuHfZjfzmnt"
   },
   "source": [
    "Допустим, работники вашего колл-центра получают за один звонок клиенту 1 доллар. При согласии клиента на предлагаемые условия он принесет в банк 10 долларов. Предположим, что всем положительным прогнозам ваши сотрудники решили позвонить. Посчитайте на всех тестовых выборках выручку и усредните. Также вычислите стандартное отклонение.\n",
    "- Сколько денег вы в среднем заработаете?\n",
    "- Сколько из заработанных денег придётся отдать операторам вашего колл-центра?"
   ]
  },
  {
   "cell_type": "code",
   "execution_count": 163,
   "metadata": {
    "id": "0okqAh-AzWTX"
   },
   "outputs": [
    {
     "name": "stdout",
     "output_type": "stream",
     "text": [
      "В среднем мы заработаем: 2130.0$\n",
      "Отклонение: 107.144761887831\n",
      "Придется отдать: 324.2$\n",
      "Отклонение: 7.909487973314076\n"
     ]
    }
   ],
   "source": [
    "money = []\n",
    "call_center = []\n",
    "for train_ind, test_ind in kf.split(X):\n",
    "    X_train, X_test = X.iloc[train_ind], X.iloc[test_ind]\n",
    "    y_train, y_test = y.iloc[train_ind], y.iloc[test_ind]\n",
    "    X_train = column_transformer.fit_transform(X_train)\n",
    "    X_test = column_transformer.transform(X_test)\n",
    "    lr = LogisticRegression(max_iter=100000).fit(X_train, y_train)\n",
    "    y_pred_lr = lr.predict(X_test)\n",
    "    positive = sum(y_test[y_pred_lr == True])\n",
    "    to_worker = sum(y_pred_lr)\n",
    "    money.append(positive * 10)\n",
    "    call_center.append(to_worker)\n",
    "    \n",
    "print(f'В среднем мы заработаем: {np.mean(money)}$\\nОтклонение: {np.std(money)}')\n",
    "print(f'Придется отдать: {np.mean(call_center)}$\\nОтклонение: {np.std(call_center)}')\n"
   ]
  },
  {
   "cell_type": "markdown",
   "metadata": {
    "id": "Da1x6u6wP75k"
   },
   "source": [
    "Внесем некоторую долю случайности. Пусть теперь согласный на условия клиент будет приносить не 10 долларов, а случайную величину, равномерно распределенную в интервале $[0;20)$. Проделайте все те же самые действия. Для имитации реальной ситуации **НЕ** фиксируйте `random_seed` при подсчете выручки с клиента. Что получилось?"
   ]
  },
  {
   "cell_type": "code",
   "execution_count": 164,
   "metadata": {
    "id": "0AKmJpRAP75k"
   },
   "outputs": [
    {
     "name": "stdout",
     "output_type": "stream",
     "text": [
      "В среднем мы заработаем: 2141.44893000345$\n",
      "Отклонение: 124.49151526821746\n",
      "Придется отдать: 324.2$\n",
      "Отклонение: 7.909487973314076\n"
     ]
    }
   ],
   "source": [
    "money = []\n",
    "call_center = []\n",
    "for train_ind, test_ind in kf.split(X):\n",
    "    X_train, X_test = X.iloc[train_ind], X.iloc[test_ind]\n",
    "    y_train, y_test = y.iloc[train_ind], y.iloc[test_ind]\n",
    "    X_train = column_transformer.fit_transform(X_train)\n",
    "    X_test = column_transformer.transform(X_test)\n",
    "    lr = LogisticRegression(max_iter=100000).fit(X_train, y_train)\n",
    "    y_pred_lr = lr.predict(X_test)\n",
    "    \n",
    "\n",
    "    positive = sum(y_test[y_pred_lr == True] * np.random.uniform(0,20, size = y_test[y_pred_lr == True].shape[0]))\n",
    "    to_worker = sum(y_pred_lr)\n",
    "    money.append(positive)\n",
    "    call_center.append(to_worker)\n",
    "    \n",
    "print(f'В среднем мы заработаем: {np.mean(money)}$\\nОтклонение: {np.std(money)}')\n",
    "print(f'Придется отдать: {np.mean(call_center)}$\\nОтклонение: {np.std(call_center)}')\n"
   ]
  },
  {
   "cell_type": "markdown",
   "metadata": {},
   "source": [
    "Получилась другая сумма). Нельзя точно сказать будет ли она меньше или больше. Разбор стал больше, это тоже логично, так как теперь сумма не фиксированная"
   ]
  },
  {
   "cell_type": "markdown",
   "metadata": {
    "id": "O1g9FPExP75k"
   },
   "source": [
    "Настройте по кросс-валидации коэффициент регуляризации модели для максимизации прибыли (считайте как случайную величину выше). Удалось ли получить какой-то выигрыш? При каком коэффициенте регуляризациии прибыль максимальна? Постройте график зависимости ожидаемой прибыли от коэффициента, укажите стандартные отклонения (вам поможет `plt.errorbar`, [пример](https://jakevdp.github.io/PythonDataScienceHandbook/04.03-errorbars.html))."
   ]
  },
  {
   "cell_type": "code",
   "execution_count": 172,
   "metadata": {
    "id": "YXx7qU5PP75l"
   },
   "outputs": [
    {
     "name": "stdout",
     "output_type": "stream",
     "text": [
      "C = 16.68100537200059\n",
      "Прибыль = 1863.5754699555\n"
     ]
    }
   ],
   "source": [
    "C_all = np.logspace(-5, 2, 10)\n",
    "best_c = -100\n",
    "profit = -100\n",
    "list_mn = []\n",
    "for C in C_all:\n",
    "    list_profit = []\n",
    "\n",
    "    for train_ind, test_ind in kf.split(X):\n",
    "        X_train, X_test = X.iloc[train_ind], X.iloc[test_ind]\n",
    "        y_train, y_test = y.iloc[train_ind], y.iloc[test_ind]\n",
    "        X_train = column_transformer.fit_transform(X_train)\n",
    "        X_test = column_transformer.transform(X_test)\n",
    "        lr = LogisticRegression(max_iter=100000, C = C).fit(X_train, y_train)\n",
    "        y_pred_lr = lr.predict(X_test)\n",
    "\n",
    "\n",
    "        positive = sum(y_test[y_pred_lr == True] * np.random.uniform(0,20, size = y_test[y_pred_lr == True].shape[0]))\n",
    "        to_worker = sum(y_pred_lr)\n",
    "        list_profit.append(positive - to_worker)\n",
    "        \n",
    "    mn_prof = np.mean(list_profit)\n",
    "    list_mn.append(np.mean(list_profit))\n",
    "    if mn_prof > profit:\n",
    "        profit = mn_prof\n",
    "        best_c = C\n",
    "            \n",
    "        \n",
    "    \n",
    "print(f'Лучший C = {best_c}')\n",
    "print(f'Прибыль = {profit}')\n"
   ]
  },
  {
   "cell_type": "code",
   "execution_count": 190,
   "metadata": {},
   "outputs": [
    {
     "data": {
      "image/png": "[encoded data removed]",
      "text/plain": [
       "<Figure size 720x432 with 1 Axes>"
      ]
     },
     "metadata": {
      "needs_background": "light"
     },
     "output_type": "display_data"
    }
   ],
   "source": [
    "plt.figure(figsize=(10, 6))\n",
    "plt.errorbar(C_all, list_mn, yerr=np.std(list_mn), fmt='-', color='orange',\n",
    "             ecolor='lightgray', elinewidth=3, capsize=1)\n",
    "plt.title('Зависимость прибыли от C')\n",
    "plt.xlabel('C')\n",
    "plt.ylabel('Прибыль')\n",
    "plt.xscale('log')\n",
    "plt.show()"
   ]
  },
  {
   "cell_type": "code",
   "execution_count": 188,
   "metadata": {},
   "outputs": [
    {
     "data": {
      "text/plain": [
       "1897.4354066658548"
      ]
     },
     "execution_count": 188,
     "metadata": {},
     "output_type": "execute_result"
    }
   ],
   "source": [
    "profit_base = 2141.44893000345 - 324.2\n",
    "profit"
   ]
  },
  {
   "cell_type": "markdown",
   "metadata": {},
   "source": [
    "Выигрыш не получился, так как 1863.5754699555 < 1897.4354066658548 (это наша прибыль в первом случае)"
   ]
  },
  {
   "cell_type": "markdown",
   "metadata": {
    "id": "sdptRdaIP75l"
   },
   "source": [
    "Попробуйте запустить перебор несколько раз. Находится ли каждый раз один и тот же \"лучший\" коэффициент? Присутствует ли какая-то закономерность? Какие вы можете сделать из этого выводы?"
   ]
  },
  {
   "cell_type": "code",
   "execution_count": 192,
   "metadata": {
    "id": "inD5UMbGP75l"
   },
   "outputs": [
    {
     "name": "stdout",
     "output_type": "stream",
     "text": [
      "Запуск 1:\n",
      "C = 2.782559402207126\n",
      "Прибыль = 1847.7672556164762\n",
      "\n"
     ]
    },
    {
     "data": {
      "image/png": "[encoded data removed]",
      "text/plain": [
       "<Figure size 720x432 with 1 Axes>"
      ]
     },
     "metadata": {
      "needs_background": "light"
     },
     "output_type": "display_data"
    },
    {
     "name": "stdout",
     "output_type": "stream",
     "text": [
      "Запуск 2:\n",
      "C = 16.68100537200059\n",
      "Прибыль = 1873.6089740248233\n",
      "\n"
     ]
    },
    {
     "data": {
      "image/png": "[encoded data removed]",
      "text/plain": [
       "<Figure size 720x432 with 1 Axes>"
      ]
     },
     "metadata": {
      "needs_background": "light"
     },
     "output_type": "display_data"
    },
    {
     "name": "stdout",
     "output_type": "stream",
     "text": [
      "Запуск 3:\n",
      "C = 100.0\n",
      "Прибыль = 1854.9739181471407\n",
      "\n"
     ]
    },
    {
     "data": {
      "image/png": "[encoded data removed]",
      "text/plain": [
       "<Figure size 720x432 with 1 Axes>"
      ]
     },
     "metadata": {
      "needs_background": "light"
     },
     "output_type": "display_data"
    },
    {
     "name": "stdout",
     "output_type": "stream",
     "text": [
      "Запуск 4:\n",
      "C = 16.68100537200059\n",
      "Прибыль = 1847.5826065420108\n",
      "\n"
     ]
    },
    {
     "data": {
      "image/png": "[encoded data removed]",
      "text/plain": [
       "<Figure size 720x432 with 1 Axes>"
      ]
     },
     "metadata": {
      "needs_background": "light"
     },
     "output_type": "display_data"
    },
    {
     "name": "stdout",
     "output_type": "stream",
     "text": [
      "Запуск 5:\n",
      "C = 100.0\n",
      "Прибыль = 1871.6407795230741\n",
      "\n"
     ]
    },
    {
     "data": {
      "image/png": "[encoded data removed]",
      "text/plain": [
       "<Figure size 720x432 with 1 Axes>"
      ]
     },
     "metadata": {
      "needs_background": "light"
     },
     "output_type": "display_data"
    },
    {
     "name": "stdout",
     "output_type": "stream",
     "text": [
      "Запуск 6:\n",
      "C = 0.4641588833612782\n",
      "Прибыль = 1854.5617373304897\n",
      "\n"
     ]
    },
    {
     "data": {
      "image/png": "[encoded data removed]",
      "text/plain": [
       "<Figure size 720x432 with 1 Axes>"
      ]
     },
     "metadata": {
      "needs_background": "light"
     },
     "output_type": "display_data"
    },
    {
     "name": "stdout",
     "output_type": "stream",
     "text": [
      "Запуск 7:\n",
      "C = 2.782559402207126\n",
      "Прибыль = 1820.19650470197\n",
      "\n"
     ]
    },
    {
     "data": {
      "image/png": "[encoded data removed]",
      "text/plain": [
       "<Figure size 720x432 with 1 Axes>"
      ]
     },
     "metadata": {
      "needs_background": "light"
     },
     "output_type": "display_data"
    },
    {
     "name": "stdout",
     "output_type": "stream",
     "text": [
      "Запуск 8:\n",
      "C = 2.782559402207126\n",
      "Прибыль = 1923.2842517352972\n",
      "\n"
     ]
    },
    {
     "data": {
      "image/png": "[encoded data removed]",
      "text/plain": [
       "<Figure size 720x432 with 1 Axes>"
      ]
     },
     "metadata": {
      "needs_background": "light"
     },
     "output_type": "display_data"
    },
    {
     "name": "stdout",
     "output_type": "stream",
     "text": [
      "Запуск 9:\n",
      "C = 100.0\n",
      "Прибыль = 1819.6516881701646\n",
      "\n"
     ]
    },
    {
     "data": {
      "image/png": "[encoded data removed]",
      "text/plain": [
       "<Figure size 720x432 with 1 Axes>"
      ]
     },
     "metadata": {
      "needs_background": "light"
     },
     "output_type": "display_data"
    },
    {
     "name": "stdout",
     "output_type": "stream",
     "text": [
      "Запуск 10:\n",
      "C = 16.68100537200059\n",
      "Прибыль = 1820.4978321995054\n",
      "\n"
     ]
    },
    {
     "data": {
      "image/png": "[encoded data removed]",
      "text/plain": [
       "<Figure size 720x432 with 1 Axes>"
      ]
     },
     "metadata": {
      "needs_background": "light"
     },
     "output_type": "display_data"
    }
   ],
   "source": [
    "C_all = np.logspace(-5, 2, 10)\n",
    "\n",
    "for i in range(10):\n",
    "    best_c = -100\n",
    "    profit = -100\n",
    "    list_mn = []\n",
    "    for C in C_all:\n",
    "        list_profit = []\n",
    "\n",
    "        for train_ind, test_ind in kf.split(X):\n",
    "            X_train, X_test = X.iloc[train_ind], X.iloc[test_ind]\n",
    "            y_train, y_test = y.iloc[train_ind], y.iloc[test_ind]\n",
    "            X_train = column_transformer.fit_transform(X_train)\n",
    "            X_test = column_transformer.transform(X_test)\n",
    "            lr = LogisticRegression(max_iter=100000, C = C).fit(X_train, y_train)\n",
    "            y_pred_lr = lr.predict(X_test)\n",
    "\n",
    "\n",
    "            positive = sum(y_test[y_pred_lr == True] * np.random.uniform(0,20, size = y_test[y_pred_lr == True].shape[0]))\n",
    "            to_worker = sum(y_pred_lr)\n",
    "            list_profit.append(positive - to_worker)\n",
    "\n",
    "        mn_prof = np.mean(list_profit)\n",
    "        list_mn.append(np.mean(list_profit))\n",
    "        if mn_prof > profit:\n",
    "            profit = mn_prof\n",
    "            best_c = C\n",
    "            \n",
    "        \n",
    "    print(f\"Запуск {i+1}:\")\n",
    "    print(f'C = {best_c}')\n",
    "    print(f'Прибыль = {profit}\\n')\n",
    "    plt.figure(figsize=(10, 6))\n",
    "    plt.errorbar(C_all, list_mn, yerr=np.std(list_mn), fmt='-', color='orange',\n",
    "                 ecolor='lightgray', elinewidth=3, capsize=1)\n",
    "    plt.title('Зависимость прибыли от C')\n",
    "    plt.xlabel('C')\n",
    "    plt.ylabel('Прибыль')\n",
    "    plt.xscale('log')\n",
    "    plt.show()\n",
    "    \n",
    "    "
   ]
  },
  {
   "cell_type": "markdown",
   "metadata": {},
   "source": [
    "Есть небольшая зависимость в том, что когда C доходит до 10^(-3), то дальше наблюдается рост прибыли с увеличением C не такой сильный, как до этого значения. Не всегда одно и то же лучшее значение С получается. \n",
    "\n",
    "Лучший профит получили при C = 2.782559402207126 (Прибыль = 1923.2842517352972). Но тут конечно же рандом присутсвует, так как не знаем сколько точно принесет нам один клиент"
   ]
  },
  {
   "cell_type": "markdown",
   "metadata": {
    "id": "J0j8HubaP75l"
   },
   "source": [
    "#### __Задание 13. Ключевая метрика__ (1 балл)\n",
    "\n",
    "Выше мы уже описали примерную экономическую модель вашей задачи. Как вы считаете, что для вашего бизнеса важнее — хороший precision или recall модели? Почему?\n",
    "\n",
    "__Ответ:__ Думаю важнее recall, так как нам лучше звонить тому, в ком мы лучше уверены. А recall показывает какую долю из всех, кто возьмет дипозит мы предсказали верно \n",
    "\n"
   ]
  },
  {
   "cell_type": "markdown",
   "metadata": {
    "id": "4LFRNnrtP75m"
   },
   "source": [
    "> Вспомним, что на самом деле логистическая регрессия предсказывает нам вероятности положительного класса для объекта. Возможно, путем настройки __порога бинаризации__ этих вероятностей мы сможем получить какой-то выигрыш?\n",
    "\n",
    "Проверьте ваши рассуждения выше с помощью настройки порога бинаризации на кросс-валидации для максимизации прибыли. Воспользуйтесь сеткой от 0 до 1 с шагом 0.01. Напомним, что снижение порога дает нам более высокий recall и более низкий precision, и наоборот."
   ]
  },
  {
   "cell_type": "code",
   "execution_count": 209,
   "metadata": {
    "id": "3ALl1YeBP75m"
   },
   "outputs": [
    {
     "name": "stderr",
     "output_type": "stream",
     "text": [
      "100%|██████████| 100/100 [08:45<00:00,  5.26s/it]"
     ]
    },
    {
     "name": "stdout",
     "output_type": "stream",
     "text": [
      "Лучший порог = 0.11\n",
      "Прибыль = 4339.518942752361\n"
     ]
    },
    {
     "name": "stderr",
     "output_type": "stream",
     "text": [
      "\n"
     ]
    }
   ],
   "source": [
    "best_threshold = -1\n",
    "profit = -100\n",
    "all_threshold = np.arange(0, 1, 0.01)\n",
    "list_mn = []\n",
    "for threshold in tqdm(all_threshold):\n",
    "    list_profit = []\n",
    "    for train_ind, test_ind in kf.split(X):\n",
    "            X_train, X_test = X.iloc[train_ind], X.iloc[test_ind]\n",
    "            y_train, y_test = y.iloc[train_ind], y.iloc[test_ind]\n",
    "            X_train = column_transformer.fit_transform(X_train)\n",
    "            X_test = column_transformer.transform(X_test)\n",
    "            lr = LogisticRegression(max_iter=100000, C = 2.782559402207126).fit(X_train, y_train)\n",
    "            y_pred_lr = lr.predict_proba(X_test)[:, 1]\n",
    "            y_pred_lr = y_pred_lr >= threshold\n",
    "\n",
    "\n",
    "\n",
    "            positive = sum(y_test[y_pred_lr == True] * np.random.uniform(0,20, size = y_test[y_pred_lr == True].shape[0]))\n",
    "            to_worker = sum(y_pred_lr)\n",
    "            list_profit.append(positive - to_worker)\n",
    "\n",
    "    mn_prof = np.mean(list_profit)\n",
    "    list_mn.append(np.mean(list_profit))\n",
    "    if mn_prof > profit:\n",
    "        profit = mn_prof\n",
    "        best_threshold = threshold\n",
    "        \n",
    "        \n",
    "print(f'Лучший порог = {best_threshold}')\n",
    "print(f'Прибыль = {profit}')"
   ]
  },
  {
   "cell_type": "markdown",
   "metadata": {
    "id": "fLL7uqb2P75m"
   },
   "source": [
    "Постройте график зависимости прибыли от порога бинаризации, также отметьте на нем стандартные отклонения. Выделите наилучший порог.\n",
    "\n",
    "\n"
   ]
  },
  {
   "cell_type": "code",
   "execution_count": 210,
   "metadata": {
    "id": "K2D3BkVsP75m"
   },
   "outputs": [
    {
     "data": {
      "image/png": "[encoded data removed]",
      "text/plain": [
       "<Figure size 720x432 with 1 Axes>"
      ]
     },
     "metadata": {
      "needs_background": "light"
     },
     "output_type": "display_data"
    }
   ],
   "source": [
    "plt.figure(figsize=(10, 6))\n",
    "plt.errorbar(all_threshold, list_mn, yerr=np.std(list_mn), fmt='-', color='orange',\n",
    "             ecolor='lightgray', elinewidth=3, capsize=1)\n",
    "plt.title('Зависимость прибыли от порога')\n",
    "plt.xlabel('Порог')\n",
    "plt.ylabel('Прибыль')\n",
    "plt.show()"
   ]
  },
  {
   "cell_type": "markdown",
   "metadata": {
    "id": "pjw2DImXXoFx"
   },
   "source": [
    "__Вопрос:__ Замечаете ли вы какую-то закономерность? Для правильного ответа на этот вопрос попробуйте запустить несколько раз и задумайтесь, почему порог получается в какой-то конкретной области?"
   ]
  },
  {
   "cell_type": "markdown",
   "metadata": {
    "id": "WfnHUQ7sXouL"
   },
   "source": [
    "__Ответ:__ Запускал несколько раз, порог в диапазоне 0.1 - 0.13. Это как раз-таки сходиться с моим предположением, что нам важнее recall. Лучший порог получился 0.11 (best_threshold)"
   ]
  },
  {
   "cell_type": "markdown",
   "metadata": {
    "id": "i7Ksl7b9P75m"
   },
   "source": [
    "Каковы значения precision и recall на выбранном пороге? Оцените по кросс-валидации. Также вычислите стандартное отклонение."
   ]
  },
  {
   "cell_type": "code",
   "execution_count": 215,
   "metadata": {
    "id": "i0fwjmYGP75n"
   },
   "outputs": [
    {
     "name": "stdout",
     "output_type": "stream",
     "text": [
      "Средний precision: 0.3372519641154056\n",
      "std precision: 0.012390415739275027\n",
      "\n",
      "Средний recall: 0.6420518700077229\n",
      "std recall: 0.02078450221130864\n"
     ]
    }
   ],
   "source": [
    "from sklearn.metrics import precision_score, recall_score\n",
    "\n",
    "list_profit = []\n",
    "precision = []\n",
    "recall = []\n",
    "for train_ind, test_ind in kf.split(X):\n",
    "        X_train, X_test = X.iloc[train_ind], X.iloc[test_ind]\n",
    "        y_train, y_test = y.iloc[train_ind], y.iloc[test_ind]\n",
    "        X_train = column_transformer.fit_transform(X_train)\n",
    "        X_test = column_transformer.transform(X_test)\n",
    "        \n",
    "        lr = LogisticRegression(max_iter=100000, C = 2.782559402207126).fit(X_train, y_train)\n",
    "        y_pred_lr = lr.predict_proba(X_test)[:, 1]\n",
    "        y_pred_lr = y_pred_lr >= best_threshold\n",
    "        \n",
    "        precision.append(precision_score(y_test, y_pred_lr))\n",
    "        recall.append(recall_score(y_test, y_pred_lr))\n",
    "\n",
    "print(f\"Средний precision: {np.mean(precision)}\\nstd precision: {np.std(precision)}\\n\")\n",
    "print(f\"Средний recall: {np.mean(recall)}\\nstd recall: {np.std(recall)}\")"
   ]
  },
  {
   "cell_type": "markdown",
   "metadata": {
    "id": "H4xmz6caP75n"
   },
   "source": [
    "Можно пронаблюдать, что наша модель склоняется к более высокому recall. Попробуйте оценить качество модели с помощью `PR-AUC` в зоне recall $\\geq$ 0.5. Сделайте это следующим образом:\n",
    "- выберите только те пороги, на которых достигается необходимый recall,\n",
    "- затем интерпретируйте отсеченный в единичном квадрате прямоугольник как новый единичный квадрат,\n",
    "- посчитайте площадь под отсеченной кривой"
   ]
  },
  {
   "cell_type": "code",
   "execution_count": 223,
   "metadata": {
    "id": "lbYWnxfgP75n"
   },
   "outputs": [
    {
     "name": "stderr",
     "output_type": "stream",
     "text": [
      " 25%|██▌       | 25/100 [02:22<07:07,  5.69s/it]"
     ]
    },
    {
     "name": "stdout",
     "output_type": "stream",
     "text": [
      "PR-AUC:0.4101762639479671\n"
     ]
    },
    {
     "name": "stderr",
     "output_type": "stream",
     "text": [
      "\n"
     ]
    }
   ],
   "source": [
    "all_threshold = np.arange(0, 1, 0.01)\n",
    "prec_mn = []\n",
    "rec_mn = []\n",
    "for threshold in tqdm(all_threshold):\n",
    "    precision = []\n",
    "    recall = []\n",
    "    for train_ind, test_ind in kf.split(X):\n",
    "            X_train, X_test = X.iloc[train_ind], X.iloc[test_ind]\n",
    "            y_train, y_test = y.iloc[train_ind], y.iloc[test_ind]\n",
    "            X_train = column_transformer.fit_transform(X_train)\n",
    "            X_test = column_transformer.transform(X_test)\n",
    "\n",
    "            lr = LogisticRegression(max_iter=100000, C = 2.782559402207126).fit(X_train, y_train)\n",
    "            y_pred_lr = lr.predict_proba(X_test)[:, 1]\n",
    "            y_pred_lr = y_pred_lr >= threshold\n",
    "\n",
    "            precision.append(precision_score(y_test, y_pred_lr))\n",
    "            recall.append(recall_score(y_test, y_pred_lr))\n",
    "    \n",
    "    mean_recall = np.mean(recall)\n",
    "    prec_mn.append(np.mean(precision))\n",
    "    rec_mn.append(mean_recall)\n",
    "    if mean_recall < 0.5:\n",
    "        break\n",
    "        \n",
    "prec_mn = np.array(prec_mn) \n",
    "rec_mn = np.array(rec_mn) \n",
    "\n",
    "ans_prec = (prec_mn - np.min(prec_mn)) / (np.max(prec_mn) - np.min(prec_mn))\n",
    "ans_rec = (rec_mn - np.min(rec_mn)) / (np.max(rec_mn) - np.min(rec_mn))\n",
    "answer = auc(ans_rec, ans_prec)\n",
    "\n",
    "print(f\"PR-AUC:{answer}\")"
   ]
  },
  {
   "cell_type": "markdown",
   "metadata": {
    "id": "ACYk14eyP75n"
   },
   "source": [
    "__Бонус (0.01 балла):__ что вы кушали в день сдачи данного ДЗ на завтрак?\n",
    "\n",
    "__Ответ:__ Кофеечек с сырничками, а еще sour gummy worms (хорошая кстати)"
   ]
  },
  {
   "cell_type": "code",
   "execution_count": null,
   "metadata": {},
   "outputs": [],
   "source": []
  }
 ],
 "metadata": {
  "colab": {
   "collapsed_sections": [
    "xvhLtt4OP75Q",
    "RvWzOe4wP75T",
    "4VbJR0e3P75U"
   ],
   "provenance": []
  },
  "kaggle": {
   "accelerator": "none",
   "dataSources": [
    {
     "datasetId": 3997510,
     "sourceId": 6959123,
     "sourceType": "datasetVersion"
    }
   ],
   "dockerImageVersionId": 30579,
   "isGpuEnabled": false,
   "isInternetEnabled": true,
   "language": "python",
   "sourceType": "notebook"
  },
  "kernelspec": {
   "display_name": "Python 3",
   "language": "python",
   "name": "python3"
  },
  "language_info": {
   "codemirror_mode": {
    "name": "ipython",
    "version": 3
   },
   "file_extension": ".py",
   "mimetype": "text/x-python",
   "name": "python",
   "nbconvert_exporter": "python",
   "pygments_lexer": "ipython3",
   "version": "3.8.8"
  }
 },
 "nbformat": 4,
 "nbformat_minor": 4
}
